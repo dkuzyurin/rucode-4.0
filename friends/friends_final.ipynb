{
 "cells": [
  {
   "cell_type": "code",
   "execution_count": 43,
   "metadata": {},
   "outputs": [],
   "source": [
    "import pandas as pd\n",
    "import numpy as np\n",
    "import matplotlib.pyplot as plt\n",
    "import seaborn as sns\n",
    "from tqdm.notebook import tqdm_notebook\n",
    "\n",
    "from sklearn.model_selection import train_test_split\n",
    "from sklearn.metrics import accuracy_score\n",
    "from scipy.sparse import hstack\n",
    "\n",
    "from catboost import CatBoostClassifier\n",
    "\n",
    "PATH = 'D:\\\\DA\\\\RuCode\\\\Friends\\\\'\n",
    "\n",
    "SEED = 42"
   ]
  },
  {
   "cell_type": "markdown",
   "metadata": {},
   "source": [
    "# 1. Чтение и анализ данных"
   ]
  },
  {
   "cell_type": "code",
   "execution_count": 3,
   "metadata": {},
   "outputs": [
    {
     "data": {
      "text/html": [
       "<div>\n",
       "<style scoped>\n",
       "    .dataframe tbody tr th:only-of-type {\n",
       "        vertical-align: middle;\n",
       "    }\n",
       "\n",
       "    .dataframe tbody tr th {\n",
       "        vertical-align: top;\n",
       "    }\n",
       "\n",
       "    .dataframe thead th {\n",
       "        text-align: right;\n",
       "    }\n",
       "</style>\n",
       "<table border=\"1\" class=\"dataframe\">\n",
       "  <thead>\n",
       "    <tr style=\"text-align: right;\">\n",
       "      <th></th>\n",
       "      <th>other_speaker</th>\n",
       "      <th>friend_response</th>\n",
       "      <th>Category</th>\n",
       "    </tr>\n",
       "    <tr>\n",
       "      <th>Id</th>\n",
       "      <th></th>\n",
       "      <th></th>\n",
       "      <th></th>\n",
       "    </tr>\n",
       "  </thead>\n",
       "  <tbody>\n",
       "    <tr>\n",
       "      <th>0</th>\n",
       "      <td>Хорошо! Все в порядке! Достаточно! Достаточно!...</td>\n",
       "      <td>Знаешь, я думаю, ты сможешь ее забрать.</td>\n",
       "      <td>ЧЕНДЛЕР</td>\n",
       "    </tr>\n",
       "    <tr>\n",
       "      <th>1</th>\n",
       "      <td>О, хочешь доброго имени, иди с Джоуи. Джои тво...</td>\n",
       "      <td>Эй, знаешь что, если ты собираешься это сделат...</td>\n",
       "      <td>ЧЕНДЛЕР</td>\n",
       "    </tr>\n",
       "    <tr>\n",
       "      <th>2</th>\n",
       "      <td>Боже мой, что!?</td>\n",
       "      <td>Как я уже сказал, я подумывал отвести Эмму в м...</td>\n",
       "      <td>РОСС</td>\n",
       "    </tr>\n",
       "    <tr>\n",
       "      <th>3</th>\n",
       "      <td>Беременность тяжело сказывается на животе.</td>\n",
       "      <td>Эй, но хоть ты получил это крутое сияние берем...</td>\n",
       "      <td>ДЖОУИ</td>\n",
       "    </tr>\n",
       "    <tr>\n",
       "      <th>4</th>\n",
       "      <td>Ладно, нет, это неправильное решение. Это не т...</td>\n",
       "      <td>Ладно, послушайте, вчера я бы даже подумал пер...</td>\n",
       "      <td>РОСС</td>\n",
       "    </tr>\n",
       "  </tbody>\n",
       "</table>\n",
       "</div>"
      ],
      "text/plain": [
       "                                        other_speaker  \\\n",
       "Id                                                      \n",
       "0   Хорошо! Все в порядке! Достаточно! Достаточно!...   \n",
       "1   О, хочешь доброго имени, иди с Джоуи. Джои тво...   \n",
       "2                                     Боже мой, что!?   \n",
       "3          Беременность тяжело сказывается на животе.   \n",
       "4   Ладно, нет, это неправильное решение. Это не т...   \n",
       "\n",
       "                                      friend_response Category  \n",
       "Id                                                              \n",
       "0             Знаешь, я думаю, ты сможешь ее забрать.  ЧЕНДЛЕР  \n",
       "1   Эй, знаешь что, если ты собираешься это сделат...  ЧЕНДЛЕР  \n",
       "2   Как я уже сказал, я подумывал отвести Эмму в м...     РОСС  \n",
       "3   Эй, но хоть ты получил это крутое сияние берем...    ДЖОУИ  \n",
       "4   Ладно, послушайте, вчера я бы даже подумал пер...     РОСС  "
      ]
     },
     "execution_count": 3,
     "metadata": {},
     "output_type": "execute_result"
    }
   ],
   "source": [
    "data_train = pd.read_csv(PATH + 'train_data.csv', index_col=0)\n",
    "data_train.head()"
   ]
  },
  {
   "cell_type": "code",
   "execution_count": 4,
   "metadata": {},
   "outputs": [
    {
     "data": {
      "text/html": [
       "<div>\n",
       "<style scoped>\n",
       "    .dataframe tbody tr th:only-of-type {\n",
       "        vertical-align: middle;\n",
       "    }\n",
       "\n",
       "    .dataframe tbody tr th {\n",
       "        vertical-align: top;\n",
       "    }\n",
       "\n",
       "    .dataframe thead th {\n",
       "        text-align: right;\n",
       "    }\n",
       "</style>\n",
       "<table border=\"1\" class=\"dataframe\">\n",
       "  <thead>\n",
       "    <tr style=\"text-align: right;\">\n",
       "      <th></th>\n",
       "      <th>other_speaker</th>\n",
       "      <th>friend_response</th>\n",
       "      <th>label</th>\n",
       "    </tr>\n",
       "    <tr>\n",
       "      <th>Id</th>\n",
       "      <th></th>\n",
       "      <th></th>\n",
       "      <th></th>\n",
       "    </tr>\n",
       "  </thead>\n",
       "  <tbody>\n",
       "    <tr>\n",
       "      <th>0</th>\n",
       "      <td>Ладно, а мы вообще не обедаем?</td>\n",
       "      <td>Давай, пора стать серьезным, сбиться с толку. ...</td>\n",
       "      <td>МОНИКА</td>\n",
       "    </tr>\n",
       "    <tr>\n",
       "      <th>1</th>\n",
       "      <td>Ладно, ладно, послушай, я знаю, что сегодня ве...</td>\n",
       "      <td>Ладно, вот и все! Слезь с нее!</td>\n",
       "      <td>РОСС</td>\n",
       "    </tr>\n",
       "    <tr>\n",
       "      <th>2</th>\n",
       "      <td>Ага. Знаешь, у меня есть все эти чувства, и я ...</td>\n",
       "      <td>Хорошо, я видела довольно большого голубя.</td>\n",
       "      <td>ДЖОУИ</td>\n",
       "    </tr>\n",
       "    <tr>\n",
       "      <th>3</th>\n",
       "      <td>Боже мой! один пару минут назад, а теперь я.</td>\n",
       "      <td>Постой, ты не можешь здесь рожать! То есть я н...</td>\n",
       "      <td>МОНИКА</td>\n",
       "    </tr>\n",
       "    <tr>\n",
       "      <th>4</th>\n",
       "      <td>Не такой, как он сам по себе, просто не такой,...</td>\n",
       "      <td>Посмотрите, это художник, ранее известный как ...</td>\n",
       "      <td>РОСС</td>\n",
       "    </tr>\n",
       "  </tbody>\n",
       "</table>\n",
       "</div>"
      ],
      "text/plain": [
       "                                        other_speaker  \\\n",
       "Id                                                      \n",
       "0                      Ладно, а мы вообще не обедаем?   \n",
       "1   Ладно, ладно, послушай, я знаю, что сегодня ве...   \n",
       "2   Ага. Знаешь, у меня есть все эти чувства, и я ...   \n",
       "3        Боже мой! один пару минут назад, а теперь я.   \n",
       "4   Не такой, как он сам по себе, просто не такой,...   \n",
       "\n",
       "                                      friend_response   label  \n",
       "Id                                                             \n",
       "0   Давай, пора стать серьезным, сбиться с толку. ...  МОНИКА  \n",
       "1                      Ладно, вот и все! Слезь с нее!    РОСС  \n",
       "2          Хорошо, я видела довольно большого голубя.   ДЖОУИ  \n",
       "3   Постой, ты не можешь здесь рожать! То есть я н...  МОНИКА  \n",
       "4   Посмотрите, это художник, ранее известный как ...    РОСС  "
      ]
     },
     "execution_count": 4,
     "metadata": {},
     "output_type": "execute_result"
    }
   ],
   "source": [
    "data_val = pd.read_csv(PATH + 'val_data.csv', index_col=0)\n",
    "data_val.head()"
   ]
  },
  {
   "cell_type": "code",
   "execution_count": 5,
   "metadata": {},
   "outputs": [
    {
     "data": {
      "text/html": [
       "<div>\n",
       "<style scoped>\n",
       "    .dataframe tbody tr th:only-of-type {\n",
       "        vertical-align: middle;\n",
       "    }\n",
       "\n",
       "    .dataframe tbody tr th {\n",
       "        vertical-align: top;\n",
       "    }\n",
       "\n",
       "    .dataframe thead th {\n",
       "        text-align: right;\n",
       "    }\n",
       "</style>\n",
       "<table border=\"1\" class=\"dataframe\">\n",
       "  <thead>\n",
       "    <tr style=\"text-align: right;\">\n",
       "      <th></th>\n",
       "      <th>other_speaker</th>\n",
       "      <th>friend_response</th>\n",
       "    </tr>\n",
       "    <tr>\n",
       "      <th>Id</th>\n",
       "      <th></th>\n",
       "      <th></th>\n",
       "    </tr>\n",
       "  </thead>\n",
       "  <tbody>\n",
       "    <tr>\n",
       "      <th>0</th>\n",
       "      <td>Но я безработный, моя музыка - это все, что у ...</td>\n",
       "      <td>Меня застрелят. Любой совет?</td>\n",
       "    </tr>\n",
       "    <tr>\n",
       "      <th>1</th>\n",
       "      <td>Посмотри. Пятьсот семнадцать коробок!</td>\n",
       "      <td>Боже мой, как ты это сделал?</td>\n",
       "    </tr>\n",
       "    <tr>\n",
       "      <th>2</th>\n",
       "      <td>Хорошо. Хорошо. Помогло бы, если бы я подошел ...</td>\n",
       "      <td>Это было бы очень полезно!</td>\n",
       "    </tr>\n",
       "    <tr>\n",
       "      <th>3</th>\n",
       "      <td>Росс, чего ты так долго?</td>\n",
       "      <td>Простите, это как будто не для быстрого отдыха!</td>\n",
       "    </tr>\n",
       "    <tr>\n",
       "      <th>4</th>\n",
       "      <td>Так кто ты?</td>\n",
       "      <td>Ну, наши имена действительно Моника и Чендлер....</td>\n",
       "    </tr>\n",
       "  </tbody>\n",
       "</table>\n",
       "</div>"
      ],
      "text/plain": [
       "                                        other_speaker  \\\n",
       "Id                                                      \n",
       "0   Но я безработный, моя музыка - это все, что у ...   \n",
       "1               Посмотри. Пятьсот семнадцать коробок!   \n",
       "2   Хорошо. Хорошо. Помогло бы, если бы я подошел ...   \n",
       "3                            Росс, чего ты так долго?   \n",
       "4                                         Так кто ты?   \n",
       "\n",
       "                                      friend_response  \n",
       "Id                                                     \n",
       "0                        Меня застрелят. Любой совет?  \n",
       "1                        Боже мой, как ты это сделал?  \n",
       "2                          Это было бы очень полезно!  \n",
       "3     Простите, это как будто не для быстрого отдыха!  \n",
       "4   Ну, наши имена действительно Моника и Чендлер....  "
      ]
     },
     "execution_count": 5,
     "metadata": {},
     "output_type": "execute_result"
    }
   ],
   "source": [
    "data_test = pd.read_csv(PATH + 'test.csv', index_col=0)\n",
    "data_test.head()"
   ]
  },
  {
   "cell_type": "code",
   "execution_count": 6,
   "metadata": {},
   "outputs": [
    {
     "data": {
      "text/plain": [
       "((24993, 3), (2778, 3), (3086, 2))"
      ]
     },
     "execution_count": 6,
     "metadata": {},
     "output_type": "execute_result"
    }
   ],
   "source": [
    "data_train.shape, data_val.shape, data_test.shape"
   ]
  },
  {
   "cell_type": "markdown",
   "metadata": {},
   "source": [
    "Объединим учебную и валидационную выборки:"
   ]
  },
  {
   "cell_type": "code",
   "execution_count": 7,
   "metadata": {},
   "outputs": [
    {
     "data": {
      "text/html": [
       "<div>\n",
       "<style scoped>\n",
       "    .dataframe tbody tr th:only-of-type {\n",
       "        vertical-align: middle;\n",
       "    }\n",
       "\n",
       "    .dataframe tbody tr th {\n",
       "        vertical-align: top;\n",
       "    }\n",
       "\n",
       "    .dataframe thead th {\n",
       "        text-align: right;\n",
       "    }\n",
       "</style>\n",
       "<table border=\"1\" class=\"dataframe\">\n",
       "  <thead>\n",
       "    <tr style=\"text-align: right;\">\n",
       "      <th></th>\n",
       "      <th>other_speaker</th>\n",
       "      <th>friend_response</th>\n",
       "      <th>label</th>\n",
       "    </tr>\n",
       "    <tr>\n",
       "      <th>Id</th>\n",
       "      <th></th>\n",
       "      <th></th>\n",
       "      <th></th>\n",
       "    </tr>\n",
       "  </thead>\n",
       "  <tbody>\n",
       "    <tr>\n",
       "      <th>0</th>\n",
       "      <td>Хорошо! Все в порядке! Достаточно! Достаточно!...</td>\n",
       "      <td>Знаешь, я думаю, ты сможешь ее забрать.</td>\n",
       "      <td>ЧЕНДЛЕР</td>\n",
       "    </tr>\n",
       "    <tr>\n",
       "      <th>1</th>\n",
       "      <td>О, хочешь доброго имени, иди с Джоуи. Джои тво...</td>\n",
       "      <td>Эй, знаешь что, если ты собираешься это сделат...</td>\n",
       "      <td>ЧЕНДЛЕР</td>\n",
       "    </tr>\n",
       "    <tr>\n",
       "      <th>2</th>\n",
       "      <td>Боже мой, что!?</td>\n",
       "      <td>Как я уже сказал, я подумывал отвести Эмму в м...</td>\n",
       "      <td>РОСС</td>\n",
       "    </tr>\n",
       "    <tr>\n",
       "      <th>3</th>\n",
       "      <td>Беременность тяжело сказывается на животе.</td>\n",
       "      <td>Эй, но хоть ты получил это крутое сияние берем...</td>\n",
       "      <td>ДЖОУИ</td>\n",
       "    </tr>\n",
       "    <tr>\n",
       "      <th>4</th>\n",
       "      <td>Ладно, нет, это неправильное решение. Это не т...</td>\n",
       "      <td>Ладно, послушайте, вчера я бы даже подумал пер...</td>\n",
       "      <td>РОСС</td>\n",
       "    </tr>\n",
       "  </tbody>\n",
       "</table>\n",
       "</div>"
      ],
      "text/plain": [
       "                                        other_speaker  \\\n",
       "Id                                                      \n",
       "0   Хорошо! Все в порядке! Достаточно! Достаточно!...   \n",
       "1   О, хочешь доброго имени, иди с Джоуи. Джои тво...   \n",
       "2                                     Боже мой, что!?   \n",
       "3          Беременность тяжело сказывается на животе.   \n",
       "4   Ладно, нет, это неправильное решение. Это не т...   \n",
       "\n",
       "                                      friend_response    label  \n",
       "Id                                                              \n",
       "0             Знаешь, я думаю, ты сможешь ее забрать.  ЧЕНДЛЕР  \n",
       "1   Эй, знаешь что, если ты собираешься это сделат...  ЧЕНДЛЕР  \n",
       "2   Как я уже сказал, я подумывал отвести Эмму в м...     РОСС  \n",
       "3   Эй, но хоть ты получил это крутое сияние берем...    ДЖОУИ  \n",
       "4   Ладно, послушайте, вчера я бы даже подумал пер...     РОСС  "
      ]
     },
     "execution_count": 7,
     "metadata": {},
     "output_type": "execute_result"
    }
   ],
   "source": [
    "data_all = pd.concat((data_train.rename(columns={'Category': 'label'}), data_val))\n",
    "data_all.head()"
   ]
  },
  {
   "cell_type": "code",
   "execution_count": 8,
   "metadata": {},
   "outputs": [
    {
     "data": {
      "text/plain": [
       "(27771, 3)"
      ]
     },
     "execution_count": 8,
     "metadata": {},
     "output_type": "execute_result"
    }
   ],
   "source": [
    "data_all.shape"
   ]
  },
  {
   "cell_type": "markdown",
   "metadata": {},
   "source": [
    "Посмотрим на распределение классов в объединенной выборке:"
   ]
  },
  {
   "cell_type": "code",
   "execution_count": 11,
   "metadata": {},
   "outputs": [
    {
     "data": {
      "image/png": "[encoded data removed]",
      "text/plain": [
       "<Figure size 432x288 with 1 Axes>"
      ]
     },
     "metadata": {
      "needs_background": "light"
     },
     "output_type": "display_data"
    }
   ],
   "source": [
    "plt.bar(x=data_all['label'].value_counts().index, height=data_all['label'].value_counts().values);\n",
    "plt.title('Распределение классов');"
   ]
  },
  {
   "cell_type": "markdown",
   "metadata": {},
   "source": [
    "Сделаем Label Encoding для меток классов:"
   ]
  },
  {
   "cell_type": "code",
   "execution_count": 13,
   "metadata": {},
   "outputs": [],
   "source": [
    "from sklearn.preprocessing import LabelEncoder\n",
    "le = LabelEncoder()\n",
    "data_all['label'] = le.fit_transform(data_all['label'])"
   ]
  },
  {
   "cell_type": "code",
   "execution_count": 14,
   "metadata": {},
   "outputs": [
    {
     "data": {
      "text/html": [
       "<div>\n",
       "<style scoped>\n",
       "    .dataframe tbody tr th:only-of-type {\n",
       "        vertical-align: middle;\n",
       "    }\n",
       "\n",
       "    .dataframe tbody tr th {\n",
       "        vertical-align: top;\n",
       "    }\n",
       "\n",
       "    .dataframe thead th {\n",
       "        text-align: right;\n",
       "    }\n",
       "</style>\n",
       "<table border=\"1\" class=\"dataframe\">\n",
       "  <thead>\n",
       "    <tr style=\"text-align: right;\">\n",
       "      <th></th>\n",
       "      <th>other_speaker</th>\n",
       "      <th>friend_response</th>\n",
       "      <th>label</th>\n",
       "    </tr>\n",
       "    <tr>\n",
       "      <th>Id</th>\n",
       "      <th></th>\n",
       "      <th></th>\n",
       "      <th></th>\n",
       "    </tr>\n",
       "  </thead>\n",
       "  <tbody>\n",
       "    <tr>\n",
       "      <th>0</th>\n",
       "      <td>Хорошо! Все в порядке! Достаточно! Достаточно!...</td>\n",
       "      <td>Знаешь, я думаю, ты сможешь ее забрать.</td>\n",
       "      <td>5</td>\n",
       "    </tr>\n",
       "    <tr>\n",
       "      <th>1</th>\n",
       "      <td>О, хочешь доброго имени, иди с Джоуи. Джои тво...</td>\n",
       "      <td>Эй, знаешь что, если ты собираешься это сделат...</td>\n",
       "      <td>5</td>\n",
       "    </tr>\n",
       "    <tr>\n",
       "      <th>2</th>\n",
       "      <td>Боже мой, что!?</td>\n",
       "      <td>Как я уже сказал, я подумывал отвести Эмму в м...</td>\n",
       "      <td>3</td>\n",
       "    </tr>\n",
       "    <tr>\n",
       "      <th>3</th>\n",
       "      <td>Беременность тяжело сказывается на животе.</td>\n",
       "      <td>Эй, но хоть ты получил это крутое сияние берем...</td>\n",
       "      <td>0</td>\n",
       "    </tr>\n",
       "    <tr>\n",
       "      <th>4</th>\n",
       "      <td>Ладно, нет, это неправильное решение. Это не т...</td>\n",
       "      <td>Ладно, послушайте, вчера я бы даже подумал пер...</td>\n",
       "      <td>3</td>\n",
       "    </tr>\n",
       "  </tbody>\n",
       "</table>\n",
       "</div>"
      ],
      "text/plain": [
       "                                        other_speaker  \\\n",
       "Id                                                      \n",
       "0   Хорошо! Все в порядке! Достаточно! Достаточно!...   \n",
       "1   О, хочешь доброго имени, иди с Джоуи. Джои тво...   \n",
       "2                                     Боже мой, что!?   \n",
       "3          Беременность тяжело сказывается на животе.   \n",
       "4   Ладно, нет, это неправильное решение. Это не т...   \n",
       "\n",
       "                                      friend_response  label  \n",
       "Id                                                            \n",
       "0             Знаешь, я думаю, ты сможешь ее забрать.      5  \n",
       "1   Эй, знаешь что, если ты собираешься это сделат...      5  \n",
       "2   Как я уже сказал, я подумывал отвести Эмму в м...      3  \n",
       "3   Эй, но хоть ты получил это крутое сияние берем...      0  \n",
       "4   Ладно, послушайте, вчера я бы даже подумал пер...      3  "
      ]
     },
     "execution_count": 14,
     "metadata": {},
     "output_type": "execute_result"
    }
   ],
   "source": [
    "data_all.head()"
   ]
  },
  {
   "cell_type": "markdown",
   "metadata": {},
   "source": [
    "# 2. Генерация новых признаков"
   ]
  },
  {
   "cell_type": "markdown",
   "metadata": {},
   "source": [
    "Проверим, есть ли совпадающие реплики в other_speaker и friend_response, которые позволят нам определить автора реплики other_speaker:"
   ]
  },
  {
   "cell_type": "code",
   "execution_count": 23,
   "metadata": {},
   "outputs": [
    {
     "name": "stdout",
     "output_type": "stream",
     "text": [
      "Количество пересечений: 10776\n"
     ]
    }
   ],
   "source": [
    "friend_responses = set(data_all['friend_response'].unique())\n",
    "other_speakers = set(data_all['other_speaker'].unique()).union(set(data_test['other_speaker'].unique()))\n",
    "\n",
    "print('Количество пересечений:', len(friend_responses & other_speakers))"
   ]
  },
  {
   "cell_type": "markdown",
   "metadata": {},
   "source": [
    "Т.е. в 10776 случаях нам точно известен автор реплики из колонки other_speaker. Добавим информацию об авторе реплики other_speaker в наш датасет:"
   ]
  },
  {
   "cell_type": "code",
   "execution_count": 24,
   "metadata": {},
   "outputs": [
    {
     "data": {
      "text/html": [
       "<div>\n",
       "<style scoped>\n",
       "    .dataframe tbody tr th:only-of-type {\n",
       "        vertical-align: middle;\n",
       "    }\n",
       "\n",
       "    .dataframe tbody tr th {\n",
       "        vertical-align: top;\n",
       "    }\n",
       "\n",
       "    .dataframe thead th {\n",
       "        text-align: right;\n",
       "    }\n",
       "</style>\n",
       "<table border=\"1\" class=\"dataframe\">\n",
       "  <thead>\n",
       "    <tr style=\"text-align: right;\">\n",
       "      <th></th>\n",
       "      <th>other_speaker</th>\n",
       "      <th>other_speaker_label</th>\n",
       "    </tr>\n",
       "    <tr>\n",
       "      <th>Id</th>\n",
       "      <th></th>\n",
       "      <th></th>\n",
       "    </tr>\n",
       "  </thead>\n",
       "  <tbody>\n",
       "    <tr>\n",
       "      <th>0</th>\n",
       "      <td>Знаешь, я думаю, ты сможешь ее забрать.</td>\n",
       "      <td>5</td>\n",
       "    </tr>\n",
       "    <tr>\n",
       "      <th>1</th>\n",
       "      <td>Эй, знаешь что, если ты собираешься это сделат...</td>\n",
       "      <td>5</td>\n",
       "    </tr>\n",
       "    <tr>\n",
       "      <th>2</th>\n",
       "      <td>Как я уже сказал, я подумывал отвести Эмму в м...</td>\n",
       "      <td>3</td>\n",
       "    </tr>\n",
       "    <tr>\n",
       "      <th>3</th>\n",
       "      <td>Эй, но хоть ты получил это крутое сияние берем...</td>\n",
       "      <td>0</td>\n",
       "    </tr>\n",
       "    <tr>\n",
       "      <th>4</th>\n",
       "      <td>Ладно, послушайте, вчера я бы даже подумал пер...</td>\n",
       "      <td>3</td>\n",
       "    </tr>\n",
       "  </tbody>\n",
       "</table>\n",
       "</div>"
      ],
      "text/plain": [
       "                                        other_speaker  other_speaker_label\n",
       "Id                                                                        \n",
       "0             Знаешь, я думаю, ты сможешь ее забрать.                    5\n",
       "1   Эй, знаешь что, если ты собираешься это сделат...                    5\n",
       "2   Как я уже сказал, я подумывал отвести Эмму в м...                    3\n",
       "3   Эй, но хоть ты получил это крутое сияние берем...                    0\n",
       "4   Ладно, послушайте, вчера я бы даже подумал пер...                    3"
      ]
     },
     "execution_count": 24,
     "metadata": {},
     "output_type": "execute_result"
    }
   ],
   "source": [
    "data_resp = data_all[['friend_response', 'label']].copy()\n",
    "data_resp.columns = ['other_speaker', 'other_speaker_label']\n",
    "data_resp.head()"
   ]
  },
  {
   "cell_type": "code",
   "execution_count": 25,
   "metadata": {},
   "outputs": [],
   "source": [
    "data_all = data_all.merge(data_resp, on='other_speaker', how='left')\n",
    "data_all['other_speaker_label'] = data_all['other_speaker_label'].fillna(-1).astype(int)\n",
    "\n",
    "data_test = data_test.merge(data_resp, on='other_speaker', how='left')\n",
    "data_test['other_speaker_label'] = data_test['other_speaker_label'].fillna(-1).astype(int)"
   ]
  },
  {
   "cell_type": "code",
   "execution_count": 26,
   "metadata": {},
   "outputs": [
    {
     "data": {
      "text/html": [
       "<div>\n",
       "<style scoped>\n",
       "    .dataframe tbody tr th:only-of-type {\n",
       "        vertical-align: middle;\n",
       "    }\n",
       "\n",
       "    .dataframe tbody tr th {\n",
       "        vertical-align: top;\n",
       "    }\n",
       "\n",
       "    .dataframe thead th {\n",
       "        text-align: right;\n",
       "    }\n",
       "</style>\n",
       "<table border=\"1\" class=\"dataframe\">\n",
       "  <thead>\n",
       "    <tr style=\"text-align: right;\">\n",
       "      <th></th>\n",
       "      <th>other_speaker</th>\n",
       "      <th>friend_response</th>\n",
       "      <th>label</th>\n",
       "      <th>other_speaker_label</th>\n",
       "    </tr>\n",
       "  </thead>\n",
       "  <tbody>\n",
       "    <tr>\n",
       "      <th>0</th>\n",
       "      <td>Хорошо! Все в порядке! Достаточно! Достаточно!...</td>\n",
       "      <td>Знаешь, я думаю, ты сможешь ее забрать.</td>\n",
       "      <td>5</td>\n",
       "      <td>-1</td>\n",
       "    </tr>\n",
       "    <tr>\n",
       "      <th>1</th>\n",
       "      <td>О, хочешь доброго имени, иди с Джоуи. Джои тво...</td>\n",
       "      <td>Эй, знаешь что, если ты собираешься это сделат...</td>\n",
       "      <td>5</td>\n",
       "      <td>-1</td>\n",
       "    </tr>\n",
       "    <tr>\n",
       "      <th>2</th>\n",
       "      <td>Боже мой, что!?</td>\n",
       "      <td>Как я уже сказал, я подумывал отвести Эмму в м...</td>\n",
       "      <td>3</td>\n",
       "      <td>-1</td>\n",
       "    </tr>\n",
       "    <tr>\n",
       "      <th>3</th>\n",
       "      <td>Беременность тяжело сказывается на животе.</td>\n",
       "      <td>Эй, но хоть ты получил это крутое сияние берем...</td>\n",
       "      <td>0</td>\n",
       "      <td>4</td>\n",
       "    </tr>\n",
       "    <tr>\n",
       "      <th>4</th>\n",
       "      <td>Ладно, нет, это неправильное решение. Это не т...</td>\n",
       "      <td>Ладно, послушайте, вчера я бы даже подумал пер...</td>\n",
       "      <td>3</td>\n",
       "      <td>2</td>\n",
       "    </tr>\n",
       "  </tbody>\n",
       "</table>\n",
       "</div>"
      ],
      "text/plain": [
       "                                       other_speaker  \\\n",
       "0  Хорошо! Все в порядке! Достаточно! Достаточно!...   \n",
       "1  О, хочешь доброго имени, иди с Джоуи. Джои тво...   \n",
       "2                                    Боже мой, что!?   \n",
       "3         Беременность тяжело сказывается на животе.   \n",
       "4  Ладно, нет, это неправильное решение. Это не т...   \n",
       "\n",
       "                                     friend_response  label  \\\n",
       "0            Знаешь, я думаю, ты сможешь ее забрать.      5   \n",
       "1  Эй, знаешь что, если ты собираешься это сделат...      5   \n",
       "2  Как я уже сказал, я подумывал отвести Эмму в м...      3   \n",
       "3  Эй, но хоть ты получил это крутое сияние берем...      0   \n",
       "4  Ладно, послушайте, вчера я бы даже подумал пер...      3   \n",
       "\n",
       "   other_speaker_label  \n",
       "0                   -1  \n",
       "1                   -1  \n",
       "2                   -1  \n",
       "3                    4  \n",
       "4                    2  "
      ]
     },
     "execution_count": 26,
     "metadata": {},
     "output_type": "execute_result"
    }
   ],
   "source": [
    "data_all.head()"
   ]
  },
  {
   "cell_type": "code",
   "execution_count": 27,
   "metadata": {},
   "outputs": [
    {
     "data": {
      "text/html": [
       "<div>\n",
       "<style scoped>\n",
       "    .dataframe tbody tr th:only-of-type {\n",
       "        vertical-align: middle;\n",
       "    }\n",
       "\n",
       "    .dataframe tbody tr th {\n",
       "        vertical-align: top;\n",
       "    }\n",
       "\n",
       "    .dataframe thead th {\n",
       "        text-align: right;\n",
       "    }\n",
       "</style>\n",
       "<table border=\"1\" class=\"dataframe\">\n",
       "  <thead>\n",
       "    <tr style=\"text-align: right;\">\n",
       "      <th></th>\n",
       "      <th>other_speaker</th>\n",
       "      <th>friend_response</th>\n",
       "      <th>other_speaker_label</th>\n",
       "    </tr>\n",
       "  </thead>\n",
       "  <tbody>\n",
       "    <tr>\n",
       "      <th>0</th>\n",
       "      <td>Но я безработный, моя музыка - это все, что у ...</td>\n",
       "      <td>Меня застрелят. Любой совет?</td>\n",
       "      <td>4</td>\n",
       "    </tr>\n",
       "    <tr>\n",
       "      <th>1</th>\n",
       "      <td>Посмотри. Пятьсот семнадцать коробок!</td>\n",
       "      <td>Боже мой, как ты это сделал?</td>\n",
       "      <td>-1</td>\n",
       "    </tr>\n",
       "    <tr>\n",
       "      <th>2</th>\n",
       "      <td>Хорошо. Хорошо. Помогло бы, если бы я подошел ...</td>\n",
       "      <td>Это было бы очень полезно!</td>\n",
       "      <td>-1</td>\n",
       "    </tr>\n",
       "    <tr>\n",
       "      <th>3</th>\n",
       "      <td>Росс, чего ты так долго?</td>\n",
       "      <td>Простите, это как будто не для быстрого отдыха!</td>\n",
       "      <td>2</td>\n",
       "    </tr>\n",
       "    <tr>\n",
       "      <th>4</th>\n",
       "      <td>Так кто ты?</td>\n",
       "      <td>Ну, наши имена действительно Моника и Чендлер....</td>\n",
       "      <td>-1</td>\n",
       "    </tr>\n",
       "  </tbody>\n",
       "</table>\n",
       "</div>"
      ],
      "text/plain": [
       "                                       other_speaker  \\\n",
       "0  Но я безработный, моя музыка - это все, что у ...   \n",
       "1              Посмотри. Пятьсот семнадцать коробок!   \n",
       "2  Хорошо. Хорошо. Помогло бы, если бы я подошел ...   \n",
       "3                           Росс, чего ты так долго?   \n",
       "4                                        Так кто ты?   \n",
       "\n",
       "                                     friend_response  other_speaker_label  \n",
       "0                       Меня застрелят. Любой совет?                    4  \n",
       "1                       Боже мой, как ты это сделал?                   -1  \n",
       "2                         Это было бы очень полезно!                   -1  \n",
       "3    Простите, это как будто не для быстрого отдыха!                    2  \n",
       "4  Ну, наши имена действительно Моника и Чендлер....                   -1  "
      ]
     },
     "execution_count": 27,
     "metadata": {},
     "output_type": "execute_result"
    }
   ],
   "source": [
    "data_test.head()"
   ]
  },
  {
   "cell_type": "code",
   "execution_count": 28,
   "metadata": {},
   "outputs": [
    {
     "data": {
      "text/plain": [
       "-1    0.648122\n",
       " 5    0.069929\n",
       " 1    0.061251\n",
       " 2    0.059919\n",
       " 3    0.058334\n",
       " 0    0.055093\n",
       " 4    0.047352\n",
       "Name: other_speaker_label, dtype: float64"
      ]
     },
     "execution_count": 28,
     "metadata": {},
     "output_type": "execute_result"
    }
   ],
   "source": [
    "data_all['other_speaker_label'].value_counts(dropna=False, normalize=True)"
   ]
  },
  {
   "cell_type": "code",
   "execution_count": 29,
   "metadata": {},
   "outputs": [
    {
     "data": {
      "text/plain": [
       "-1    0.657485\n",
       " 5    0.069669\n",
       " 1    0.061568\n",
       " 3    0.059624\n",
       " 2    0.054115\n",
       " 0    0.050875\n",
       " 4    0.046662\n",
       "Name: other_speaker_label, dtype: float64"
      ]
     },
     "execution_count": 29,
     "metadata": {},
     "output_type": "execute_result"
    }
   ],
   "source": [
    "data_test['other_speaker_label'].value_counts(dropna=False, normalize=True)"
   ]
  },
  {
   "cell_type": "markdown",
   "metadata": {},
   "source": [
    "Итак, теперь примерно в 35% случаев нам известен автор первой реплики."
   ]
  },
  {
   "cell_type": "markdown",
   "metadata": {},
   "source": [
    "# 3. Обработка текста"
   ]
  },
  {
   "cell_type": "markdown",
   "metadata": {},
   "source": [
    "Произведем токенизацию и лемматизацию текста."
   ]
  },
  {
   "cell_type": "code",
   "execution_count": 33,
   "metadata": {},
   "outputs": [],
   "source": [
    "# Применение построенной далее модели показало, что если удалять из разговорных фраз стоп-слова, качество класификации падает\n",
    "\n",
    "STOP_DICT_SIZE = 0\n",
    "\n",
    "import string\n",
    "from nltk.corpus import stopwords\n",
    "\n",
    "stop_words = stopwords.words('russian')[:STOP_DICT_SIZE]"
   ]
  },
  {
   "cell_type": "code",
   "execution_count": 34,
   "metadata": {},
   "outputs": [],
   "source": [
    "# Токенизация: приведение к нижнему регистру, удаление знаков препинания, чисел\n",
    "\n",
    "def clear_text(text):\n",
    "    pre_str = \"\".join([ch if ch not in string.punctuation else '' for ch in str(text).lower()])\n",
    "    pre_str = \"\".join([ch if not ch.isdigit() else ' ' for ch in pre_str])\n",
    "    return \" \".join([word for word in pre_str.split() if word not in stop_words and word != ' '])"
   ]
  },
  {
   "cell_type": "code",
   "execution_count": 36,
   "metadata": {},
   "outputs": [],
   "source": [
    "from pymystem3 import Mystem\n",
    "\n",
    "mystem = Mystem()\n",
    "\n",
    "# Лемматизация с использованием библиотеки pymystem3\n",
    "\n",
    "def lemmatize(text):\n",
    "    tokens = mystem.lemmatize(text)\n",
    "    tokens = [token for token in tokens if token not in {' ', '\\n'}]\n",
    "    return \" \".join(tokens)"
   ]
  },
  {
   "cell_type": "code",
   "execution_count": 37,
   "metadata": {},
   "outputs": [],
   "source": [
    "from nltk.stem.snowball import SnowballStemmer\n",
    "from nltk import word_tokenize\n",
    "stemmer = SnowballStemmer(\"russian\")\n",
    "\n",
    "# Лемматизация с использованием библиотеки nltk.stem.snowball\n",
    "\n",
    "def lemmatize2(text):\n",
    "    tokens = word_tokenize(text)    \n",
    "    stemmed_tokens = [stemmer.stem(token) for token in tokens if token not in {' ', '\\n'}]\n",
    "    return \" \".join(stemmed_tokens)"
   ]
  },
  {
   "cell_type": "markdown",
   "metadata": {},
   "source": [
    "Посмотрим на оба варианта лемматизации:"
   ]
  },
  {
   "cell_type": "code",
   "execution_count": 38,
   "metadata": {},
   "outputs": [
    {
     "name": "stdout",
     "output_type": "stream",
     "text": [
      "Знаешь, я думаю, ты сможешь ее забрать. -> знаешь я думаю ты сможешь ее забрать -> знать я думать ты смочь она забирать\n"
     ]
    }
   ],
   "source": [
    "text_0 = data_all['friend_response'].values[0]\n",
    "print(text_0, '->', clear_text(text_0), '->', lemmatize(clear_text(text_0)))"
   ]
  },
  {
   "cell_type": "code",
   "execution_count": 39,
   "metadata": {},
   "outputs": [
    {
     "name": "stdout",
     "output_type": "stream",
     "text": [
      "Знаешь, я думаю, ты сможешь ее забрать. -> знаешь я думаю ты сможешь ее забрать -> знаеш я дума ты сможеш е забра\n"
     ]
    }
   ],
   "source": [
    "print(text_0, '->', clear_text(text_0), '->', lemmatize2(clear_text(text_0)))"
   ]
  },
  {
   "cell_type": "markdown",
   "metadata": {},
   "source": [
    "Оба варианта лемматизации работают неплохо, но вариант с nltk.stem.snowball - гораздо более быстрый. Будем использовать его."
   ]
  },
  {
   "cell_type": "code",
   "execution_count": 40,
   "metadata": {},
   "outputs": [],
   "source": [
    "data_all['response_clear'] = data_all['friend_response'].apply(clear_text)\n",
    "data_test['response_clear'] = data_test['friend_response'].apply(clear_text)\n",
    "\n",
    "data_all['speaker_clear'] = data_all['other_speaker'].apply(clear_text)\n",
    "data_test['speaker_clear'] = data_test['other_speaker'].apply(clear_text)"
   ]
  },
  {
   "cell_type": "code",
   "execution_count": 44,
   "metadata": {},
   "outputs": [
    {
     "data": {
      "application/vnd.jupyter.widget-view+json": {
       "model_id": "cd806605470c4ce5adfce5df78273450",
       "version_major": 2,
       "version_minor": 0
      },
      "text/plain": [
       "HBox(children=(HTML(value=''), FloatProgress(value=0.0, max=27771.0), HTML(value='')))"
      ]
     },
     "metadata": {},
     "output_type": "display_data"
    },
    {
     "name": "stdout",
     "output_type": "stream",
     "text": [
      "\n"
     ]
    }
   ],
   "source": [
    "lem_all = []\n",
    "for text in tqdm_notebook(data_all['response_clear'].values):\n",
    "    lem_all.append(lemmatize2(text))"
   ]
  },
  {
   "cell_type": "code",
   "execution_count": 45,
   "metadata": {},
   "outputs": [
    {
     "data": {
      "application/vnd.jupyter.widget-view+json": {
       "model_id": "8ca4a3d9de534f01aea8f11b43f5c451",
       "version_major": 2,
       "version_minor": 0
      },
      "text/plain": [
       "HBox(children=(HTML(value=''), FloatProgress(value=0.0, max=3086.0), HTML(value='')))"
      ]
     },
     "metadata": {},
     "output_type": "display_data"
    },
    {
     "name": "stdout",
     "output_type": "stream",
     "text": [
      "\n"
     ]
    }
   ],
   "source": [
    "lem_test = []\n",
    "for text in tqdm_notebook(data_test['response_clear'].values):\n",
    "    lem_test.append(lemmatize2(text))"
   ]
  },
  {
   "cell_type": "code",
   "execution_count": 46,
   "metadata": {},
   "outputs": [],
   "source": [
    "data_all['response_lem'] = lem_all\n",
    "data_test['response_lem'] = lem_test"
   ]
  },
  {
   "cell_type": "code",
   "execution_count": 47,
   "metadata": {},
   "outputs": [
    {
     "data": {
      "application/vnd.jupyter.widget-view+json": {
       "model_id": "df27cd6e2b0545de83335a1812c9e01c",
       "version_major": 2,
       "version_minor": 0
      },
      "text/plain": [
       "HBox(children=(HTML(value=''), FloatProgress(value=0.0, max=27771.0), HTML(value='')))"
      ]
     },
     "metadata": {},
     "output_type": "display_data"
    },
    {
     "name": "stdout",
     "output_type": "stream",
     "text": [
      "\n"
     ]
    }
   ],
   "source": [
    "lem_all = []\n",
    "for text in tqdm_notebook(data_all['speaker_clear'].values):\n",
    "    lem_all.append(lemmatize2(text))"
   ]
  },
  {
   "cell_type": "code",
   "execution_count": 48,
   "metadata": {},
   "outputs": [
    {
     "data": {
      "application/vnd.jupyter.widget-view+json": {
       "model_id": "21e7258b36aa44519c14e19f0c206b03",
       "version_major": 2,
       "version_minor": 0
      },
      "text/plain": [
       "HBox(children=(HTML(value=''), FloatProgress(value=0.0, max=3086.0), HTML(value='')))"
      ]
     },
     "metadata": {},
     "output_type": "display_data"
    },
    {
     "name": "stdout",
     "output_type": "stream",
     "text": [
      "\n"
     ]
    }
   ],
   "source": [
    "lem_test = []\n",
    "for text in tqdm_notebook(data_test['speaker_clear'].values):\n",
    "    lem_test.append(lemmatize2(text))"
   ]
  },
  {
   "cell_type": "code",
   "execution_count": 49,
   "metadata": {},
   "outputs": [],
   "source": [
    "data_all['speaker_lem'] = lem_all\n",
    "data_test['speaker_lem'] = lem_test"
   ]
  },
  {
   "cell_type": "code",
   "execution_count": 50,
   "metadata": {},
   "outputs": [
    {
     "data": {
      "text/html": [
       "<div>\n",
       "<style scoped>\n",
       "    .dataframe tbody tr th:only-of-type {\n",
       "        vertical-align: middle;\n",
       "    }\n",
       "\n",
       "    .dataframe tbody tr th {\n",
       "        vertical-align: top;\n",
       "    }\n",
       "\n",
       "    .dataframe thead th {\n",
       "        text-align: right;\n",
       "    }\n",
       "</style>\n",
       "<table border=\"1\" class=\"dataframe\">\n",
       "  <thead>\n",
       "    <tr style=\"text-align: right;\">\n",
       "      <th></th>\n",
       "      <th>other_speaker</th>\n",
       "      <th>friend_response</th>\n",
       "      <th>label</th>\n",
       "      <th>other_speaker_label</th>\n",
       "      <th>response_clear</th>\n",
       "      <th>speaker_clear</th>\n",
       "      <th>response_lem</th>\n",
       "      <th>speaker_lem</th>\n",
       "    </tr>\n",
       "  </thead>\n",
       "  <tbody>\n",
       "    <tr>\n",
       "      <th>0</th>\n",
       "      <td>Хорошо! Все в порядке! Достаточно! Достаточно!...</td>\n",
       "      <td>Знаешь, я думаю, ты сможешь ее забрать.</td>\n",
       "      <td>5</td>\n",
       "      <td>-1</td>\n",
       "      <td>знаешь я думаю ты сможешь ее забрать</td>\n",
       "      <td>хорошо все в порядке достаточно достаточно дос...</td>\n",
       "      <td>знаеш я дума ты сможеш е забра</td>\n",
       "      <td>хорош все в порядк достаточн достаточн достато...</td>\n",
       "    </tr>\n",
       "    <tr>\n",
       "      <th>1</th>\n",
       "      <td>О, хочешь доброго имени, иди с Джоуи. Джои тво...</td>\n",
       "      <td>Эй, знаешь что, если ты собираешься это сделат...</td>\n",
       "      <td>5</td>\n",
       "      <td>-1</td>\n",
       "      <td>эй знаешь что если ты собираешься это сделать ...</td>\n",
       "      <td>о хочешь доброго имени иди с джоуи джои твой п...</td>\n",
       "      <td>э знаеш что есл ты собира эт сдела есл собира ...</td>\n",
       "      <td>о хочеш добр имен ид с джоу джо тво приятел дж...</td>\n",
       "    </tr>\n",
       "    <tr>\n",
       "      <th>2</th>\n",
       "      <td>Боже мой, что!?</td>\n",
       "      <td>Как я уже сказал, я подумывал отвести Эмму в м...</td>\n",
       "      <td>3</td>\n",
       "      <td>-1</td>\n",
       "      <td>как я уже сказал я подумывал отвести эмму в му...</td>\n",
       "      <td>боже мой что</td>\n",
       "      <td>как я уж сказа я подумыва отвест эмм в муз нож...</td>\n",
       "      <td>бож мо что</td>\n",
       "    </tr>\n",
       "    <tr>\n",
       "      <th>3</th>\n",
       "      <td>Беременность тяжело сказывается на животе.</td>\n",
       "      <td>Эй, но хоть ты получил это крутое сияние берем...</td>\n",
       "      <td>0</td>\n",
       "      <td>4</td>\n",
       "      <td>эй но хоть ты получил это крутое сияние береме...</td>\n",
       "      <td>беременность тяжело сказывается на животе</td>\n",
       "      <td>э но хот ты получ эт крут сиян беремен женщин</td>\n",
       "      <td>беремен тяжел сказыва на живот</td>\n",
       "    </tr>\n",
       "    <tr>\n",
       "      <th>4</th>\n",
       "      <td>Ладно, нет, это неправильное решение. Это не т...</td>\n",
       "      <td>Ладно, послушайте, вчера я бы даже подумал пер...</td>\n",
       "      <td>3</td>\n",
       "      <td>2</td>\n",
       "      <td>ладно послушайте вчера я бы даже подумал перез...</td>\n",
       "      <td>ладно нет это неправильное решение это не так ...</td>\n",
       "      <td>ладн послуша вчер я бы даж подума перезвон е н...</td>\n",
       "      <td>ладн нет эт неправильн решен эт не так нет рос...</td>\n",
       "    </tr>\n",
       "  </tbody>\n",
       "</table>\n",
       "</div>"
      ],
      "text/plain": [
       "                                       other_speaker  \\\n",
       "0  Хорошо! Все в порядке! Достаточно! Достаточно!...   \n",
       "1  О, хочешь доброго имени, иди с Джоуи. Джои тво...   \n",
       "2                                    Боже мой, что!?   \n",
       "3         Беременность тяжело сказывается на животе.   \n",
       "4  Ладно, нет, это неправильное решение. Это не т...   \n",
       "\n",
       "                                     friend_response  label  \\\n",
       "0            Знаешь, я думаю, ты сможешь ее забрать.      5   \n",
       "1  Эй, знаешь что, если ты собираешься это сделат...      5   \n",
       "2  Как я уже сказал, я подумывал отвести Эмму в м...      3   \n",
       "3  Эй, но хоть ты получил это крутое сияние берем...      0   \n",
       "4  Ладно, послушайте, вчера я бы даже подумал пер...      3   \n",
       "\n",
       "   other_speaker_label                                     response_clear  \\\n",
       "0                   -1               знаешь я думаю ты сможешь ее забрать   \n",
       "1                   -1  эй знаешь что если ты собираешься это сделать ...   \n",
       "2                   -1  как я уже сказал я подумывал отвести эмму в му...   \n",
       "3                    4  эй но хоть ты получил это крутое сияние береме...   \n",
       "4                    2  ладно послушайте вчера я бы даже подумал перез...   \n",
       "\n",
       "                                       speaker_clear  \\\n",
       "0  хорошо все в порядке достаточно достаточно дос...   \n",
       "1  о хочешь доброго имени иди с джоуи джои твой п...   \n",
       "2                                       боже мой что   \n",
       "3          беременность тяжело сказывается на животе   \n",
       "4  ладно нет это неправильное решение это не так ...   \n",
       "\n",
       "                                        response_lem  \\\n",
       "0                     знаеш я дума ты сможеш е забра   \n",
       "1  э знаеш что есл ты собира эт сдела есл собира ...   \n",
       "2  как я уж сказа я подумыва отвест эмм в муз нож...   \n",
       "3      э но хот ты получ эт крут сиян беремен женщин   \n",
       "4  ладн послуша вчер я бы даж подума перезвон е н...   \n",
       "\n",
       "                                         speaker_lem  \n",
       "0  хорош все в порядк достаточн достаточн достато...  \n",
       "1  о хочеш добр имен ид с джоу джо тво приятел дж...  \n",
       "2                                         бож мо что  \n",
       "3                     беремен тяжел сказыва на живот  \n",
       "4  ладн нет эт неправильн решен эт не так нет рос...  "
      ]
     },
     "execution_count": 50,
     "metadata": {},
     "output_type": "execute_result"
    }
   ],
   "source": [
    "data_all.head()"
   ]
  },
  {
   "cell_type": "markdown",
   "metadata": {},
   "source": [
    "Посмотрим на зависимость целевой переменной от количества слов во фразе:"
   ]
  },
  {
   "cell_type": "code",
   "execution_count": 51,
   "metadata": {},
   "outputs": [],
   "source": [
    "def get_words_count(text):\n",
    "    pre_str = \"\".join([ch if ch not in string.punctuation else '' for ch in str(text).lower()])\n",
    "    return len(pre_str.split())"
   ]
  },
  {
   "cell_type": "code",
   "execution_count": 52,
   "metadata": {},
   "outputs": [],
   "source": [
    "data_all['words_count'] = data_all['friend_response'].apply(get_words_count)\n",
    "data_test['words_count'] = data_test['friend_response'].apply(get_words_count)"
   ]
  },
  {
   "cell_type": "code",
   "execution_count": 53,
   "metadata": {},
   "outputs": [
    {
     "data": {
      "image/png": "[encoded data removed]",
      "text/plain": [
       "<Figure size 576x432 with 1 Axes>"
      ]
     },
     "metadata": {
      "needs_background": "light"
     },
     "output_type": "display_data"
    }
   ],
   "source": [
    "colors = ['green', 'blue', 'red', 'orange', 'yellow', 'magenta']\n",
    "plt.figure(figsize = (8, 6))\n",
    "for friend in range(len(le.classes_)):\n",
    "    sns.kdeplot(data_all['words_count'][data_all['label'] == friend], color=colors[friend], clip=(0, 50), shade=True);"
   ]
  },
  {
   "cell_type": "code",
   "execution_count": 54,
   "metadata": {},
   "outputs": [
    {
     "data": {
      "image/png": "[encoded data removed]",
      "text/plain": [
       "<Figure size 576x432 with 1 Axes>"
      ]
     },
     "metadata": {
      "needs_background": "light"
     },
     "output_type": "display_data"
    }
   ],
   "source": [
    "plt.figure(figsize = (8, 6))\n",
    "sns.boxplot(x='label', y='words_count', data=data_all);"
   ]
  },
  {
   "cell_type": "markdown",
   "metadata": {},
   "source": [
    "Видим, что некоторая зависимость прослеживается, хотя и не очень существенная."
   ]
  },
  {
   "cell_type": "markdown",
   "metadata": {},
   "source": [
    "# 4. Финальная модель"
   ]
  },
  {
   "cell_type": "markdown",
   "metadata": {},
   "source": [
    "Будем использовать реализацию градиентного бустинга - CatBoostClassifier. Он хорошо работает с текстами \"из коробки\", не требуя предварительной обработки типа TfidfVectorizer:"
   ]
  },
  {
   "cell_type": "code",
   "execution_count": 55,
   "metadata": {},
   "outputs": [],
   "source": [
    "X_col = ['speaker_lem', 'response_lem']\n",
    "y_col = ['label']\n",
    "\n",
    "ctb_df = data_all[X_col + y_col].copy()"
   ]
  },
  {
   "cell_type": "code",
   "execution_count": 56,
   "metadata": {},
   "outputs": [],
   "source": [
    "train = ctb_df.sample(frac=0.8).copy()\n",
    "val = ctb_df[~ctb_df.index.isin(train.index)].copy()"
   ]
  },
  {
   "cell_type": "code",
   "execution_count": 57,
   "metadata": {},
   "outputs": [
    {
     "data": {
      "text/plain": [
       "((22217, 3), (5554, 3))"
      ]
     },
     "execution_count": 57,
     "metadata": {},
     "output_type": "execute_result"
    }
   ],
   "source": [
    "train.shape, val.shape"
   ]
  },
  {
   "cell_type": "code",
   "execution_count": 58,
   "metadata": {},
   "outputs": [],
   "source": [
    "ctb = CatBoostClassifier(depth=3, text_features=['speaker_lem', 'response_lem'], \\\n",
    "                        learning_rate=0.27, \\\n",
    "                        verbose=50, eval_metric='Accuracy', random_seed=SEED)"
   ]
  },
  {
   "cell_type": "code",
   "execution_count": 59,
   "metadata": {},
   "outputs": [
    {
     "data": {
      "application/vnd.jupyter.widget-view+json": {
       "model_id": "3147722d446c485791939181e52589c4",
       "version_major": 2,
       "version_minor": 0
      },
      "text/plain": [
       "MetricVisualizer(layout=Layout(align_self='stretch', height='500px'))"
      ]
     },
     "metadata": {},
     "output_type": "display_data"
    },
    {
     "name": "stdout",
     "output_type": "stream",
     "text": [
      "0:\tlearn: 0.2058334\ttest: 0.2057976\tbest: 0.2057976 (0)\ttotal: 260ms\tremaining: 4m 19s\n",
      "50:\tlearn: 0.3055318\ttest: 0.3197695\tbest: 0.3199496 (48)\ttotal: 6.87s\tremaining: 2m 7s\n",
      "100:\tlearn: 0.3174596\ttest: 0.3282319\tbest: 0.3287721 (97)\ttotal: 13.5s\tremaining: 2m\n",
      "150:\tlearn: 0.3287122\ttest: 0.3285920\tbest: 0.3294923 (123)\ttotal: 19.9s\tremaining: 1m 51s\n",
      "200:\tlearn: 0.3358239\ttest: 0.3296723\tbest: 0.3312928 (162)\ttotal: 26.3s\tremaining: 1m 44s\n",
      "250:\tlearn: 0.3414502\ttest: 0.3300324\tbest: 0.3312928 (162)\ttotal: 32.7s\tremaining: 1m 37s\n",
      "300:\tlearn: 0.3483819\ttest: 0.3269716\tbest: 0.3312928 (162)\ttotal: 39.1s\tremaining: 1m 30s\n",
      "350:\tlearn: 0.3550884\ttest: 0.3280519\tbest: 0.3312928 (162)\ttotal: 46.1s\tremaining: 1m 25s\n",
      "400:\tlearn: 0.3635054\ttest: 0.3280519\tbest: 0.3312928 (162)\ttotal: 52.6s\tremaining: 1m 18s\n",
      "450:\tlearn: 0.3691768\ttest: 0.3275117\tbest: 0.3312928 (162)\ttotal: 59.3s\tremaining: 1m 12s\n",
      "500:\tlearn: 0.3760184\ttest: 0.3282319\tbest: 0.3312928 (162)\ttotal: 1m 5s\tremaining: 1m 5s\n",
      "550:\tlearn: 0.3818247\ttest: 0.3276918\tbest: 0.3312928 (162)\ttotal: 1m 12s\tremaining: 58.9s\n",
      "600:\tlearn: 0.3873610\ttest: 0.3282319\tbest: 0.3312928 (162)\ttotal: 1m 18s\tremaining: 52.3s\n",
      "650:\tlearn: 0.3940226\ttest: 0.3257112\tbest: 0.3312928 (162)\ttotal: 1m 25s\tremaining: 45.7s\n",
      "700:\tlearn: 0.3984786\ttest: 0.3273317\tbest: 0.3312928 (162)\ttotal: 1m 31s\tremaining: 39.1s\n",
      "750:\tlearn: 0.4051402\ttest: 0.3291322\tbest: 0.3312928 (162)\ttotal: 1m 38s\tremaining: 32.6s\n",
      "800:\tlearn: 0.4122519\ttest: 0.3271516\tbest: 0.3312928 (162)\ttotal: 1m 44s\tremaining: 26.1s\n",
      "850:\tlearn: 0.4170230\ttest: 0.3273317\tbest: 0.3312928 (162)\ttotal: 1m 51s\tremaining: 19.5s\n",
      "900:\tlearn: 0.4217941\ttest: 0.3260713\tbest: 0.3312928 (162)\ttotal: 1m 57s\tremaining: 13s\n",
      "950:\tlearn: 0.4271054\ttest: 0.3258912\tbest: 0.3312928 (162)\ttotal: 2m 4s\tremaining: 6.41s\n",
      "999:\tlearn: 0.4334969\ttest: 0.3240907\tbest: 0.3312928 (162)\ttotal: 2m 10s\tremaining: 0us\n",
      "\n",
      "bestTest = 0.331292762\n",
      "bestIteration = 162\n",
      "\n",
      "Shrink model to first 163 iterations.\n"
     ]
    },
    {
     "data": {
      "text/plain": [
       "<catboost.core.CatBoostClassifier at 0x11929510670>"
      ]
     },
     "execution_count": 59,
     "metadata": {},
     "output_type": "execute_result"
    }
   ],
   "source": [
    "ctb.fit(train[X_col], train[y_col], \\\n",
    "        eval_set=(val[X_col], val[y_col]), plot=True, verbose=50)"
   ]
  },
  {
   "cell_type": "code",
   "execution_count": 50,
   "metadata": {},
   "outputs": [],
   "source": [
    "del ctb"
   ]
  },
  {
   "cell_type": "markdown",
   "metadata": {},
   "source": [
    "Обучим модель на всех данных, увеличив количество по сравнению с лучшей моделью на валидации, и сделаем предсказание:"
   ]
  },
  {
   "cell_type": "code",
   "execution_count": 60,
   "metadata": {},
   "outputs": [],
   "source": [
    "ctb_final = CatBoostClassifier(depth=3, iterations=290, text_features=['speaker_lem', 'response_lem'], \\\n",
    "                               learning_rate=0.27, \\\n",
    "                               verbose=50, eval_metric='Accuracy', random_seed=SEED)"
   ]
  },
  {
   "cell_type": "code",
   "execution_count": 61,
   "metadata": {},
   "outputs": [
    {
     "data": {
      "application/vnd.jupyter.widget-view+json": {
       "model_id": "2cc3468aa1b8419eb2879842b1ff5e01",
       "version_major": 2,
       "version_minor": 0
      },
      "text/plain": [
       "MetricVisualizer(layout=Layout(align_self='stretch', height='500px'))"
      ]
     },
     "metadata": {},
     "output_type": "display_data"
    },
    {
     "name": "stdout",
     "output_type": "stream",
     "text": [
      "0:\tlearn: 0.2091390\ttotal: 120ms\tremaining: 34.6s\n",
      "50:\tlearn: 0.3049224\ttotal: 7.22s\tremaining: 33.8s\n",
      "100:\tlearn: 0.3171654\ttotal: 14s\tremaining: 26.3s\n",
      "150:\tlearn: 0.3267437\ttotal: 21s\tremaining: 19.3s\n",
      "200:\tlearn: 0.3344496\ttotal: 27.9s\tremaining: 12.3s\n",
      "250:\tlearn: 0.3419394\ttotal: 34.8s\tremaining: 5.4s\n",
      "289:\tlearn: 0.3468726\ttotal: 40.4s\tremaining: 0us\n"
     ]
    },
    {
     "data": {
      "text/plain": [
       "<catboost.core.CatBoostClassifier at 0x119294b1910>"
      ]
     },
     "execution_count": 61,
     "metadata": {},
     "output_type": "execute_result"
    }
   ],
   "source": [
    "ctb_final.fit(ctb_df[X_col], ctb_df[y_col], plot=True, verbose=50)"
   ]
  },
  {
   "cell_type": "markdown",
   "metadata": {},
   "source": [
    "# 5. Используем информацию об авторе первой реплики"
   ]
  },
  {
   "cell_type": "markdown",
   "metadata": {},
   "source": [
    "Скорректируем предсказанного героя, если он совпал с персонажем из other_speaker:"
   ]
  },
  {
   "cell_type": "code",
   "execution_count": 64,
   "metadata": {},
   "outputs": [],
   "source": [
    "prediction = ctb_final.predict(data_test[X_col])\n",
    "prediction_proba = ctb_final.predict_proba(data_test[X_col])\n",
    "other_speaker = data_test['other_speaker_label']"
   ]
  },
  {
   "cell_type": "code",
   "execution_count": 65,
   "metadata": {},
   "outputs": [
    {
     "name": "stdout",
     "output_type": "stream",
     "text": [
      "Скорректировано значений: 169\n"
     ]
    }
   ],
   "source": [
    "n = 0\n",
    "for ind in range(len(prediction)):\n",
    "    if prediction[ind] == other_speaker[ind]:\n",
    "        sec_proba = sorted(prediction_proba[ind], reverse=True)[1]\n",
    "        prediction[ind] = np.where(prediction_proba[ind] == sec_proba)[0][0]\n",
    "        n += 1\n",
    "print('Скорректировано значений:', n)"
   ]
  },
  {
   "cell_type": "code",
   "execution_count": 66,
   "metadata": {},
   "outputs": [
    {
     "name": "stdout",
     "output_type": "stream",
     "text": [
      "Your submission was successfully saved!\n"
     ]
    }
   ],
   "source": [
    "data_test['Category'] = le.classes_[prediction]\n",
    "data_test[['Category']].to_csv(PATH + 'submission_ctb_corrected.csv', sep=',', index_label='Id')\n",
    "print(\"Your submission was successfully saved!\")"
   ]
  }
 ],
 "metadata": {
  "kernelspec": {
   "display_name": "Python 3",
   "language": "python",
   "name": "python3"
  },
  "language_info": {
   "codemirror_mode": {
    "name": "ipython",
    "version": 3
   },
   "file_extension": ".py",
   "mimetype": "text/x-python",
   "name": "python",
   "nbconvert_exporter": "python",
   "pygments_lexer": "ipython3",
   "version": "3.8.5"
  }
 },
 "nbformat": 4,
 "nbformat_minor": 4
}
