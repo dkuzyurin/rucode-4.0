{
 "cells": [
  {
   "cell_type": "code",
   "execution_count": 1,
   "metadata": {},
   "outputs": [],
   "source": [
    "import pandas as pd\n",
    "import numpy as np\n",
    "import matplotlib.pyplot as plt\n",
    "import seaborn as sns\n",
    "from sklearn.metrics import mean_absolute_error\n",
    "from sklearn.model_selection import train_test_split\n",
    "from tqdm import tqdm\n",
    "\n",
    "from catboost import CatBoostClassifier\n",
    "from sklearn.metrics import roc_auc_score\n",
    "\n",
    "PATH = 'D:\\\\DA\\\\RuCode\\\\Regulations\\\\'\n",
    "REP_PATH = PATH + 'ria_reports\\\\ria_reports\\\\'\n",
    "REP_STRUCTURE_PATH = PATH + 'ria_reports_structures\\\\ria_reports_structures\\\\'\n",
    "\n",
    "SEED = 42"
   ]
  },
  {
   "cell_type": "markdown",
   "metadata": {},
   "source": [
    "# 1. Чтение и первичный анализ данных"
   ]
  },
  {
   "cell_type": "code",
   "execution_count": 2,
   "metadata": {},
   "outputs": [
    {
     "data": {
      "text/html": [
       "<div>\n",
       "<style scoped>\n",
       "    .dataframe tbody tr th:only-of-type {\n",
       "        vertical-align: middle;\n",
       "    }\n",
       "\n",
       "    .dataframe tbody tr th {\n",
       "        vertical-align: top;\n",
       "    }\n",
       "\n",
       "    .dataframe thead th {\n",
       "        text-align: right;\n",
       "    }\n",
       "</style>\n",
       "<table border=\"1\" class=\"dataframe\">\n",
       "  <thead>\n",
       "    <tr style=\"text-align: right;\">\n",
       "      <th></th>\n",
       "      <th>id</th>\n",
       "      <th>act_title</th>\n",
       "      <th>publication_date</th>\n",
       "      <th>developer</th>\n",
       "      <th>okved_list</th>\n",
       "      <th>views_num</th>\n",
       "      <th>comments_num</th>\n",
       "      <th>likes_num</th>\n",
       "      <th>dislikes_num</th>\n",
       "      <th>regulatory_impact</th>\n",
       "      <th>added_by</th>\n",
       "      <th>responsible</th>\n",
       "      <th>is_regionally_signigicant</th>\n",
       "      <th>act_changes_controlling_activities</th>\n",
       "      <th>mineco_solution</th>\n",
       "      <th>problem_addressed</th>\n",
       "      <th>act_objectives</th>\n",
       "      <th>persons_affected_by_act</th>\n",
       "      <th>relations_regulated_by_act</th>\n",
       "      <th>act_significance</th>\n",
       "    </tr>\n",
       "  </thead>\n",
       "  <tbody>\n",
       "    <tr>\n",
       "      <th>0</th>\n",
       "      <td>5038</td>\n",
       "      <td>Об утверждении тарифов на услуги по транспорти...</td>\n",
       "      <td>2013-09-11</td>\n",
       "      <td>ФСТ России</td>\n",
       "      <td>NaN</td>\n",
       "      <td>376.0</td>\n",
       "      <td>0.0</td>\n",
       "      <td>0.0</td>\n",
       "      <td>0.0</td>\n",
       "      <td>Низкая</td>\n",
       "      <td>Митина Ольга Викторовна</td>\n",
       "      <td>Митина Ольга Викторовна</td>\n",
       "      <td>False</td>\n",
       "      <td>False</td>\n",
       "      <td>Не определено</td>\n",
       "      <td>NaN</td>\n",
       "      <td>NaN</td>\n",
       "      <td>NaN</td>\n",
       "      <td>NaN</td>\n",
       "      <td>NaN</td>\n",
       "    </tr>\n",
       "    <tr>\n",
       "      <th>1</th>\n",
       "      <td>5039</td>\n",
       "      <td>О внесении изменений в отдельные законодательн...</td>\n",
       "      <td>2013-06-11</td>\n",
       "      <td>Минтруд России</td>\n",
       "      <td>Здравоохранение; Предоставление социальных услуг</td>\n",
       "      <td>504.0</td>\n",
       "      <td>0.0</td>\n",
       "      <td>0.0</td>\n",
       "      <td>0.0</td>\n",
       "      <td>Низкая</td>\n",
       "      <td>Рахов Виталий Сергеевич</td>\n",
       "      <td>Павлова Зоя Ивановна</td>\n",
       "      <td>False</td>\n",
       "      <td>False</td>\n",
       "      <td>Не определено</td>\n",
       "      <td>NaN</td>\n",
       "      <td>NaN</td>\n",
       "      <td>NaN</td>\n",
       "      <td>NaN</td>\n",
       "      <td>NaN</td>\n",
       "    </tr>\n",
       "    <tr>\n",
       "      <th>2</th>\n",
       "      <td>5040</td>\n",
       "      <td>Об утверждении Положения об уведомлении лиц об...</td>\n",
       "      <td>2013-04-29</td>\n",
       "      <td>Росфинмониторинг</td>\n",
       "      <td>Финансовая деятельность</td>\n",
       "      <td>428.0</td>\n",
       "      <td>0.0</td>\n",
       "      <td>0.0</td>\n",
       "      <td>0.0</td>\n",
       "      <td>Низкая</td>\n",
       "      <td>Тимофеева Алёна Игоревна</td>\n",
       "      <td>Лях Валерий Владимирович</td>\n",
       "      <td>False</td>\n",
       "      <td>False</td>\n",
       "      <td>Не определено</td>\n",
       "      <td>NaN</td>\n",
       "      <td>NaN</td>\n",
       "      <td>NaN</td>\n",
       "      <td>NaN</td>\n",
       "      <td>NaN</td>\n",
       "    </tr>\n",
       "    <tr>\n",
       "      <th>3</th>\n",
       "      <td>5041</td>\n",
       "      <td>О внесении изменений в Положение о Министерств...</td>\n",
       "      <td>2013-10-21</td>\n",
       "      <td>Минобрнауки России</td>\n",
       "      <td>Образование</td>\n",
       "      <td>376.0</td>\n",
       "      <td>0.0</td>\n",
       "      <td>0.0</td>\n",
       "      <td>0.0</td>\n",
       "      <td>Низкая</td>\n",
       "      <td>Вотоновская Ирина Вячеславовна</td>\n",
       "      <td>Михайлова Ирина Вячеславовна</td>\n",
       "      <td>False</td>\n",
       "      <td>False</td>\n",
       "      <td>Не определено</td>\n",
       "      <td>NaN</td>\n",
       "      <td>NaN</td>\n",
       "      <td>NaN</td>\n",
       "      <td>NaN</td>\n",
       "      <td>NaN</td>\n",
       "    </tr>\n",
       "    <tr>\n",
       "      <th>4</th>\n",
       "      <td>5042</td>\n",
       "      <td>О внесении изменений в Правила подготовки и пр...</td>\n",
       "      <td>2014-02-24</td>\n",
       "      <td>Минприроды России</td>\n",
       "      <td>NaN</td>\n",
       "      <td>499.0</td>\n",
       "      <td>0.0</td>\n",
       "      <td>0.0</td>\n",
       "      <td>0.0</td>\n",
       "      <td>Низкая</td>\n",
       "      <td>Соболева Светлана Юрьевна</td>\n",
       "      <td>Соболева Светлана Юрьевна</td>\n",
       "      <td>False</td>\n",
       "      <td>False</td>\n",
       "      <td>Не определено</td>\n",
       "      <td>предоставление водного объекта в пользование п...</td>\n",
       "      <td>Пунктом 12 части 2 статьи 11 Водного кодекса Р...</td>\n",
       "      <td>неопределенный круг лиц</td>\n",
       "      <td>необходимость корреляции Правил подготовки и п...</td>\n",
       "      <td>Проект постановления Правительства Российской ...</td>\n",
       "    </tr>\n",
       "  </tbody>\n",
       "</table>\n",
       "</div>"
      ],
      "text/plain": [
       "     id                                          act_title publication_date  \\\n",
       "0  5038  Об утверждении тарифов на услуги по транспорти...       2013-09-11   \n",
       "1  5039  О внесении изменений в отдельные законодательн...       2013-06-11   \n",
       "2  5040  Об утверждении Положения об уведомлении лиц об...       2013-04-29   \n",
       "3  5041  О внесении изменений в Положение о Министерств...       2013-10-21   \n",
       "4  5042  О внесении изменений в Правила подготовки и пр...       2014-02-24   \n",
       "\n",
       "            developer                                        okved_list  \\\n",
       "0          ФСТ России                                               NaN   \n",
       "1      Минтруд России  Здравоохранение; Предоставление социальных услуг   \n",
       "2    Росфинмониторинг                           Финансовая деятельность   \n",
       "3  Минобрнауки России                                       Образование   \n",
       "4   Минприроды России                                               NaN   \n",
       "\n",
       "   views_num  comments_num  likes_num  dislikes_num regulatory_impact  \\\n",
       "0      376.0           0.0        0.0           0.0            Низкая   \n",
       "1      504.0           0.0        0.0           0.0            Низкая   \n",
       "2      428.0           0.0        0.0           0.0            Низкая   \n",
       "3      376.0           0.0        0.0           0.0            Низкая   \n",
       "4      499.0           0.0        0.0           0.0            Низкая   \n",
       "\n",
       "                         added_by                   responsible  \\\n",
       "0         Митина Ольга Викторовна       Митина Ольга Викторовна   \n",
       "1         Рахов Виталий Сергеевич          Павлова Зоя Ивановна   \n",
       "2        Тимофеева Алёна Игоревна      Лях Валерий Владимирович   \n",
       "3  Вотоновская Ирина Вячеславовна  Михайлова Ирина Вячеславовна   \n",
       "4       Соболева Светлана Юрьевна     Соболева Светлана Юрьевна   \n",
       "\n",
       "  is_regionally_signigicant act_changes_controlling_activities  \\\n",
       "0                     False                              False   \n",
       "1                     False                              False   \n",
       "2                     False                              False   \n",
       "3                     False                              False   \n",
       "4                     False                              False   \n",
       "\n",
       "  mineco_solution                                  problem_addressed  \\\n",
       "0   Не определено                                                NaN   \n",
       "1   Не определено                                                NaN   \n",
       "2   Не определено                                                NaN   \n",
       "3   Не определено                                                NaN   \n",
       "4   Не определено  предоставление водного объекта в пользование п...   \n",
       "\n",
       "                                      act_objectives  persons_affected_by_act  \\\n",
       "0                                                NaN                      NaN   \n",
       "1                                                NaN                      NaN   \n",
       "2                                                NaN                      NaN   \n",
       "3                                                NaN                      NaN   \n",
       "4  Пунктом 12 части 2 статьи 11 Водного кодекса Р...  неопределенный круг лиц   \n",
       "\n",
       "                          relations_regulated_by_act  \\\n",
       "0                                                NaN   \n",
       "1                                                NaN   \n",
       "2                                                NaN   \n",
       "3                                                NaN   \n",
       "4  необходимость корреляции Правил подготовки и п...   \n",
       "\n",
       "                                    act_significance  \n",
       "0                                                NaN  \n",
       "1                                                NaN  \n",
       "2                                                NaN  \n",
       "3                                                NaN  \n",
       "4  Проект постановления Правительства Российской ...  "
      ]
     },
     "execution_count": 2,
     "metadata": {},
     "output_type": "execute_result"
    }
   ],
   "source": [
    "data_all = pd.read_csv(PATH + 'regulations.csv')\n",
    "data_all.head()"
   ]
  },
  {
   "cell_type": "code",
   "execution_count": 3,
   "metadata": {},
   "outputs": [
    {
     "data": {
      "text/html": [
       "<div>\n",
       "<style scoped>\n",
       "    .dataframe tbody tr th:only-of-type {\n",
       "        vertical-align: middle;\n",
       "    }\n",
       "\n",
       "    .dataframe tbody tr th {\n",
       "        vertical-align: top;\n",
       "    }\n",
       "\n",
       "    .dataframe thead th {\n",
       "        text-align: right;\n",
       "    }\n",
       "</style>\n",
       "<table border=\"1\" class=\"dataframe\">\n",
       "  <thead>\n",
       "    <tr style=\"text-align: right;\">\n",
       "      <th></th>\n",
       "      <th>id</th>\n",
       "      <th>passed</th>\n",
       "    </tr>\n",
       "  </thead>\n",
       "  <tbody>\n",
       "    <tr>\n",
       "      <th>0</th>\n",
       "      <td>5038</td>\n",
       "      <td>0</td>\n",
       "    </tr>\n",
       "    <tr>\n",
       "      <th>1</th>\n",
       "      <td>5039</td>\n",
       "      <td>0</td>\n",
       "    </tr>\n",
       "    <tr>\n",
       "      <th>2</th>\n",
       "      <td>5040</td>\n",
       "      <td>0</td>\n",
       "    </tr>\n",
       "    <tr>\n",
       "      <th>3</th>\n",
       "      <td>5041</td>\n",
       "      <td>1</td>\n",
       "    </tr>\n",
       "    <tr>\n",
       "      <th>4</th>\n",
       "      <td>5043</td>\n",
       "      <td>0</td>\n",
       "    </tr>\n",
       "  </tbody>\n",
       "</table>\n",
       "</div>"
      ],
      "text/plain": [
       "     id  passed\n",
       "0  5038       0\n",
       "1  5039       0\n",
       "2  5040       0\n",
       "3  5041       1\n",
       "4  5043       0"
      ]
     },
     "execution_count": 3,
     "metadata": {},
     "output_type": "execute_result"
    }
   ],
   "source": [
    "train_answers = pd.read_csv(PATH + 'train_answer.csv')\n",
    "train_answers.head()"
   ]
  },
  {
   "cell_type": "code",
   "execution_count": 4,
   "metadata": {},
   "outputs": [
    {
     "data": {
      "text/html": [
       "<div>\n",
       "<style scoped>\n",
       "    .dataframe tbody tr th:only-of-type {\n",
       "        vertical-align: middle;\n",
       "    }\n",
       "\n",
       "    .dataframe tbody tr th {\n",
       "        vertical-align: top;\n",
       "    }\n",
       "\n",
       "    .dataframe thead th {\n",
       "        text-align: right;\n",
       "    }\n",
       "</style>\n",
       "<table border=\"1\" class=\"dataframe\">\n",
       "  <thead>\n",
       "    <tr style=\"text-align: right;\">\n",
       "      <th></th>\n",
       "      <th>id</th>\n",
       "      <th>passed</th>\n",
       "    </tr>\n",
       "  </thead>\n",
       "  <tbody>\n",
       "    <tr>\n",
       "      <th>0</th>\n",
       "      <td>46050</td>\n",
       "      <td>0</td>\n",
       "    </tr>\n",
       "    <tr>\n",
       "      <th>1</th>\n",
       "      <td>93905</td>\n",
       "      <td>0</td>\n",
       "    </tr>\n",
       "    <tr>\n",
       "      <th>2</th>\n",
       "      <td>79028</td>\n",
       "      <td>0</td>\n",
       "    </tr>\n",
       "    <tr>\n",
       "      <th>3</th>\n",
       "      <td>101050</td>\n",
       "      <td>0</td>\n",
       "    </tr>\n",
       "    <tr>\n",
       "      <th>4</th>\n",
       "      <td>83386</td>\n",
       "      <td>0</td>\n",
       "    </tr>\n",
       "  </tbody>\n",
       "</table>\n",
       "</div>"
      ],
      "text/plain": [
       "       id  passed\n",
       "0   46050       0\n",
       "1   93905       0\n",
       "2   79028       0\n",
       "3  101050       0\n",
       "4   83386       0"
      ]
     },
     "execution_count": 4,
     "metadata": {},
     "output_type": "execute_result"
    }
   ],
   "source": [
    "subm = pd.read_csv(PATH + 'sample_submission.csv')\n",
    "subm.head()"
   ]
  },
  {
   "cell_type": "code",
   "execution_count": 5,
   "metadata": {},
   "outputs": [
    {
     "data": {
      "text/plain": [
       "((85006, 20), (81006, 2), (4000, 2))"
      ]
     },
     "execution_count": 5,
     "metadata": {},
     "output_type": "execute_result"
    }
   ],
   "source": [
    "data_all.shape, train_answers.shape, subm.shape"
   ]
  },
  {
   "cell_type": "markdown",
   "metadata": {},
   "source": [
    "Проверим наличие пропусков в данных:"
   ]
  },
  {
   "cell_type": "code",
   "execution_count": 6,
   "metadata": {},
   "outputs": [
    {
     "data": {
      "text/plain": [
       "act_objectives                        74325\n",
       "act_significance                      66505\n",
       "problem_addressed                     66505\n",
       "persons_affected_by_act               66504\n",
       "relations_regulated_by_act            66502\n",
       "okved_list                            11909\n",
       "responsible                            3322\n",
       "developer                               785\n",
       "likes_num                               589\n",
       "publication_date                        589\n",
       "views_num                               589\n",
       "comments_num                            589\n",
       "regulatory_impact                       589\n",
       "dislikes_num                            589\n",
       "added_by                                589\n",
       "is_regionally_signigicant               589\n",
       "act_changes_controlling_activities      589\n",
       "mineco_solution                         589\n",
       "act_title                                 1\n",
       "id                                        0\n",
       "dtype: int64"
      ]
     },
     "execution_count": 6,
     "metadata": {},
     "output_type": "execute_result"
    }
   ],
   "source": [
    "data_all.isna().sum().sort_values(ascending=False)"
   ]
  },
  {
   "cell_type": "markdown",
   "metadata": {},
   "source": [
    "Введем новый признак - количество пропусков в данных у законопроекта:"
   ]
  },
  {
   "cell_type": "code",
   "execution_count": 7,
   "metadata": {},
   "outputs": [],
   "source": [
    "data_all['na_counts'] = data_all.isna().sum(axis=1)"
   ]
  },
  {
   "cell_type": "markdown",
   "metadata": {},
   "source": [
    "Добавим данные о принятии актов:"
   ]
  },
  {
   "cell_type": "code",
   "execution_count": 8,
   "metadata": {},
   "outputs": [
    {
     "data": {
      "text/plain": [
       "0.13955756363726143"
      ]
     },
     "execution_count": 8,
     "metadata": {},
     "output_type": "execute_result"
    }
   ],
   "source": [
    "data_all = data_all.merge(train_answers, on='id', how='outer')\n",
    "data_all[~data_all['passed'].isna()]['passed'].mean()"
   ]
  },
  {
   "cell_type": "markdown",
   "metadata": {},
   "source": [
    "Имеется существенный дисбаланс классов."
   ]
  },
  {
   "cell_type": "markdown",
   "metadata": {},
   "source": [
    "# 2. Обработка названий законопроектов"
   ]
  },
  {
   "cell_type": "code",
   "execution_count": 9,
   "metadata": {},
   "outputs": [],
   "source": [
    "import string\n",
    "from nltk.corpus import stopwords\n",
    "\n",
    "from nltk.stem.snowball import SnowballStemmer\n",
    "from nltk import word_tokenize\n",
    "stemmer = SnowballStemmer(\"russian\")\n",
    "\n",
    "stop_words = stopwords.words('russian')"
   ]
  },
  {
   "cell_type": "code",
   "execution_count": 10,
   "metadata": {},
   "outputs": [],
   "source": [
    "# Токенизация текста: приведение к нижнему регистру, удаление стоп-слов, пунктуации и чисел\n",
    "\n",
    "def clear_text(text):\n",
    "    pre_str = \"\".join([ch if ch not in string.punctuation + '«»№-' else '' for ch in str(text).lower()])\n",
    "    pre_str = \"\".join([ch if not ch.isdigit() else ' ' for ch in pre_str])\n",
    "    return \" \".join([word for word in pre_str.split() if word not in stop_words and word != ' '])"
   ]
  },
  {
   "cell_type": "code",
   "execution_count": 11,
   "metadata": {},
   "outputs": [],
   "source": [
    "# Лемматизация\n",
    "\n",
    "def lemmatize2(text):\n",
    "    tokens = word_tokenize(text)    \n",
    "    stemmed_tokens = [stemmer.stem(token) for token in tokens if token not in {' ', '\\n'}]\n",
    "    return \" \".join(stemmed_tokens)"
   ]
  },
  {
   "cell_type": "markdown",
   "metadata": {},
   "source": [
    "Посмотрим, как работают наши токенизатор и лемматизатор:"
   ]
  },
  {
   "cell_type": "code",
   "execution_count": 12,
   "metadata": {},
   "outputs": [
    {
     "name": "stdout",
     "output_type": "stream",
     "text": [
      "Об утверждении тарифов на услуги по транспортировке газа по газораспределительным сетям МУП «Газстройсервис» на территории Волгоградской области ->\n",
      " утверждении тарифов услуги транспортировке газа газораспределительным сетям муп газстройсервис территории волгоградской области ->\n",
      " утвержден тариф услуг транспортировк газ газораспределительн сет муп газстройсервис территор волгоградск област\n"
     ]
    }
   ],
   "source": [
    "text_0 = data_all['act_title'].values[0]\n",
    "print(text_0, '->\\n', clear_text(text_0), '->\\n', lemmatize2(clear_text(text_0)))"
   ]
  },
  {
   "cell_type": "markdown",
   "metadata": {},
   "source": [
    "Применим токенизацию и лемматизацию к названиям законопроектов:"
   ]
  },
  {
   "cell_type": "code",
   "execution_count": 13,
   "metadata": {},
   "outputs": [
    {
     "name": "stdout",
     "output_type": "stream",
     "text": [
      "Wall time: 9.75 s\n"
     ]
    }
   ],
   "source": [
    "%%time\n",
    "data_all['act_title_clear'] = data_all['act_title'].apply(clear_text)"
   ]
  },
  {
   "cell_type": "code",
   "execution_count": 14,
   "metadata": {},
   "outputs": [
    {
     "name": "stderr",
     "output_type": "stream",
     "text": [
      "100%|███████████████████████████████████| 85006/85006 [01:36<00:00, 879.12it/s]\n"
     ]
    }
   ],
   "source": [
    "lem_titles = []\n",
    "for text in tqdm(data_all['act_title_clear'].values):\n",
    "    lem_titles.append(lemmatize2(text))"
   ]
  },
  {
   "cell_type": "code",
   "execution_count": 15,
   "metadata": {},
   "outputs": [
    {
     "data": {
      "text/html": [
       "<div>\n",
       "<style scoped>\n",
       "    .dataframe tbody tr th:only-of-type {\n",
       "        vertical-align: middle;\n",
       "    }\n",
       "\n",
       "    .dataframe tbody tr th {\n",
       "        vertical-align: top;\n",
       "    }\n",
       "\n",
       "    .dataframe thead th {\n",
       "        text-align: right;\n",
       "    }\n",
       "</style>\n",
       "<table border=\"1\" class=\"dataframe\">\n",
       "  <thead>\n",
       "    <tr style=\"text-align: right;\">\n",
       "      <th></th>\n",
       "      <th>act_title</th>\n",
       "      <th>act_title_clear</th>\n",
       "      <th>act_title_lem</th>\n",
       "    </tr>\n",
       "  </thead>\n",
       "  <tbody>\n",
       "    <tr>\n",
       "      <th>0</th>\n",
       "      <td>Об утверждении тарифов на услуги по транспорти...</td>\n",
       "      <td>утверждении тарифов услуги транспортировке газ...</td>\n",
       "      <td>утвержден тариф услуг транспортировк газ газор...</td>\n",
       "    </tr>\n",
       "    <tr>\n",
       "      <th>1</th>\n",
       "      <td>О внесении изменений в отдельные законодательн...</td>\n",
       "      <td>внесении изменений отдельные законодательные а...</td>\n",
       "      <td>внесен изменен отдельн законодательн акт росси...</td>\n",
       "    </tr>\n",
       "    <tr>\n",
       "      <th>2</th>\n",
       "      <td>Об утверждении Положения об уведомлении лиц об...</td>\n",
       "      <td>утверждении положения уведомлении лиц включени...</td>\n",
       "      <td>утвержден положен уведомлен лиц включен список...</td>\n",
       "    </tr>\n",
       "    <tr>\n",
       "      <th>3</th>\n",
       "      <td>О внесении изменений в Положение о Министерств...</td>\n",
       "      <td>внесении изменений положение министерстве обра...</td>\n",
       "      <td>внесен изменен положен министерств образован н...</td>\n",
       "    </tr>\n",
       "    <tr>\n",
       "      <th>4</th>\n",
       "      <td>О внесении изменений в Правила подготовки и пр...</td>\n",
       "      <td>внесении изменений правила подготовки принятия...</td>\n",
       "      <td>внесен изменен прав подготовк принят решен пре...</td>\n",
       "    </tr>\n",
       "  </tbody>\n",
       "</table>\n",
       "</div>"
      ],
      "text/plain": [
       "                                           act_title  \\\n",
       "0  Об утверждении тарифов на услуги по транспорти...   \n",
       "1  О внесении изменений в отдельные законодательн...   \n",
       "2  Об утверждении Положения об уведомлении лиц об...   \n",
       "3  О внесении изменений в Положение о Министерств...   \n",
       "4  О внесении изменений в Правила подготовки и пр...   \n",
       "\n",
       "                                     act_title_clear  \\\n",
       "0  утверждении тарифов услуги транспортировке газ...   \n",
       "1  внесении изменений отдельные законодательные а...   \n",
       "2  утверждении положения уведомлении лиц включени...   \n",
       "3  внесении изменений положение министерстве обра...   \n",
       "4  внесении изменений правила подготовки принятия...   \n",
       "\n",
       "                                       act_title_lem  \n",
       "0  утвержден тариф услуг транспортировк газ газор...  \n",
       "1  внесен изменен отдельн законодательн акт росси...  \n",
       "2  утвержден положен уведомлен лиц включен список...  \n",
       "3  внесен изменен положен министерств образован н...  \n",
       "4  внесен изменен прав подготовк принят решен пре...  "
      ]
     },
     "execution_count": 15,
     "metadata": {},
     "output_type": "execute_result"
    }
   ],
   "source": [
    "data_all['act_title_lem'] = lem_titles\n",
    "data_all[['act_title', 'act_title_clear', 'act_title_lem']].head()"
   ]
  },
  {
   "cell_type": "markdown",
   "metadata": {},
   "source": [
    "Проведем кластеризацию названий законопроектов:"
   ]
  },
  {
   "cell_type": "code",
   "execution_count": 16,
   "metadata": {},
   "outputs": [],
   "source": [
    "from sklearn.feature_extraction.text import TfidfVectorizer\n",
    "from sklearn.cluster import KMeans"
   ]
  },
  {
   "cell_type": "code",
   "execution_count": 17,
   "metadata": {},
   "outputs": [
    {
     "data": {
      "text/plain": [
       "(85006, 8000)"
      ]
     },
     "execution_count": 17,
     "metadata": {},
     "output_type": "execute_result"
    }
   ],
   "source": [
    "vectorizer = TfidfVectorizer(min_df = 5, max_df = 0.95, ngram_range=(1, 2), max_features = 8000)\n",
    "X = vectorizer.fit_transform(data_all['act_title_lem'])\n",
    "\n",
    "X.shape"
   ]
  },
  {
   "cell_type": "code",
   "execution_count": 18,
   "metadata": {},
   "outputs": [
    {
     "name": "stderr",
     "output_type": "stream",
     "text": [
      "100%|███████████████████████████████████████████| 2/2 [06:13<00:00, 186.58s/it]\n"
     ]
    }
   ],
   "source": [
    "# Применим кластеризацию на 6 и на 8 кластеров\n",
    "\n",
    "k_list = [6, 8]\n",
    "\n",
    "for k in tqdm(k_list):\n",
    "    model_kmeans = KMeans(n_clusters=k, random_state=SEED).fit(X)\n",
    "    data_all['cluster_kmeans_ngram_'+str(k)] = model_kmeans.labels_"
   ]
  },
  {
   "cell_type": "code",
   "execution_count": 19,
   "metadata": {},
   "outputs": [
    {
     "data": {
      "image/png": "[encoded data removed]",
      "text/plain": [
       "<Figure size 720x432 with 2 Axes>"
      ]
     },
     "metadata": {},
     "output_type": "display_data"
    }
   ],
   "source": [
    "pie, ax = plt.subplots(figsize=[10, 6])\n",
    "for i, k in enumerate(k_list):\n",
    "    data = data_all.groupby('cluster_kmeans_ngram_' + str(k))['id'].count()\n",
    "    plt.subplot(1, 2, i+1)\n",
    "    plt.pie(x=data, labels=data.values);\n",
    "    plt.title(\"Clusters distribution:\" + str(k), fontsize=12);"
   ]
  },
  {
   "cell_type": "markdown",
   "metadata": {},
   "source": [
    "Посмотрим на наиболее частые слова из названий законопроектов каждого кластера:"
   ]
  },
  {
   "cell_type": "code",
   "execution_count": 20,
   "metadata": {},
   "outputs": [],
   "source": [
    "def get_top_keywords(data, clusters, labels, n_terms):\n",
    "    df = pd.DataFrame(data.todense()).groupby(clusters).mean()\n",
    "    \n",
    "    for i,r in df.iterrows():\n",
    "        print('\\nCluster {}'.format(i))\n",
    "        print(','.join([labels[t] for t in np.argsort(r)[-n_terms:]]))"
   ]
  },
  {
   "cell_type": "code",
   "execution_count": 21,
   "metadata": {},
   "outputs": [
    {
     "name": "stdout",
     "output_type": "stream",
     "text": [
      "Вариант 1:\n",
      "\n",
      "Cluster 0\n",
      "организац,росс,прав,порядк,российск федерац,федерац,российск,государствен,федеральн,утвержден\n",
      "\n",
      "Cluster 1\n",
      "федеральн государствен,подготовк,стандарт,образовательн,стандарт высш,государствен образовательн,образовательн стандарт,образован,высш образован,высш\n",
      "\n",
      "Cluster 2\n",
      "изменен приказ,внесен,внесен изменен,изменен,приказ министерств,приказ,министерств,российск,российск федерац,федерац\n",
      "\n",
      "Cluster 3\n",
      "стандарт работник,специалист област,производств,утвержден,специалист,стандарт специалист,стандарт,профессиональн,утвержден профессиональн,профессиональн стандарт\n",
      "\n",
      "Cluster 4\n",
      "внесен,внесен изменен,российск,российск федерац,федерац,изменен постановлен,постановлен,постановлен правительств,правительств российск,правительств\n",
      "\n",
      "Cluster 5\n",
      "российск федерац,изменен стат,кодекс российск,кодекс,стат,изменен,внесен,внесен изменен,федеральн закон,закон\n",
      "\n",
      "Вариант 2:\n",
      "\n",
      "Cluster 0\n",
      "надзор,гражданск,агентств,утвержден,государствен гражданск,федеральн государствен,федеральн служб,государствен,служб,федеральн\n",
      "\n",
      "Cluster 1\n",
      "приказ,внесен,проект,изменен,федеральн,организац,прав,порядк,росс,утвержден\n",
      "\n",
      "Cluster 2\n",
      "утвержден,приказ министерств,приказ,внесен изменен,внесен,изменен,министерств,российск федерац,федерац,российск\n",
      "\n",
      "Cluster 3\n",
      "внесен,внесен изменен,российск,российск федерац,федерац,правительств российск,правительств,изменен постановлен,постановлен,постановлен правительств\n",
      "\n",
      "Cluster 4\n",
      "стандарт работник,специалист област,производств,утвержден,специалист,стандарт специалист,стандарт,профессиональн,утвержден профессиональн,профессиональн стандарт\n",
      "\n",
      "Cluster 5\n",
      "российск федерац,изменен стат,кодекс российск,кодекс,стат,изменен,внесен,внесен изменен,федеральн закон,закон\n",
      "\n",
      "Cluster 6\n",
      "российск,российск федерац,федерац,правительств российск,правительств,акт,изменен некотор,некотор,акт правительств,некотор акт\n",
      "\n",
      "Cluster 7\n",
      "утвержден федеральн,федеральн государствен,стандарт высш,стандарт,образовательн,высш образован,государствен образовательн,образовательн стандарт,высш,образован\n"
     ]
    }
   ],
   "source": [
    "print('Вариант 1:')\n",
    "get_top_keywords(X, data_all['cluster_kmeans_ngram_6'], vectorizer.get_feature_names(), 10)\n",
    "\n",
    "print('\\nВариант 2:')\n",
    "get_top_keywords(X, data_all['cluster_kmeans_ngram_8'], vectorizer.get_feature_names(), 10)"
   ]
  },
  {
   "cell_type": "markdown",
   "metadata": {},
   "source": [
    "Посмотрим на распределение целевой переменной в зависимости от принадлежности законопроекта определенному кластеру:"
   ]
  },
  {
   "cell_type": "code",
   "execution_count": 22,
   "metadata": {},
   "outputs": [
    {
     "data": {
      "image/png": "[encoded data removed]",
      "text/plain": [
       "<Figure size 412x360 with 1 Axes>"
      ]
     },
     "metadata": {
      "needs_background": "light"
     },
     "output_type": "display_data"
    }
   ],
   "source": [
    "sns.catplot(x='cluster_kmeans_ngram_6', data=data_all, hue='passed', kind='count');"
   ]
  },
  {
   "cell_type": "code",
   "execution_count": 23,
   "metadata": {},
   "outputs": [
    {
     "data": {
      "image/png": "[encoded data removed]",
      "text/plain": [
       "<Figure size 412x360 with 1 Axes>"
      ]
     },
     "metadata": {
      "needs_background": "light"
     },
     "output_type": "display_data"
    }
   ],
   "source": [
    "sns.catplot(x='cluster_kmeans_ngram_8', data=data_all, hue='passed', kind='count');"
   ]
  },
  {
   "cell_type": "markdown",
   "metadata": {},
   "source": [
    "Можно сделать вывод, что оба варианта кластеризации несут определенный смысл и могут помочь в решении задачи."
   ]
  },
  {
   "cell_type": "markdown",
   "metadata": {},
   "source": [
    "# 3.Обработка остальных полей regulations.csv"
   ]
  },
  {
   "cell_type": "code",
   "execution_count": 24,
   "metadata": {},
   "outputs": [
    {
     "data": {
      "text/html": [
       "<div>\n",
       "<style scoped>\n",
       "    .dataframe tbody tr th:only-of-type {\n",
       "        vertical-align: middle;\n",
       "    }\n",
       "\n",
       "    .dataframe tbody tr th {\n",
       "        vertical-align: top;\n",
       "    }\n",
       "\n",
       "    .dataframe thead th {\n",
       "        text-align: right;\n",
       "    }\n",
       "</style>\n",
       "<table border=\"1\" class=\"dataframe\">\n",
       "  <thead>\n",
       "    <tr style=\"text-align: right;\">\n",
       "      <th></th>\n",
       "      <th>id</th>\n",
       "      <th>act_title</th>\n",
       "      <th>publication_date</th>\n",
       "      <th>developer</th>\n",
       "      <th>okved_list</th>\n",
       "      <th>views_num</th>\n",
       "      <th>comments_num</th>\n",
       "      <th>likes_num</th>\n",
       "      <th>dislikes_num</th>\n",
       "      <th>regulatory_impact</th>\n",
       "      <th>...</th>\n",
       "      <th>act_objectives</th>\n",
       "      <th>persons_affected_by_act</th>\n",
       "      <th>relations_regulated_by_act</th>\n",
       "      <th>act_significance</th>\n",
       "      <th>na_counts</th>\n",
       "      <th>passed</th>\n",
       "      <th>act_title_clear</th>\n",
       "      <th>act_title_lem</th>\n",
       "      <th>cluster_kmeans_ngram_6</th>\n",
       "      <th>cluster_kmeans_ngram_8</th>\n",
       "    </tr>\n",
       "  </thead>\n",
       "  <tbody>\n",
       "    <tr>\n",
       "      <th>0</th>\n",
       "      <td>5038</td>\n",
       "      <td>Об утверждении тарифов на услуги по транспорти...</td>\n",
       "      <td>2013-09-11</td>\n",
       "      <td>ФСТ России</td>\n",
       "      <td>NaN</td>\n",
       "      <td>376.0</td>\n",
       "      <td>0.0</td>\n",
       "      <td>0.0</td>\n",
       "      <td>0.0</td>\n",
       "      <td>Низкая</td>\n",
       "      <td>...</td>\n",
       "      <td>NaN</td>\n",
       "      <td>NaN</td>\n",
       "      <td>NaN</td>\n",
       "      <td>NaN</td>\n",
       "      <td>6</td>\n",
       "      <td>0.0</td>\n",
       "      <td>утверждении тарифов услуги транспортировке газ...</td>\n",
       "      <td>утвержден тариф услуг транспортировк газ газор...</td>\n",
       "      <td>0</td>\n",
       "      <td>1</td>\n",
       "    </tr>\n",
       "    <tr>\n",
       "      <th>1</th>\n",
       "      <td>5039</td>\n",
       "      <td>О внесении изменений в отдельные законодательн...</td>\n",
       "      <td>2013-06-11</td>\n",
       "      <td>Минтруд России</td>\n",
       "      <td>Здравоохранение; Предоставление социальных услуг</td>\n",
       "      <td>504.0</td>\n",
       "      <td>0.0</td>\n",
       "      <td>0.0</td>\n",
       "      <td>0.0</td>\n",
       "      <td>Низкая</td>\n",
       "      <td>...</td>\n",
       "      <td>NaN</td>\n",
       "      <td>NaN</td>\n",
       "      <td>NaN</td>\n",
       "      <td>NaN</td>\n",
       "      <td>5</td>\n",
       "      <td>0.0</td>\n",
       "      <td>внесении изменений отдельные законодательные а...</td>\n",
       "      <td>внесен изменен отдельн законодательн акт росси...</td>\n",
       "      <td>5</td>\n",
       "      <td>5</td>\n",
       "    </tr>\n",
       "    <tr>\n",
       "      <th>2</th>\n",
       "      <td>5040</td>\n",
       "      <td>Об утверждении Положения об уведомлении лиц об...</td>\n",
       "      <td>2013-04-29</td>\n",
       "      <td>Росфинмониторинг</td>\n",
       "      <td>Финансовая деятельность</td>\n",
       "      <td>428.0</td>\n",
       "      <td>0.0</td>\n",
       "      <td>0.0</td>\n",
       "      <td>0.0</td>\n",
       "      <td>Низкая</td>\n",
       "      <td>...</td>\n",
       "      <td>NaN</td>\n",
       "      <td>NaN</td>\n",
       "      <td>NaN</td>\n",
       "      <td>NaN</td>\n",
       "      <td>5</td>\n",
       "      <td>0.0</td>\n",
       "      <td>утверждении положения уведомлении лиц включени...</td>\n",
       "      <td>утвержден положен уведомлен лиц включен список...</td>\n",
       "      <td>0</td>\n",
       "      <td>1</td>\n",
       "    </tr>\n",
       "    <tr>\n",
       "      <th>3</th>\n",
       "      <td>5041</td>\n",
       "      <td>О внесении изменений в Положение о Министерств...</td>\n",
       "      <td>2013-10-21</td>\n",
       "      <td>Минобрнауки России</td>\n",
       "      <td>Образование</td>\n",
       "      <td>376.0</td>\n",
       "      <td>0.0</td>\n",
       "      <td>0.0</td>\n",
       "      <td>0.0</td>\n",
       "      <td>Низкая</td>\n",
       "      <td>...</td>\n",
       "      <td>NaN</td>\n",
       "      <td>NaN</td>\n",
       "      <td>NaN</td>\n",
       "      <td>NaN</td>\n",
       "      <td>5</td>\n",
       "      <td>1.0</td>\n",
       "      <td>внесении изменений положение министерстве обра...</td>\n",
       "      <td>внесен изменен положен министерств образован н...</td>\n",
       "      <td>2</td>\n",
       "      <td>2</td>\n",
       "    </tr>\n",
       "    <tr>\n",
       "      <th>4</th>\n",
       "      <td>5042</td>\n",
       "      <td>О внесении изменений в Правила подготовки и пр...</td>\n",
       "      <td>2014-02-24</td>\n",
       "      <td>Минприроды России</td>\n",
       "      <td>NaN</td>\n",
       "      <td>499.0</td>\n",
       "      <td>0.0</td>\n",
       "      <td>0.0</td>\n",
       "      <td>0.0</td>\n",
       "      <td>Низкая</td>\n",
       "      <td>...</td>\n",
       "      <td>Пунктом 12 части 2 статьи 11 Водного кодекса Р...</td>\n",
       "      <td>неопределенный круг лиц</td>\n",
       "      <td>необходимость корреляции Правил подготовки и п...</td>\n",
       "      <td>Проект постановления Правительства Российской ...</td>\n",
       "      <td>1</td>\n",
       "      <td>NaN</td>\n",
       "      <td>внесении изменений правила подготовки принятия...</td>\n",
       "      <td>внесен изменен прав подготовк принят решен пре...</td>\n",
       "      <td>0</td>\n",
       "      <td>2</td>\n",
       "    </tr>\n",
       "  </tbody>\n",
       "</table>\n",
       "<p>5 rows × 26 columns</p>\n",
       "</div>"
      ],
      "text/plain": [
       "     id                                          act_title publication_date  \\\n",
       "0  5038  Об утверждении тарифов на услуги по транспорти...       2013-09-11   \n",
       "1  5039  О внесении изменений в отдельные законодательн...       2013-06-11   \n",
       "2  5040  Об утверждении Положения об уведомлении лиц об...       2013-04-29   \n",
       "3  5041  О внесении изменений в Положение о Министерств...       2013-10-21   \n",
       "4  5042  О внесении изменений в Правила подготовки и пр...       2014-02-24   \n",
       "\n",
       "            developer                                        okved_list  \\\n",
       "0          ФСТ России                                               NaN   \n",
       "1      Минтруд России  Здравоохранение; Предоставление социальных услуг   \n",
       "2    Росфинмониторинг                           Финансовая деятельность   \n",
       "3  Минобрнауки России                                       Образование   \n",
       "4   Минприроды России                                               NaN   \n",
       "\n",
       "   views_num  comments_num  likes_num  dislikes_num regulatory_impact  ...  \\\n",
       "0      376.0           0.0        0.0           0.0            Низкая  ...   \n",
       "1      504.0           0.0        0.0           0.0            Низкая  ...   \n",
       "2      428.0           0.0        0.0           0.0            Низкая  ...   \n",
       "3      376.0           0.0        0.0           0.0            Низкая  ...   \n",
       "4      499.0           0.0        0.0           0.0            Низкая  ...   \n",
       "\n",
       "                                      act_objectives  persons_affected_by_act  \\\n",
       "0                                                NaN                      NaN   \n",
       "1                                                NaN                      NaN   \n",
       "2                                                NaN                      NaN   \n",
       "3                                                NaN                      NaN   \n",
       "4  Пунктом 12 части 2 статьи 11 Водного кодекса Р...  неопределенный круг лиц   \n",
       "\n",
       "                          relations_regulated_by_act  \\\n",
       "0                                                NaN   \n",
       "1                                                NaN   \n",
       "2                                                NaN   \n",
       "3                                                NaN   \n",
       "4  необходимость корреляции Правил подготовки и п...   \n",
       "\n",
       "                                    act_significance na_counts passed  \\\n",
       "0                                                NaN         6    0.0   \n",
       "1                                                NaN         5    0.0   \n",
       "2                                                NaN         5    0.0   \n",
       "3                                                NaN         5    1.0   \n",
       "4  Проект постановления Правительства Российской ...         1    NaN   \n",
       "\n",
       "                                     act_title_clear  \\\n",
       "0  утверждении тарифов услуги транспортировке газ...   \n",
       "1  внесении изменений отдельные законодательные а...   \n",
       "2  утверждении положения уведомлении лиц включени...   \n",
       "3  внесении изменений положение министерстве обра...   \n",
       "4  внесении изменений правила подготовки принятия...   \n",
       "\n",
       "                                       act_title_lem cluster_kmeans_ngram_6  \\\n",
       "0  утвержден тариф услуг транспортировк газ газор...                      0   \n",
       "1  внесен изменен отдельн законодательн акт росси...                      5   \n",
       "2  утвержден положен уведомлен лиц включен список...                      0   \n",
       "3  внесен изменен положен министерств образован н...                      2   \n",
       "4  внесен изменен прав подготовк принят решен пре...                      0   \n",
       "\n",
       "  cluster_kmeans_ngram_8  \n",
       "0                      1  \n",
       "1                      5  \n",
       "2                      1  \n",
       "3                      2  \n",
       "4                      2  \n",
       "\n",
       "[5 rows x 26 columns]"
      ]
     },
     "execution_count": 24,
     "metadata": {},
     "output_type": "execute_result"
    }
   ],
   "source": [
    "data_all.head()"
   ]
  },
  {
   "cell_type": "markdown",
   "metadata": {},
   "source": [
    "## 3.1. publication_date"
   ]
  },
  {
   "cell_type": "code",
   "execution_count": 25,
   "metadata": {},
   "outputs": [
    {
     "data": {
      "text/plain": [
       "array(['2013-09-11', '2013-06-11', '2013-04-29', ..., '2021-09-06',\n",
       "       '2021-09-07', '2021-09-08'], dtype=object)"
      ]
     },
     "execution_count": 25,
     "metadata": {},
     "output_type": "execute_result"
    }
   ],
   "source": [
    "data_all['publication_date'].unique()"
   ]
  },
  {
   "cell_type": "code",
   "execution_count": 26,
   "metadata": {},
   "outputs": [],
   "source": [
    "data_all['publication_year'] = pd.to_datetime(data_all['publication_date'], format='%Y-%m-%d', errors='coerce').dt.year\n",
    "data_all['publication_month'] = pd.to_datetime(data_all['publication_date'], format='%Y-%m-%d', errors='coerce').dt.month\n",
    "data_all['publication_day'] = pd.to_datetime(data_all['publication_date'], format='%Y-%m-%d', errors='coerce').dt.day\n",
    "\n",
    "data_all.drop(['act_title', 'publication_date', 'act_title_clear', 'act_title_lem'], axis=1, inplace=True)"
   ]
  },
  {
   "cell_type": "markdown",
   "metadata": {},
   "source": [
    "## 3.2. okved_list"
   ]
  },
  {
   "cell_type": "code",
   "execution_count": 27,
   "metadata": {},
   "outputs": [
    {
     "data": {
      "text/plain": [
       "'Добыча полезных ископаемых, кроме топливно-энергетических; Производство пищевых продуктов, включая напитки, и табака; Текстильное и швейное производство; Производство кожи, изделий из кожи; Обработка древесины и производство изделий из дерева; Целлюлозно-бумажное производство; Химическое производство; Производство резиновых изделий; Производство прочих неметаллических минеральных продуктов; Металлургическое производство; Производство машин и оборудования; Производство электрооборудования; Производство транспортных средств; Прочие производства; Строительство; Оптовая и розничная торговля; Предоставление прочих коммунальных, социальных и персональных услуг; Производство обуви; Производство готовых металлических изделий; Производство оборудования; Производство бытовых изделий и предметов личного пользования'"
      ]
     },
     "execution_count": 27,
     "metadata": {},
     "output_type": "execute_result"
    }
   ],
   "source": [
    "okveds_all = data_all['okved_list'].unique()\n",
    "sorted(okveds_all, key=lambda x: len(x) if x==x else 0, reverse=True)[12]"
   ]
  },
  {
   "cell_type": "code",
   "execution_count": 28,
   "metadata": {},
   "outputs": [],
   "source": [
    "okved_set = set()\n",
    "max_okveds_count = 0\n",
    "\n",
    "for okved_list in okveds_all:\n",
    "    if okved_list != okved_list:\n",
    "        continue\n",
    "    okveds_count = 0\n",
    "    for okved in okved_list.split(';'):\n",
    "        okved = okved.strip()\n",
    "        okved_set.add(okved)\n",
    "        okveds_count += 1\n",
    "    if okveds_count > max_okveds_count:\n",
    "        max_okveds_count = okveds_count"
   ]
  },
  {
   "cell_type": "code",
   "execution_count": 29,
   "metadata": {},
   "outputs": [
    {
     "name": "stdout",
     "output_type": "stream",
     "text": [
      "Максимальное количество указанных ОКВЭД у одного законопроекта: 53\n",
      "Всего различных упоминаемых ОКВЭД: 57\n"
     ]
    }
   ],
   "source": [
    "print('Максимальное количество указанных ОКВЭД у одного законопроекта:', max_okveds_count)\n",
    "print('Всего различных упоминаемых ОКВЭД:', len(okved_set))"
   ]
  },
  {
   "cell_type": "code",
   "execution_count": 30,
   "metadata": {},
   "outputs": [
    {
     "data": {
      "text/plain": [
       "['Внешнеэкономическая деятельность',\n",
       " 'Гостиницы и рестораны',\n",
       " 'Государственное управление',\n",
       " 'Деятельность домашних хозяйств',\n",
       " 'Деятельность экстерриториальных организаций',\n",
       " 'Добыча полезных ископаемых, кроме топливно-энергетических',\n",
       " 'Добыча топливно-энергетических полезных ископаемых',\n",
       " 'Здравоохранение',\n",
       " 'Издательская и полиграфическая деятельность',\n",
       " 'Информационные технологии',\n",
       " 'Корпоративное управление',\n",
       " 'Лесное хозяйство',\n",
       " 'Металлургическое производство',\n",
       " 'Налоговое администрирование',\n",
       " 'Нефтепродукты',\n",
       " 'Обеспечение военной безопасности',\n",
       " 'Обработка древесины и производство изделий из дерева',\n",
       " 'Образование',\n",
       " 'Операции с недвижимым имуществом, аренда и предоставление услуг',\n",
       " 'Оптовая и розничная торговля',\n",
       " 'Охота',\n",
       " 'Персональные данные',\n",
       " 'Пластмассовые изделия',\n",
       " 'Правоохранительная деятельность',\n",
       " 'Предоставление прочих коммунальных, социальных и персональных услуг',\n",
       " 'Предоставление социальных услуг',\n",
       " 'Производство бытовых изделий и предметов личного пользования',\n",
       " 'Производство готовых металлических изделий',\n",
       " 'Производство и распределение электроэнергии, газа и воды',\n",
       " 'Производство кожи, изделий из кожи',\n",
       " 'Производство кокса',\n",
       " 'Производство машин и оборудования',\n",
       " 'Производство оборудования',\n",
       " 'Производство обуви',\n",
       " 'Производство оптического оборудования',\n",
       " 'Производство пищевых продуктов, включая напитки, и табака',\n",
       " 'Производство прочих неметаллических минеральных продуктов',\n",
       " 'Производство резиновых изделий',\n",
       " 'Производство транспортных средств',\n",
       " 'Производство электронного оборудования',\n",
       " 'Производство электрооборудования',\n",
       " 'Прочие производства',\n",
       " 'Регистрация права собственности и постановка на кадастровый учет',\n",
       " 'Ремонт автотранспортных средств, мотоциклов',\n",
       " 'Рыболовство, рыбоводство',\n",
       " 'Связь',\n",
       " 'Сельское хозяйство',\n",
       " 'Социальное страхование',\n",
       " 'Средства массовой информации',\n",
       " 'Строительство',\n",
       " 'Текстильное и швейное производство',\n",
       " 'Транспорт',\n",
       " 'Финансовая деятельность',\n",
       " 'Химическое производство',\n",
       " 'Целлюлозно-бумажное производство',\n",
       " 'Экология',\n",
       " 'Ядерные материалы']"
      ]
     },
     "execution_count": 30,
     "metadata": {},
     "output_type": "execute_result"
    }
   ],
   "source": [
    "sorted(list(okved_set))"
   ]
  },
  {
   "cell_type": "markdown",
   "metadata": {},
   "source": [
    "Создадим матрицу упомянутых ОКВЭД для каждого законопроекта:"
   ]
  },
  {
   "cell_type": "code",
   "execution_count": 31,
   "metadata": {},
   "outputs": [
    {
     "name": "stderr",
     "output_type": "stream",
     "text": [
      "100%|████████████████████████████████| 85006/85006 [00:00<00:00, 352646.73it/s]\n"
     ]
    }
   ],
   "source": [
    "data_okveds = []\n",
    "okved_names = sorted(list(okved_set))\n",
    "\n",
    "for okv_lst in tqdm(data_all['okved_list']):\n",
    "    coded_list = [0] * len(okved_set)\n",
    "    if okv_lst == okv_lst:\n",
    "        for okved in okv_lst.split(';'):\n",
    "            okved = okved.strip()\n",
    "            coded_list[okved_names.index(okved)] = 1\n",
    "    data_okveds.append(coded_list)"
   ]
  },
  {
   "cell_type": "code",
   "execution_count": 32,
   "metadata": {},
   "outputs": [
    {
     "data": {
      "text/html": [
       "<div>\n",
       "<style scoped>\n",
       "    .dataframe tbody tr th:only-of-type {\n",
       "        vertical-align: middle;\n",
       "    }\n",
       "\n",
       "    .dataframe tbody tr th {\n",
       "        vertical-align: top;\n",
       "    }\n",
       "\n",
       "    .dataframe thead th {\n",
       "        text-align: right;\n",
       "    }\n",
       "</style>\n",
       "<table border=\"1\" class=\"dataframe\">\n",
       "  <thead>\n",
       "    <tr style=\"text-align: right;\">\n",
       "      <th></th>\n",
       "      <th>0</th>\n",
       "      <th>1</th>\n",
       "      <th>2</th>\n",
       "      <th>3</th>\n",
       "      <th>4</th>\n",
       "      <th>5</th>\n",
       "      <th>6</th>\n",
       "      <th>7</th>\n",
       "      <th>8</th>\n",
       "      <th>9</th>\n",
       "      <th>...</th>\n",
       "      <th>47</th>\n",
       "      <th>48</th>\n",
       "      <th>49</th>\n",
       "      <th>50</th>\n",
       "      <th>51</th>\n",
       "      <th>52</th>\n",
       "      <th>53</th>\n",
       "      <th>54</th>\n",
       "      <th>55</th>\n",
       "      <th>56</th>\n",
       "    </tr>\n",
       "  </thead>\n",
       "  <tbody>\n",
       "    <tr>\n",
       "      <th>0</th>\n",
       "      <td>0</td>\n",
       "      <td>0</td>\n",
       "      <td>0</td>\n",
       "      <td>0</td>\n",
       "      <td>0</td>\n",
       "      <td>0</td>\n",
       "      <td>0</td>\n",
       "      <td>0</td>\n",
       "      <td>0</td>\n",
       "      <td>0</td>\n",
       "      <td>...</td>\n",
       "      <td>0</td>\n",
       "      <td>0</td>\n",
       "      <td>0</td>\n",
       "      <td>0</td>\n",
       "      <td>0</td>\n",
       "      <td>0</td>\n",
       "      <td>0</td>\n",
       "      <td>0</td>\n",
       "      <td>0</td>\n",
       "      <td>0</td>\n",
       "    </tr>\n",
       "    <tr>\n",
       "      <th>1</th>\n",
       "      <td>0</td>\n",
       "      <td>0</td>\n",
       "      <td>0</td>\n",
       "      <td>0</td>\n",
       "      <td>0</td>\n",
       "      <td>0</td>\n",
       "      <td>0</td>\n",
       "      <td>1</td>\n",
       "      <td>0</td>\n",
       "      <td>0</td>\n",
       "      <td>...</td>\n",
       "      <td>0</td>\n",
       "      <td>0</td>\n",
       "      <td>0</td>\n",
       "      <td>0</td>\n",
       "      <td>0</td>\n",
       "      <td>0</td>\n",
       "      <td>0</td>\n",
       "      <td>0</td>\n",
       "      <td>0</td>\n",
       "      <td>0</td>\n",
       "    </tr>\n",
       "    <tr>\n",
       "      <th>2</th>\n",
       "      <td>0</td>\n",
       "      <td>0</td>\n",
       "      <td>0</td>\n",
       "      <td>0</td>\n",
       "      <td>0</td>\n",
       "      <td>0</td>\n",
       "      <td>0</td>\n",
       "      <td>0</td>\n",
       "      <td>0</td>\n",
       "      <td>0</td>\n",
       "      <td>...</td>\n",
       "      <td>0</td>\n",
       "      <td>0</td>\n",
       "      <td>0</td>\n",
       "      <td>0</td>\n",
       "      <td>0</td>\n",
       "      <td>1</td>\n",
       "      <td>0</td>\n",
       "      <td>0</td>\n",
       "      <td>0</td>\n",
       "      <td>0</td>\n",
       "    </tr>\n",
       "    <tr>\n",
       "      <th>3</th>\n",
       "      <td>0</td>\n",
       "      <td>0</td>\n",
       "      <td>0</td>\n",
       "      <td>0</td>\n",
       "      <td>0</td>\n",
       "      <td>0</td>\n",
       "      <td>0</td>\n",
       "      <td>0</td>\n",
       "      <td>0</td>\n",
       "      <td>0</td>\n",
       "      <td>...</td>\n",
       "      <td>0</td>\n",
       "      <td>0</td>\n",
       "      <td>0</td>\n",
       "      <td>0</td>\n",
       "      <td>0</td>\n",
       "      <td>0</td>\n",
       "      <td>0</td>\n",
       "      <td>0</td>\n",
       "      <td>0</td>\n",
       "      <td>0</td>\n",
       "    </tr>\n",
       "    <tr>\n",
       "      <th>4</th>\n",
       "      <td>0</td>\n",
       "      <td>0</td>\n",
       "      <td>0</td>\n",
       "      <td>0</td>\n",
       "      <td>0</td>\n",
       "      <td>0</td>\n",
       "      <td>0</td>\n",
       "      <td>0</td>\n",
       "      <td>0</td>\n",
       "      <td>0</td>\n",
       "      <td>...</td>\n",
       "      <td>0</td>\n",
       "      <td>0</td>\n",
       "      <td>0</td>\n",
       "      <td>0</td>\n",
       "      <td>0</td>\n",
       "      <td>0</td>\n",
       "      <td>0</td>\n",
       "      <td>0</td>\n",
       "      <td>0</td>\n",
       "      <td>0</td>\n",
       "    </tr>\n",
       "    <tr>\n",
       "      <th>...</th>\n",
       "      <td>...</td>\n",
       "      <td>...</td>\n",
       "      <td>...</td>\n",
       "      <td>...</td>\n",
       "      <td>...</td>\n",
       "      <td>...</td>\n",
       "      <td>...</td>\n",
       "      <td>...</td>\n",
       "      <td>...</td>\n",
       "      <td>...</td>\n",
       "      <td>...</td>\n",
       "      <td>...</td>\n",
       "      <td>...</td>\n",
       "      <td>...</td>\n",
       "      <td>...</td>\n",
       "      <td>...</td>\n",
       "      <td>...</td>\n",
       "      <td>...</td>\n",
       "      <td>...</td>\n",
       "      <td>...</td>\n",
       "      <td>...</td>\n",
       "    </tr>\n",
       "    <tr>\n",
       "      <th>85001</th>\n",
       "      <td>0</td>\n",
       "      <td>0</td>\n",
       "      <td>0</td>\n",
       "      <td>0</td>\n",
       "      <td>0</td>\n",
       "      <td>0</td>\n",
       "      <td>0</td>\n",
       "      <td>0</td>\n",
       "      <td>0</td>\n",
       "      <td>0</td>\n",
       "      <td>...</td>\n",
       "      <td>0</td>\n",
       "      <td>0</td>\n",
       "      <td>0</td>\n",
       "      <td>0</td>\n",
       "      <td>0</td>\n",
       "      <td>1</td>\n",
       "      <td>0</td>\n",
       "      <td>0</td>\n",
       "      <td>0</td>\n",
       "      <td>0</td>\n",
       "    </tr>\n",
       "    <tr>\n",
       "      <th>85002</th>\n",
       "      <td>0</td>\n",
       "      <td>0</td>\n",
       "      <td>0</td>\n",
       "      <td>0</td>\n",
       "      <td>0</td>\n",
       "      <td>0</td>\n",
       "      <td>0</td>\n",
       "      <td>1</td>\n",
       "      <td>0</td>\n",
       "      <td>0</td>\n",
       "      <td>...</td>\n",
       "      <td>0</td>\n",
       "      <td>0</td>\n",
       "      <td>0</td>\n",
       "      <td>0</td>\n",
       "      <td>0</td>\n",
       "      <td>0</td>\n",
       "      <td>0</td>\n",
       "      <td>0</td>\n",
       "      <td>0</td>\n",
       "      <td>0</td>\n",
       "    </tr>\n",
       "    <tr>\n",
       "      <th>85003</th>\n",
       "      <td>0</td>\n",
       "      <td>0</td>\n",
       "      <td>0</td>\n",
       "      <td>0</td>\n",
       "      <td>0</td>\n",
       "      <td>0</td>\n",
       "      <td>0</td>\n",
       "      <td>0</td>\n",
       "      <td>0</td>\n",
       "      <td>0</td>\n",
       "      <td>...</td>\n",
       "      <td>0</td>\n",
       "      <td>0</td>\n",
       "      <td>1</td>\n",
       "      <td>0</td>\n",
       "      <td>0</td>\n",
       "      <td>0</td>\n",
       "      <td>0</td>\n",
       "      <td>0</td>\n",
       "      <td>0</td>\n",
       "      <td>0</td>\n",
       "    </tr>\n",
       "    <tr>\n",
       "      <th>85004</th>\n",
       "      <td>0</td>\n",
       "      <td>0</td>\n",
       "      <td>0</td>\n",
       "      <td>0</td>\n",
       "      <td>0</td>\n",
       "      <td>0</td>\n",
       "      <td>0</td>\n",
       "      <td>0</td>\n",
       "      <td>0</td>\n",
       "      <td>0</td>\n",
       "      <td>...</td>\n",
       "      <td>0</td>\n",
       "      <td>0</td>\n",
       "      <td>0</td>\n",
       "      <td>0</td>\n",
       "      <td>0</td>\n",
       "      <td>0</td>\n",
       "      <td>0</td>\n",
       "      <td>0</td>\n",
       "      <td>0</td>\n",
       "      <td>0</td>\n",
       "    </tr>\n",
       "    <tr>\n",
       "      <th>85005</th>\n",
       "      <td>0</td>\n",
       "      <td>0</td>\n",
       "      <td>0</td>\n",
       "      <td>0</td>\n",
       "      <td>0</td>\n",
       "      <td>0</td>\n",
       "      <td>0</td>\n",
       "      <td>0</td>\n",
       "      <td>0</td>\n",
       "      <td>1</td>\n",
       "      <td>...</td>\n",
       "      <td>0</td>\n",
       "      <td>1</td>\n",
       "      <td>0</td>\n",
       "      <td>0</td>\n",
       "      <td>0</td>\n",
       "      <td>0</td>\n",
       "      <td>0</td>\n",
       "      <td>0</td>\n",
       "      <td>0</td>\n",
       "      <td>0</td>\n",
       "    </tr>\n",
       "  </tbody>\n",
       "</table>\n",
       "<p>85006 rows × 57 columns</p>\n",
       "</div>"
      ],
      "text/plain": [
       "       0   1   2   3   4   5   6   7   8   9   ...  47  48  49  50  51  52  \\\n",
       "0       0   0   0   0   0   0   0   0   0   0  ...   0   0   0   0   0   0   \n",
       "1       0   0   0   0   0   0   0   1   0   0  ...   0   0   0   0   0   0   \n",
       "2       0   0   0   0   0   0   0   0   0   0  ...   0   0   0   0   0   1   \n",
       "3       0   0   0   0   0   0   0   0   0   0  ...   0   0   0   0   0   0   \n",
       "4       0   0   0   0   0   0   0   0   0   0  ...   0   0   0   0   0   0   \n",
       "...    ..  ..  ..  ..  ..  ..  ..  ..  ..  ..  ...  ..  ..  ..  ..  ..  ..   \n",
       "85001   0   0   0   0   0   0   0   0   0   0  ...   0   0   0   0   0   1   \n",
       "85002   0   0   0   0   0   0   0   1   0   0  ...   0   0   0   0   0   0   \n",
       "85003   0   0   0   0   0   0   0   0   0   0  ...   0   0   1   0   0   0   \n",
       "85004   0   0   0   0   0   0   0   0   0   0  ...   0   0   0   0   0   0   \n",
       "85005   0   0   0   0   0   0   0   0   0   1  ...   0   1   0   0   0   0   \n",
       "\n",
       "       53  54  55  56  \n",
       "0       0   0   0   0  \n",
       "1       0   0   0   0  \n",
       "2       0   0   0   0  \n",
       "3       0   0   0   0  \n",
       "4       0   0   0   0  \n",
       "...    ..  ..  ..  ..  \n",
       "85001   0   0   0   0  \n",
       "85002   0   0   0   0  \n",
       "85003   0   0   0   0  \n",
       "85004   0   0   0   0  \n",
       "85005   0   0   0   0  \n",
       "\n",
       "[85006 rows x 57 columns]"
      ]
     },
     "execution_count": 32,
     "metadata": {},
     "output_type": "execute_result"
    }
   ],
   "source": [
    "pd.DataFrame(data_okveds)"
   ]
  },
  {
   "cell_type": "markdown",
   "metadata": {},
   "source": [
    "Данные признаки не оказали положительного влияния на качество модели, поэтому в итоговую модель не вошли."
   ]
  },
  {
   "cell_type": "markdown",
   "metadata": {},
   "source": [
    "## 3.3. regulatory_impact, mineco_solution"
   ]
  },
  {
   "cell_type": "code",
   "execution_count": 33,
   "metadata": {},
   "outputs": [
    {
     "data": {
      "text/plain": [
       "Не определена    57404\n",
       "Низкая           18105\n",
       "Средняя           6633\n",
       "Высокая           2275\n",
       "NaN                589\n",
       "Name: regulatory_impact, dtype: int64"
      ]
     },
     "execution_count": 33,
     "metadata": {},
     "output_type": "execute_result"
    }
   ],
   "source": [
    "data_all['regulatory_impact'].value_counts(dropna=False)"
   ]
  },
  {
   "cell_type": "code",
   "execution_count": 34,
   "metadata": {},
   "outputs": [],
   "source": [
    "imp_dict = {'Низкая': 1, 'Средняя': 2, 'Высокая': 3, 'Не определена': 0}\n",
    "data_all['regulatory_impact'] = data_all['regulatory_impact'].map(imp_dict)"
   ]
  },
  {
   "cell_type": "code",
   "execution_count": 35,
   "metadata": {},
   "outputs": [
    {
     "data": {
      "text/plain": [
       "Не определено    76156\n",
       "Положительное     5860\n",
       "Отрицательное     2401\n",
       "NaN                589\n",
       "Name: mineco_solution, dtype: int64"
      ]
     },
     "execution_count": 35,
     "metadata": {},
     "output_type": "execute_result"
    }
   ],
   "source": [
    "data_all['mineco_solution'].value_counts(dropna=False)"
   ]
  },
  {
   "cell_type": "code",
   "execution_count": 36,
   "metadata": {},
   "outputs": [],
   "source": [
    "solution_dict = {'Отрицательное': 1, 'Положительное': 2, 'Не определено': 0}\n",
    "data_all['mineco_solution'] = data_all['mineco_solution'].map(solution_dict)"
   ]
  },
  {
   "cell_type": "markdown",
   "metadata": {},
   "source": [
    "## 3.4. is_regionally_signigicant, act_changes_controlling_activities"
   ]
  },
  {
   "cell_type": "code",
   "execution_count": 37,
   "metadata": {},
   "outputs": [
    {
     "data": {
      "text/plain": [
       "False    83785\n",
       "True       632\n",
       "NaN        589\n",
       "Name: is_regionally_signigicant, dtype: int64"
      ]
     },
     "execution_count": 37,
     "metadata": {},
     "output_type": "execute_result"
    }
   ],
   "source": [
    "data_all['is_regionally_signigicant'].value_counts(dropna=False)"
   ]
  },
  {
   "cell_type": "code",
   "execution_count": 38,
   "metadata": {},
   "outputs": [
    {
     "data": {
      "text/plain": [
       "False    83360\n",
       "True      1057\n",
       "NaN        589\n",
       "Name: act_changes_controlling_activities, dtype: int64"
      ]
     },
     "execution_count": 38,
     "metadata": {},
     "output_type": "execute_result"
    }
   ],
   "source": [
    "data_all['act_changes_controlling_activities'].value_counts(dropna=False)"
   ]
  },
  {
   "cell_type": "code",
   "execution_count": 39,
   "metadata": {},
   "outputs": [],
   "source": [
    "data_all['is_regionally_signigicant'] = data_all['is_regionally_signigicant'].fillna(-1).astype(int)\n",
    "data_all['act_changes_controlling_activities'] = data_all['act_changes_controlling_activities'].fillna(-1).astype(int)"
   ]
  },
  {
   "cell_type": "markdown",
   "metadata": {},
   "source": [
    "## 3.5. developer, problem_addressed, act_objectives, persons_affected_by_act, relations_regulated_by_act, act_significance"
   ]
  },
  {
   "cell_type": "code",
   "execution_count": 40,
   "metadata": {},
   "outputs": [
    {
     "data": {
      "text/plain": [
       "Минобрнауки России                                            6258\n",
       "Минтруд России                                                6254\n",
       "Минтранс России                                               5062\n",
       "Минфин России                                                 5053\n",
       "Минэкономразвития России                                      4757\n",
       "                                                              ... \n",
       "Федеральная служба по оборонному заказу                         20\n",
       "Рособоронпоставка                                               18\n",
       "Коллегия Военно-промышленной комиссии Российской Федерации      15\n",
       "СВР России                                                       2\n",
       "Департамент энергетики Правительства Российской Федерации        1\n",
       "Name: developer, Length: 99, dtype: int64"
      ]
     },
     "execution_count": 40,
     "metadata": {},
     "output_type": "execute_result"
    }
   ],
   "source": [
    "data_all['developer'].value_counts(dropna=False)"
   ]
  },
  {
   "cell_type": "code",
   "execution_count": 41,
   "metadata": {},
   "outputs": [
    {
     "data": {
      "text/plain": [
       "NaN                                                                                                                                                                                                                                                                                                                                                                                                                                                                                                                                                                                                                      66505\n",
       "Изменения во ФГОС                                                                                                                                                                                                                                                                                                                                                                                                                                                                                                                                                                                                          425\n",
       "внесение изменений во ФГОС                                                                                                                                                                                                                                                                                                                                                                                                                                                                                                                                                                                                  81\n",
       "внедрение фгос                                                                                                                                                                                                                                                                                                                                                                                                                                                                                                                                                                                                              77\n",
       "По каждому виду спорта (за исключением военно-прикладных, служебно-прикладных видов спорта, а также национальных видов спорта, развитие которых не осуществляется соответствующей общероссийской спортивной федерацией), внесенному во Всероссийский реестр видов спорта, устанавливаются федеральные стандарты спортивной подготовки (далее - ФССП).\\nФССП представляют собой совокупность минимальных требований к спортивной подготовке по видам спорта.\\n Программа спортивной подготовки разрабатывается и реализуется организацией, осуществляющей спортивную подготовку, в соответствии с требованиями ФССП.\\n       76\n",
       "                                                                                                                                                                                                                                                                                                                                                                                                                                                                                                                                                                                                                         ...  \n",
       "Установление санитарно-эпидемиологических требований, направленных на обеспечение безопасности и (или) безвредности для человека факторов среды обитания, условий деятельности юридических лиц и граждан, в том числе индивидуальных предпринимателей, используемых ими территорий, зданий, строений, сооружений, помещений, оборудования, транспортных средств, несоблюдение которых создает угрозу жизни или здоровью человека, угрозу возникновения и распространения заболеваний                                                                                                                                         1\n",
       "Изменения вносятся в соответствии с поступившими предложениями по изменению в структуре воздушного пространства.                                                                                                                                                                                                                                                                                                                                                                                                                                                                                                             1\n",
       "создание Комиссии Федерального агентства научных организаций по соблюдению требований к служебному поведению федеральных государственных гражданских служащих центрального аппарата Федерального агентства научных организаций, руководителей и заместителей руководителей территориальных органов Федерального агентства научных организаций и работников, замещающих отдельные должности на основании трудового договора в организациях, созданных для выполнения задач, поставленных перед Федеральным агентством научных организаций, и урегулированию конфликта интересов                                               1\n",
       "Отсутствие методики определения размера арендной платы при заключении нового договора аренды лесного участка без проведения торгов с арендатором, добросовестно исполнившим обязательства по действующему договору аренды                                                                                                                                                                                                                                                                                                                                                                                                    1\n",
       "В настоящее время в рамках программы модернизации Вооруженных Сил Российской Федерации осуществляется оснащение органов глубоководных исследований Министерства обороны Российской Федерации новым классом судов специального назначения, предназначенными для выполнения специальных задач и проведения океанографических исследований в интересах Российской Федерации в различных районах Мирового океана. \\nПо условиям жизнедеятельности экипажа и факторам обитаемости данный класс судов не имеет принципиальных отличий от разведывательных кораблей Военно-Морского Флота.                                          1\n",
       "Name: problem_addressed, Length: 16572, dtype: int64"
      ]
     },
     "execution_count": 41,
     "metadata": {},
     "output_type": "execute_result"
    }
   ],
   "source": [
    "data_all['problem_addressed'].value_counts(dropna=False)"
   ]
  },
  {
   "cell_type": "code",
   "execution_count": 42,
   "metadata": {},
   "outputs": [
    {
     "data": {
      "text/plain": [
       "NaN                                                                                                                                                                                                                                                                                                                                                                            74325\n",
       "Изменения во ФГОС                                                                                                                                                                                                                                                                                                                                                                425\n",
       "внесение изменений во ФГОС                                                                                                                                                                                                                                                                                                                                                        80\n",
       "внедрение фгос                                                                                                                                                                                                                                                                                                                                                                    75\n",
       "-                                                                                                                                                                                                                                                                                                                                                                                 59\n",
       "                                                                                                                                                                                                                                                                                                                                                                               ...  \n",
       "Обеспечение целостности, устойчивости функционирования \\nи безопасности единой сети электросвязи Российской Федерации посредством установления требований к появляющимся на рынке новым современным средствам связи и декларирования их изготовителем соответствия этих средств связи установленным требованиям.\\n                                                                 1\n",
       "внесение изменений в Порядок изменения срока уплаты налога и сбора, а также пени и штрафа налоговыми органами                                                                                                                                                                                                                                                                      1\n",
       "Целью регулирования является установление гигиенических нормативов  (предельно допустимых концентраций) для ряда загрязняющих атмосферный воздух веществ на уровне, который позволит обеспечить отсутствие вредного воздействия на здоровье человека.                                                                                                                              1\n",
       "В целях проведения оценки результативности деятельности подведомственных научных организаций разработан проект приказа «Об утверждении методики оценки результативности деятельности научных организаций, подведомственных Федеральному агентству связи, выполняющих научно-исследовательские, опытно-конструкторские \\nи технологические работы гражданского назначения»\\n        1\n",
       "унификация  форм документов, необходимых для подключения (технологического присоединения) объектов капитального строительства к сети газораспределения                                                                                                                                                                                                                             1\n",
       "Name: act_objectives, Length: 9242, dtype: int64"
      ]
     },
     "execution_count": 42,
     "metadata": {},
     "output_type": "execute_result"
    }
   ],
   "source": [
    "data_all['act_objectives'].value_counts(dropna=False)"
   ]
  },
  {
   "cell_type": "code",
   "execution_count": 43,
   "metadata": {},
   "outputs": [
    {
     "data": {
      "text/plain": [
       "NaN                                                                                                                                                                                                                                      66504\n",
       "Росреестр                                                                                                                                                                                                                                 1049\n",
       "вузы                                                                                                                                                                                                                                       649\n",
       "сотрудники органов внутренних дел Российской Федерации                                                                                                                                                                                     484\n",
       "Не ограниченный круг лиц                                                                                                                                                                                                                   286\n",
       "                                                                                                                                                                                                                                         ...  \n",
       "Администрации морских портов                                                                                                                                                                                                                 1\n",
       "Росреестр; граждане Российской Федерации; Сотрудники, федеральные государственные гражданские служащие и работники МВД России                                                                                                                1\n",
       "Пенсионный фонд Российской Федерации; уполномоченные органы федеральных органов исполнительной власти и федеральных государственных органов, осуществляющих пенсионное обеспечение в соответствии с Законом РФ от 12.02.1993 № 4468-1        1\n",
       "организации, приобретающие у производителей транспортные средства (в том числе железнодорожный подвижной состав)                                                                                                                             1\n",
       "Операторы связи, операторы поисковых систем, правообладатели, владельцы сайтов в сети Интернет                                                                                                                                               1\n",
       "Name: persons_affected_by_act, Length: 7751, dtype: int64"
      ]
     },
     "execution_count": 43,
     "metadata": {},
     "output_type": "execute_result"
    }
   ],
   "source": [
    "data_all['persons_affected_by_act'].value_counts(dropna=False)"
   ]
  },
  {
   "cell_type": "code",
   "execution_count": 44,
   "metadata": {},
   "outputs": [
    {
     "data": {
      "text/plain": [
       "NaN                                                                                                                                                                                                                                                                                                                                                                                                                                                                        66502\n",
       "Изменения во ФГОС                                                                                                                                                                                                                                                                                                                                                                                                                                                            425\n",
       "-                                                                                                                                                                                                                                                                                                                                                                                                                                                                            191\n",
       "Федеральные стандарты спортивной подготовки являются обязательными при реализации программ спортивной подготовки организациями, осуществляющими спортивную подготовку. Указанные стандарты не применяются работодателями в отношении спортсменов, с которыми заключены трудовые договоры, а также общероссийскими спортивными федерациями в отношении членов спортивных сборных команд Российской Федерации по соответствующим видам спорта.                                  88\n",
       "Отношения, связанные с организацией спортивной подготовки. Организации, осуществляющие спортивную подготовку, обеспечивают соблюдение федеральных стандартов спортивной подготовки, разрабатывают и реализуют на основе данных стандартов программы спортивной подготовки.                                                                                                                                                                                                    83\n",
       "                                                                                                                                                                                                                                                                                                                                                                                                                                                                           ...  \n",
       "Приведение  приказа МЧС России № 687 в соответствие нормативным правовым актам более высокой юридической силы                                                                                                                                                                                                                                                                                                                                                                  1\n",
       "Меры поддержки экспорта                                                                                                                                                                                                                                                                                                                                                                                                                                                        1\n",
       "Общественные отношения в сфере определения начальной (максимальной) цены контракта, цены контракта, заключаемого с единственным поставщиком (подрядчиком, исполнителем), и начальной цены единицы товара, работы, услуги при осуществлении закупок медицинских изделий для обеспечения государственных и муниципальных нужд.                                                                                                                                                   1\n",
       "Учитывая особенности содержания лиц, заключенных под стражу, в следственных изоляторах, длительность нахождения в них подозреваемых и обвиняемых в совершении преступлений, в законопроекте предлагается определить особенный порядок привлечения к дисциплинарной ответственности. Также будут установлены основания снятия и погашения взыскания, право начальника места содержания под стражей сократить срок содержания подозреваемого или обвиняемого в карцере.\\n        1\n",
       "взаимодействие в рамках НСПК                                                                                                                                                                                                                                                                                                                                                                                                                                                   1\n",
       "Name: relations_regulated_by_act, Length: 13889, dtype: int64"
      ]
     },
     "execution_count": 44,
     "metadata": {},
     "output_type": "execute_result"
    }
   ],
   "source": [
    "data_all['relations_regulated_by_act'].value_counts(dropna=False)"
   ]
  },
  {
   "cell_type": "code",
   "execution_count": 45,
   "metadata": {},
   "outputs": [
    {
     "data": {
      "text/plain": [
       "NaN                                                                                                                                                                                                                                     66505\n",
       "Федеральный закон от 29 декабря 2012 г. № 273-ФЗ «Об образовании в Российской Федерации»                                                                                                                                                  425\n",
       "Федеральный закон от 29 декабря 2012 г. № 273-ФЗ \"Об образовании в Российской Федерации\"                                                                                                                                                  202\n",
       "В соответствии с частью 1 статьи 34 Федерального закона от 04.12.2007 № 329-ФЗ «О физической культуре и спорте в Российской Федерации».                                                                                                    87\n",
       "Разработка проекта предусмотрена частью 1 статьи 34 Федерального закона от 04.12.2007 N 329-ФЗ \"О физической культуре и спорте в Российской Федерации\"                                                                                     79\n",
       "                                                                                                                                                                                                                                        ...  \n",
       "Реализация норм статьи 2 Федерального закона от 10.01.2003 N 18-ФЗ (ред. от 03.07.2016) \"Устав железнодорожного транспорта Российской Федерации\".                                                                                           1\n",
       "подготовлен в соответствии с перечнем поручений Президента Российской Федерации от 7 сентября 2017 г. № Пр-1773 по итогам заседания Совета при Президенте Российской Федерации по развитию местного самоуправления 5 августа 2017 г.        1\n",
       "Введение новых должностей в системе МЧС России                                                                                                                                                                                              1\n",
       "Перечень поручений Президента Российской Федерации от 24.10.2020 № Пр-1726ГС и Поручения Правительства Российской от 04.11.2020 № ММ-П13-14084                                                                                              1\n",
       "Устранение проблем, связанных с идентификацией пользователя услуг связи при заключении договора.                                                                                                                                            1\n",
       "Name: act_significance, Length: 15500, dtype: int64"
      ]
     },
     "execution_count": 45,
     "metadata": {},
     "output_type": "execute_result"
    }
   ],
   "source": [
    "data_all['act_significance'].value_counts(dropna=False)"
   ]
  },
  {
   "cell_type": "markdown",
   "metadata": {},
   "source": [
    "Для данных признаков применим токенизацию и последующий Label Encoding"
   ]
  },
  {
   "cell_type": "markdown",
   "metadata": {},
   "source": [
    "## 3.6. added_by, responsible"
   ]
  },
  {
   "cell_type": "code",
   "execution_count": 46,
   "metadata": {},
   "outputs": [
    {
     "data": {
      "text/plain": [
       "(0.1482444733420026, 0.1314045037930457)"
      ]
     },
     "execution_count": 46,
     "metadata": {},
     "output_type": "execute_result"
    }
   ],
   "source": [
    "data_all[data_all['added_by'] == data_all['responsible']]['passed'].mean(), \\\n",
    "data_all[data_all['added_by'] != data_all['responsible']]['passed'].mean()"
   ]
  },
  {
   "cell_type": "markdown",
   "metadata": {},
   "source": [
    "Можем заметить, что на значение целевого признака влияет факт того, что законопроект внес тот же человек, который является за него ответственным.\n",
    "\n",
    "Введем соответствующий признак: **added_resp** - у законопроекта совпадают эти два поля:"
   ]
  },
  {
   "cell_type": "code",
   "execution_count": 47,
   "metadata": {},
   "outputs": [],
   "source": [
    "data_all['added_resp'] = (data_all['added_by'] == data_all['responsible']).astype(int)"
   ]
  },
  {
   "cell_type": "markdown",
   "metadata": {},
   "source": [
    "Применим токенизацию и Label Encoding:"
   ]
  },
  {
   "cell_type": "code",
   "execution_count": 48,
   "metadata": {},
   "outputs": [],
   "source": [
    "name_cols = ['added_by', 'responsible']\n",
    "other_cols_to_encode = [ 'okved_list', 'developer', 'problem_addressed', 'act_objectives',\n",
    "                        'persons_affected_by_act', 'relations_regulated_by_act', 'act_significance']"
   ]
  },
  {
   "cell_type": "code",
   "execution_count": 49,
   "metadata": {},
   "outputs": [
    {
     "data": {
      "text/plain": [
       "LabelEncoder()"
      ]
     },
     "execution_count": 49,
     "metadata": {},
     "output_type": "execute_result"
    }
   ],
   "source": [
    "from sklearn.preprocessing import LabelEncoder\n",
    "\n",
    "le = LabelEncoder()\n",
    "le.fit(data_all[name_cols].fillna('na').values.reshape(-1))"
   ]
  },
  {
   "cell_type": "code",
   "execution_count": 50,
   "metadata": {},
   "outputs": [],
   "source": [
    "for col in name_cols:\n",
    "    data_all[col] = le.transform(data_all[col].fillna('na'))"
   ]
  },
  {
   "cell_type": "code",
   "execution_count": 51,
   "metadata": {},
   "outputs": [
    {
     "name": "stderr",
     "output_type": "stream",
     "text": [
      "100%|████████████████████████████████████████████| 7/7 [00:15<00:00,  2.18s/it]\n"
     ]
    }
   ],
   "source": [
    "for col in tqdm(other_cols_to_encode):\n",
    "    data_all[col] = le.fit_transform(data_all[col].map(clear_text).fillna('na'))"
   ]
  },
  {
   "cell_type": "code",
   "execution_count": 53,
   "metadata": {},
   "outputs": [
    {
     "data": {
      "text/plain": [
       "passed                                4000\n",
       "mineco_solution                        589\n",
       "publication_month                      589\n",
       "publication_year                       589\n",
       "views_num                              589\n",
       "comments_num                           589\n",
       "likes_num                              589\n",
       "dislikes_num                           589\n",
       "regulatory_impact                      589\n",
       "publication_day                        589\n",
       "is_regionally_signigicant                0\n",
       "developer                                0\n",
       "okved_list                               0\n",
       "added_by                                 0\n",
       "responsible                              0\n",
       "added_resp                               0\n",
       "act_changes_controlling_activities       0\n",
       "problem_addressed                        0\n",
       "act_objectives                           0\n",
       "persons_affected_by_act                  0\n",
       "relations_regulated_by_act               0\n",
       "act_significance                         0\n",
       "na_counts                                0\n",
       "cluster_kmeans_ngram_6                   0\n",
       "cluster_kmeans_ngram_8                   0\n",
       "id                                       0\n",
       "dtype: int64"
      ]
     },
     "execution_count": 53,
     "metadata": {},
     "output_type": "execute_result"
    }
   ],
   "source": [
    "data_all.isna().sum().sort_values(ascending=False)"
   ]
  },
  {
   "cell_type": "markdown",
   "metadata": {},
   "source": [
    "Пропущенные значения заменим на -1:"
   ]
  },
  {
   "cell_type": "code",
   "execution_count": 54,
   "metadata": {},
   "outputs": [],
   "source": [
    "cols_with_nans = [\n",
    "'publication_day',\n",
    "'publication_year',\n",
    "'views_num',\n",
    "'comments_num',\n",
    "'likes_num',\n",
    "'dislikes_num',\n",
    "'mineco_solution',\n",
    "'publication_month',\n",
    "'regulatory_impact'\n",
    "]\n",
    "\n",
    "for col in cols_with_nans:\n",
    "    data_all[col] = data_all[col].fillna(-1).astype(int)"
   ]
  },
  {
   "cell_type": "code",
   "execution_count": 55,
   "metadata": {},
   "outputs": [
    {
     "data": {
      "text/html": [
       "<div>\n",
       "<style scoped>\n",
       "    .dataframe tbody tr th:only-of-type {\n",
       "        vertical-align: middle;\n",
       "    }\n",
       "\n",
       "    .dataframe tbody tr th {\n",
       "        vertical-align: top;\n",
       "    }\n",
       "\n",
       "    .dataframe thead th {\n",
       "        text-align: right;\n",
       "    }\n",
       "</style>\n",
       "<table border=\"1\" class=\"dataframe\">\n",
       "  <thead>\n",
       "    <tr style=\"text-align: right;\">\n",
       "      <th></th>\n",
       "      <th>id</th>\n",
       "      <th>developer</th>\n",
       "      <th>okved_list</th>\n",
       "      <th>views_num</th>\n",
       "      <th>comments_num</th>\n",
       "      <th>likes_num</th>\n",
       "      <th>dislikes_num</th>\n",
       "      <th>regulatory_impact</th>\n",
       "      <th>added_by</th>\n",
       "      <th>responsible</th>\n",
       "      <th>...</th>\n",
       "      <th>relations_regulated_by_act</th>\n",
       "      <th>act_significance</th>\n",
       "      <th>na_counts</th>\n",
       "      <th>passed</th>\n",
       "      <th>cluster_kmeans_ngram_6</th>\n",
       "      <th>cluster_kmeans_ngram_8</th>\n",
       "      <th>publication_year</th>\n",
       "      <th>publication_month</th>\n",
       "      <th>publication_day</th>\n",
       "      <th>added_resp</th>\n",
       "    </tr>\n",
       "  </thead>\n",
       "  <tbody>\n",
       "    <tr>\n",
       "      <th>0</th>\n",
       "      <td>5038</td>\n",
       "      <td>94</td>\n",
       "      <td>0</td>\n",
       "      <td>376</td>\n",
       "      <td>0</td>\n",
       "      <td>0</td>\n",
       "      <td>0</td>\n",
       "      <td>1</td>\n",
       "      <td>4949</td>\n",
       "      <td>4949</td>\n",
       "      <td>...</td>\n",
       "      <td>9</td>\n",
       "      <td>9</td>\n",
       "      <td>6</td>\n",
       "      <td>0.0</td>\n",
       "      <td>0</td>\n",
       "      <td>1</td>\n",
       "      <td>2013</td>\n",
       "      <td>9</td>\n",
       "      <td>11</td>\n",
       "      <td>1</td>\n",
       "    </tr>\n",
       "    <tr>\n",
       "      <th>1</th>\n",
       "      <td>5039</td>\n",
       "      <td>30</td>\n",
       "      <td>160</td>\n",
       "      <td>504</td>\n",
       "      <td>0</td>\n",
       "      <td>0</td>\n",
       "      <td>0</td>\n",
       "      <td>1</td>\n",
       "      <td>6202</td>\n",
       "      <td>5598</td>\n",
       "      <td>...</td>\n",
       "      <td>9</td>\n",
       "      <td>9</td>\n",
       "      <td>5</td>\n",
       "      <td>0.0</td>\n",
       "      <td>5</td>\n",
       "      <td>5</td>\n",
       "      <td>2013</td>\n",
       "      <td>6</td>\n",
       "      <td>11</td>\n",
       "      <td>0</td>\n",
       "    </tr>\n",
       "    <tr>\n",
       "      <th>2</th>\n",
       "      <td>5040</td>\n",
       "      <td>72</td>\n",
       "      <td>780</td>\n",
       "      <td>428</td>\n",
       "      <td>0</td>\n",
       "      <td>0</td>\n",
       "      <td>0</td>\n",
       "      <td>1</td>\n",
       "      <td>7368</td>\n",
       "      <td>4497</td>\n",
       "      <td>...</td>\n",
       "      <td>9</td>\n",
       "      <td>9</td>\n",
       "      <td>5</td>\n",
       "      <td>0.0</td>\n",
       "      <td>0</td>\n",
       "      <td>1</td>\n",
       "      <td>2013</td>\n",
       "      <td>4</td>\n",
       "      <td>29</td>\n",
       "      <td>0</td>\n",
       "    </tr>\n",
       "    <tr>\n",
       "      <th>3</th>\n",
       "      <td>5041</td>\n",
       "      <td>21</td>\n",
       "      <td>220</td>\n",
       "      <td>376</td>\n",
       "      <td>0</td>\n",
       "      <td>0</td>\n",
       "      <td>0</td>\n",
       "      <td>1</td>\n",
       "      <td>1596</td>\n",
       "      <td>4977</td>\n",
       "      <td>...</td>\n",
       "      <td>9</td>\n",
       "      <td>9</td>\n",
       "      <td>5</td>\n",
       "      <td>1.0</td>\n",
       "      <td>2</td>\n",
       "      <td>2</td>\n",
       "      <td>2013</td>\n",
       "      <td>10</td>\n",
       "      <td>21</td>\n",
       "      <td>0</td>\n",
       "    </tr>\n",
       "    <tr>\n",
       "      <th>4</th>\n",
       "      <td>5042</td>\n",
       "      <td>22</td>\n",
       "      <td>0</td>\n",
       "      <td>499</td>\n",
       "      <td>0</td>\n",
       "      <td>0</td>\n",
       "      <td>0</td>\n",
       "      <td>1</td>\n",
       "      <td>6932</td>\n",
       "      <td>6932</td>\n",
       "      <td>...</td>\n",
       "      <td>2964</td>\n",
       "      <td>6863</td>\n",
       "      <td>1</td>\n",
       "      <td>NaN</td>\n",
       "      <td>0</td>\n",
       "      <td>2</td>\n",
       "      <td>2014</td>\n",
       "      <td>2</td>\n",
       "      <td>24</td>\n",
       "      <td>1</td>\n",
       "    </tr>\n",
       "  </tbody>\n",
       "</table>\n",
       "<p>5 rows × 26 columns</p>\n",
       "</div>"
      ],
      "text/plain": [
       "     id  developer  okved_list  views_num  comments_num  likes_num  \\\n",
       "0  5038         94           0        376             0          0   \n",
       "1  5039         30         160        504             0          0   \n",
       "2  5040         72         780        428             0          0   \n",
       "3  5041         21         220        376             0          0   \n",
       "4  5042         22           0        499             0          0   \n",
       "\n",
       "   dislikes_num  regulatory_impact  added_by  responsible  ...  \\\n",
       "0             0                  1      4949         4949  ...   \n",
       "1             0                  1      6202         5598  ...   \n",
       "2             0                  1      7368         4497  ...   \n",
       "3             0                  1      1596         4977  ...   \n",
       "4             0                  1      6932         6932  ...   \n",
       "\n",
       "   relations_regulated_by_act  act_significance  na_counts  passed  \\\n",
       "0                           9                 9          6     0.0   \n",
       "1                           9                 9          5     0.0   \n",
       "2                           9                 9          5     0.0   \n",
       "3                           9                 9          5     1.0   \n",
       "4                        2964              6863          1     NaN   \n",
       "\n",
       "   cluster_kmeans_ngram_6  cluster_kmeans_ngram_8  publication_year  \\\n",
       "0                       0                       1              2013   \n",
       "1                       5                       5              2013   \n",
       "2                       0                       1              2013   \n",
       "3                       2                       2              2013   \n",
       "4                       0                       2              2014   \n",
       "\n",
       "   publication_month  publication_day  added_resp  \n",
       "0                  9               11           1  \n",
       "1                  6               11           0  \n",
       "2                  4               29           0  \n",
       "3                 10               21           0  \n",
       "4                  2               24           1  \n",
       "\n",
       "[5 rows x 26 columns]"
      ]
     },
     "execution_count": 55,
     "metadata": {},
     "output_type": "execute_result"
    }
   ],
   "source": [
    "data_all.head()"
   ]
  },
  {
   "cell_type": "markdown",
   "metadata": {},
   "source": [
    "# 4. Добавим признаки из ria_reports_main.csv"
   ]
  },
  {
   "cell_type": "code",
   "execution_count": 56,
   "metadata": {},
   "outputs": [
    {
     "data": {
      "text/html": [
       "<div>\n",
       "<style scoped>\n",
       "    .dataframe tbody tr th:only-of-type {\n",
       "        vertical-align: middle;\n",
       "    }\n",
       "\n",
       "    .dataframe tbody tr th {\n",
       "        vertical-align: top;\n",
       "    }\n",
       "\n",
       "    .dataframe thead th {\n",
       "        text-align: right;\n",
       "    }\n",
       "</style>\n",
       "<table border=\"1\" class=\"dataframe\">\n",
       "  <thead>\n",
       "    <tr style=\"text-align: right;\">\n",
       "      <th></th>\n",
       "      <th>regulation_project_id</th>\n",
       "      <th>header: id</th>\n",
       "      <th>general_info: Федеральный орган исполнительной власти (далее – разработчик)</th>\n",
       "      <th>general_info: Сведения о федеральных органах исполнительной власти – соисполнителях</th>\n",
       "      <th>general_info: Вид и наименование проекта акта</th>\n",
       "      <th>general_info: Краткое описание проблемы, на решение которой направлен предлагаемый способ регулирования</th>\n",
       "      <th>general_info: Основание для разработки проекта акта</th>\n",
       "      <th>general_info: Краткое описание целей предлагаемого регулирования</th>\n",
       "      <th>general_info: Краткое описание предлагаемого способа регулирования</th>\n",
       "      <th>general_info: Контактная информация исполнителя разработчика</th>\n",
       "      <th>...</th>\n",
       "      <th>anticorr_expertise: Указать (при наличии) количество поступивших заключений от независимых экспертов (шт.)</th>\n",
       "      <th>anticorr_expertise: Выявленные коррупциогенные факторы и их способы устранения</th>\n",
       "      <th>other_notification_info: Иные необходимые, по мнению разработчика, сведения</th>\n",
       "      <th>other_notification_info: Источники данных</th>\n",
       "      <th>public_discussion: Полный электронный адрес размещения проекта акта в информационно-телекоммуникационной сети «Интернет»</th>\n",
       "      <th>public_discussion: Сведения о федеральных органах исполнительной власти и представителях предпринимательского сообщества, извещенных о проведении публичных консультаций</th>\n",
       "      <th>public_discussion: Сведения о лицах, представивших предложения</th>\n",
       "      <th>public_discussion: Сведения о структурных подразделениях разработчика, рассмотревших предоставленные предложения</th>\n",
       "      <th>public_discussion: Иные сведения о проведении публичного обсуждения проекта акта</th>\n",
       "      <th>cancel_duties: Нормативный правовой акт, в котором содержатся отменяемые обязанности, запреты или ограничения</th>\n",
       "    </tr>\n",
       "  </thead>\n",
       "  <tbody>\n",
       "    <tr>\n",
       "      <th>0</th>\n",
       "      <td>7208</td>\n",
       "      <td>00/03-14385/04-14/13-5-5</td>\n",
       "      <td>Министерство транспорта Российской Федерации -...</td>\n",
       "      <td>Министерство труда и социальной защиты Российс...</td>\n",
       "      <td>Проект приказа Минтранса России \"О внесении из...</td>\n",
       "      <td>Отсутствие нормативного регулирования предоста...</td>\n",
       "      <td>Проект разработан в рамках реализации Федераль...</td>\n",
       "      <td>Нормативное регулирование предоставления услуг...</td>\n",
       "      <td>Утверждение предлагаемых изменений</td>\n",
       "      <td>Сухарникова Екатерина Андреевна, Главный специ...</td>\n",
       "      <td>...</td>\n",
       "      <td>нет</td>\n",
       "      <td>нет</td>\n",
       "      <td>Проект согласован Минтрудом России письмом от ...</td>\n",
       "      <td>нет</td>\n",
       "      <td>http://regulation.gov.ru/projects#npa=7208</td>\n",
       "      <td>Минэкономразвития России, АЭВТ, ОАО \"Авиакомпа...</td>\n",
       "      <td></td>\n",
       "      <td></td>\n",
       "      <td>нет</td>\n",
       "      <td>нет</td>\n",
       "    </tr>\n",
       "    <tr>\n",
       "      <th>1</th>\n",
       "      <td>7243</td>\n",
       "      <td>00/03-3240/06-13/10-13-2</td>\n",
       "      <td>Роспотребнадзор</td>\n",
       "      <td>нет</td>\n",
       "      <td>Проект постановления Главного государственного...</td>\n",
       "      <td>Установление требований к инсоляции (облучению...</td>\n",
       "      <td>- Федеральный закон от 30.03.1999 № 52-ФЗ «О с...</td>\n",
       "      <td>В целях обеспечения безопасности здоровья насе...</td>\n",
       "      <td>В целях обеспечения безопасности здоровья насе...</td>\n",
       "      <td>Гуськов Андрей Сергеевич , заместитель начальн...</td>\n",
       "      <td>...</td>\n",
       "      <td>[o_11_1]</td>\n",
       "      <td>[o_11_2]</td>\n",
       "      <td>[o_12_1]</td>\n",
       "      <td>[o_12_2]</td>\n",
       "      <td>http://regulation.gov.ru/projects#npa=47103</td>\n",
       "      <td>[o_13_3]</td>\n",
       "      <td>[o_13_4]</td>\n",
       "      <td>-</td>\n",
       "      <td>-</td>\n",
       "      <td>non-applicable</td>\n",
       "    </tr>\n",
       "    <tr>\n",
       "      <th>2</th>\n",
       "      <td>7258</td>\n",
       "      <td>00/03-3241/06-13/10-13-2</td>\n",
       "      <td>Федеральная служба по надзору в сфере защиты п...</td>\n",
       "      <td>Отсутствуют</td>\n",
       "      <td>Проект постановления Главного государственного...</td>\n",
       "      <td>Согласно п. 1 ст. 25 Федерального закона от 30...</td>\n",
       "      <td>План разработки нормативных правовых актов сан...</td>\n",
       "      <td>Установление санитарно-эпидемиологических треб...</td>\n",
       "      <td>Установление санитарно-эпидемиологических треб...</td>\n",
       "      <td>Мурагимов Тимур Ильдарович, главный специалист...</td>\n",
       "      <td>...</td>\n",
       "      <td>[o_17_1]</td>\n",
       "      <td>[o_17_2]</td>\n",
       "      <td>[o_18_1]</td>\n",
       "      <td>[o_18_2]</td>\n",
       "      <td>[o_19_1]</td>\n",
       "      <td>[o_19_3]</td>\n",
       "      <td>[o_19_4]</td>\n",
       "      <td>[o_19_5]</td>\n",
       "      <td>[o_19_6]</td>\n",
       "      <td>non-applicable</td>\n",
       "    </tr>\n",
       "  </tbody>\n",
       "</table>\n",
       "<p>3 rows × 61 columns</p>\n",
       "</div>"
      ],
      "text/plain": [
       "   regulation_project_id                header: id  \\\n",
       "0                   7208  00/03-14385/04-14/13-5-5   \n",
       "1                   7243  00/03-3240/06-13/10-13-2   \n",
       "2                   7258  00/03-3241/06-13/10-13-2   \n",
       "\n",
       "  general_info: Федеральный орган исполнительной власти (далее – разработчик)  \\\n",
       "0  Министерство транспорта Российской Федерации -...                            \n",
       "1                                    Роспотребнадзор                            \n",
       "2  Федеральная служба по надзору в сфере защиты п...                            \n",
       "\n",
       "  general_info: Сведения о федеральных органах исполнительной власти – соисполнителях  \\\n",
       "0  Министерство труда и социальной защиты Российс...                                    \n",
       "1                                                нет                                    \n",
       "2                                        Отсутствуют                                    \n",
       "\n",
       "       general_info: Вид и наименование проекта акта  \\\n",
       "0  Проект приказа Минтранса России \"О внесении из...   \n",
       "1  Проект постановления Главного государственного...   \n",
       "2  Проект постановления Главного государственного...   \n",
       "\n",
       "  general_info: Краткое описание проблемы, на решение которой направлен предлагаемый способ регулирования  \\\n",
       "0  Отсутствие нормативного регулирования предоста...                                                        \n",
       "1  Установление требований к инсоляции (облучению...                                                        \n",
       "2  Согласно п. 1 ст. 25 Федерального закона от 30...                                                        \n",
       "\n",
       "  general_info: Основание для разработки проекта акта  \\\n",
       "0  Проект разработан в рамках реализации Федераль...    \n",
       "1  - Федеральный закон от 30.03.1999 № 52-ФЗ «О с...    \n",
       "2  План разработки нормативных правовых актов сан...    \n",
       "\n",
       "  general_info: Краткое описание целей предлагаемого регулирования  \\\n",
       "0  Нормативное регулирование предоставления услуг...                 \n",
       "1  В целях обеспечения безопасности здоровья насе...                 \n",
       "2  Установление санитарно-эпидемиологических треб...                 \n",
       "\n",
       "  general_info: Краткое описание предлагаемого способа регулирования  \\\n",
       "0                 Утверждение предлагаемых изменений                   \n",
       "1  В целях обеспечения безопасности здоровья насе...                   \n",
       "2  Установление санитарно-эпидемиологических треб...                   \n",
       "\n",
       "  general_info: Контактная информация исполнителя разработчика  ...  \\\n",
       "0  Сухарникова Екатерина Андреевна, Главный специ...            ...   \n",
       "1  Гуськов Андрей Сергеевич , заместитель начальн...            ...   \n",
       "2  Мурагимов Тимур Ильдарович, главный специалист...            ...   \n",
       "\n",
       "  anticorr_expertise: Указать (при наличии) количество поступивших заключений от независимых экспертов (шт.)  \\\n",
       "0                                                нет                                                           \n",
       "1                                           [o_11_1]                                                           \n",
       "2                                           [o_17_1]                                                           \n",
       "\n",
       "  anticorr_expertise: Выявленные коррупциогенные факторы и их способы устранения  \\\n",
       "0                                                нет                               \n",
       "1                                           [o_11_2]                               \n",
       "2                                           [o_17_2]                               \n",
       "\n",
       "  other_notification_info: Иные необходимые, по мнению разработчика, сведения  \\\n",
       "0  Проект согласован Минтрудом России письмом от ...                            \n",
       "1                                           [o_12_1]                            \n",
       "2                                           [o_18_1]                            \n",
       "\n",
       "  other_notification_info: Источники данных  \\\n",
       "0                                       нет   \n",
       "1                                  [o_12_2]   \n",
       "2                                  [o_18_2]   \n",
       "\n",
       "  public_discussion: Полный электронный адрес размещения проекта акта в информационно-телекоммуникационной сети «Интернет»  \\\n",
       "0         http://regulation.gov.ru/projects#npa=7208                                                                         \n",
       "1        http://regulation.gov.ru/projects#npa=47103                                                                         \n",
       "2                                           [o_19_1]                                                                         \n",
       "\n",
       "  public_discussion: Сведения о федеральных органах исполнительной власти и представителях предпринимательского сообщества, извещенных о проведении публичных консультаций  \\\n",
       "0  Минэкономразвития России, АЭВТ, ОАО \"Авиакомпа...                                                                                                                         \n",
       "1                                           [o_13_3]                                                                                                                         \n",
       "2                                           [o_19_3]                                                                                                                         \n",
       "\n",
       "  public_discussion: Сведения о лицах, представивших предложения  \\\n",
       "0                                                                  \n",
       "1                                           [o_13_4]               \n",
       "2                                           [o_19_4]               \n",
       "\n",
       "  public_discussion: Сведения о структурных подразделениях разработчика, рассмотревших предоставленные предложения  \\\n",
       "0                                                                                                                    \n",
       "1                                                  -                                                                 \n",
       "2                                           [o_19_5]                                                                 \n",
       "\n",
       "  public_discussion: Иные сведения о проведении публичного обсуждения проекта акта  \\\n",
       "0                                                нет                                 \n",
       "1                                                  -                                 \n",
       "2                                           [o_19_6]                                 \n",
       "\n",
       "  cancel_duties: Нормативный правовой акт, в котором содержатся отменяемые обязанности, запреты или ограничения  \n",
       "0                                                нет                                                             \n",
       "1                                     non-applicable                                                             \n",
       "2                                     non-applicable                                                             \n",
       "\n",
       "[3 rows x 61 columns]"
      ]
     },
     "execution_count": 56,
     "metadata": {},
     "output_type": "execute_result"
    }
   ],
   "source": [
    "main_rep_df = pd.read_csv(REP_PATH + 'ria_reports_main.csv', delimiter=';')\n",
    "main_rep_df.head(3)"
   ]
  },
  {
   "cell_type": "code",
   "execution_count": 57,
   "metadata": {},
   "outputs": [
    {
     "data": {
      "text/plain": [
       "(8807, 61)"
      ]
     },
     "execution_count": 57,
     "metadata": {},
     "output_type": "execute_result"
    }
   ],
   "source": [
    "main_rep_df.shape"
   ]
  },
  {
   "cell_type": "code",
   "execution_count": 58,
   "metadata": {},
   "outputs": [
    {
     "data": {
      "text/plain": [
       "117661    2\n",
       "60767     1\n",
       "73065     1\n",
       "42342     1\n",
       "81253     1\n",
       "Name: regulation_project_id, dtype: int64"
      ]
     },
     "execution_count": 58,
     "metadata": {},
     "output_type": "execute_result"
    }
   ],
   "source": [
    "main_rep_df['regulation_project_id'].value_counts()[:5]"
   ]
  },
  {
   "cell_type": "markdown",
   "metadata": {},
   "source": [
    "Заметим, что законопроект с id 117661 содержится здесь дважды"
   ]
  },
  {
   "cell_type": "code",
   "execution_count": 59,
   "metadata": {},
   "outputs": [
    {
     "data": {
      "text/html": [
       "<div>\n",
       "<style scoped>\n",
       "    .dataframe tbody tr th:only-of-type {\n",
       "        vertical-align: middle;\n",
       "    }\n",
       "\n",
       "    .dataframe tbody tr th {\n",
       "        vertical-align: top;\n",
       "    }\n",
       "\n",
       "    .dataframe thead th {\n",
       "        text-align: right;\n",
       "    }\n",
       "</style>\n",
       "<table border=\"1\" class=\"dataframe\">\n",
       "  <thead>\n",
       "    <tr style=\"text-align: right;\">\n",
       "      <th></th>\n",
       "      <th>regulation_project_id</th>\n",
       "      <th>header: id</th>\n",
       "      <th>general_info: Федеральный орган исполнительной власти (далее – разработчик)</th>\n",
       "      <th>general_info: Сведения о федеральных органах исполнительной власти – соисполнителях</th>\n",
       "      <th>general_info: Вид и наименование проекта акта</th>\n",
       "      <th>general_info: Краткое описание проблемы, на решение которой направлен предлагаемый способ регулирования</th>\n",
       "      <th>general_info: Основание для разработки проекта акта</th>\n",
       "      <th>general_info: Краткое описание целей предлагаемого регулирования</th>\n",
       "      <th>general_info: Краткое описание предлагаемого способа регулирования</th>\n",
       "      <th>general_info: Контактная информация исполнителя разработчика</th>\n",
       "      <th>...</th>\n",
       "      <th>anticorr_expertise: Указать (при наличии) количество поступивших заключений от независимых экспертов (шт.)</th>\n",
       "      <th>anticorr_expertise: Выявленные коррупциогенные факторы и их способы устранения</th>\n",
       "      <th>other_notification_info: Иные необходимые, по мнению разработчика, сведения</th>\n",
       "      <th>other_notification_info: Источники данных</th>\n",
       "      <th>public_discussion: Полный электронный адрес размещения проекта акта в информационно-телекоммуникационной сети «Интернет»</th>\n",
       "      <th>public_discussion: Сведения о федеральных органах исполнительной власти и представителях предпринимательского сообщества, извещенных о проведении публичных консультаций</th>\n",
       "      <th>public_discussion: Сведения о лицах, представивших предложения</th>\n",
       "      <th>public_discussion: Сведения о структурных подразделениях разработчика, рассмотревших предоставленные предложения</th>\n",
       "      <th>public_discussion: Иные сведения о проведении публичного обсуждения проекта акта</th>\n",
       "      <th>cancel_duties: Нормативный правовой акт, в котором содержатся отменяемые обязанности, запреты или ограничения</th>\n",
       "    </tr>\n",
       "  </thead>\n",
       "  <tbody>\n",
       "    <tr>\n",
       "      <th>8752</th>\n",
       "      <td>117661</td>\n",
       "      <td>02/04/07-21/00117661</td>\n",
       "      <td>Минвостокразвития России</td>\n",
       "      <td>Минприроды России, Минфин России</td>\n",
       "      <td>\"О внесении изменений в статью 343.6 части вто...</td>\n",
       "      <td>Высокие издержки на создание инфраструктуры дл...</td>\n",
       "      <td>пункт 82 плана законопроектной деятельности Пр...</td>\n",
       "      <td>Стимулирование инвестиционной деятельности в о...</td>\n",
       "      <td>Предоставление налогового вычета по налогу на ...</td>\n",
       "      <td>Дависвич О.Г., Заместитель директора Администр...</td>\n",
       "      <td>...</td>\n",
       "      <td>[o_18_1]</td>\n",
       "      <td>[o_18_2]</td>\n",
       "      <td>[o_19_1]</td>\n",
       "      <td>[o_19_2]</td>\n",
       "      <td>[o_20_1]</td>\n",
       "      <td>[o_20_3]</td>\n",
       "      <td>[o_20_4]</td>\n",
       "      <td>[o_20_5]</td>\n",
       "      <td>[o_20_6]</td>\n",
       "      <td>-</td>\n",
       "    </tr>\n",
       "    <tr>\n",
       "      <th>8753</th>\n",
       "      <td>117661</td>\n",
       "      <td>02/04/07-21/00117661</td>\n",
       "      <td>Минвостокразвития России</td>\n",
       "      <td>Минприроды России, Минфин России</td>\n",
       "      <td>\"О внесении изменений в статью 343.6 части вто...</td>\n",
       "      <td>Высокие издержки на создание инфраструктуры дл...</td>\n",
       "      <td>пункт 82 плана законопроектной деятельности Пр...</td>\n",
       "      <td>Стимулирование инвестиционной деятельности в о...</td>\n",
       "      <td>Предоставление налогового вычета по налогу на ...</td>\n",
       "      <td>Дависвич О.Г., Заместитель директора Администр...</td>\n",
       "      <td>...</td>\n",
       "      <td>0</td>\n",
       "      <td>0</td>\n",
       "      <td>-</td>\n",
       "      <td>-</td>\n",
       "      <td></td>\n",
       "      <td>[o_19_3]</td>\n",
       "      <td>[o_19_4]</td>\n",
       "      <td>[o_19_5]</td>\n",
       "      <td>[o_19_6]</td>\n",
       "      <td>non-applicable</td>\n",
       "    </tr>\n",
       "  </tbody>\n",
       "</table>\n",
       "<p>2 rows × 61 columns</p>\n",
       "</div>"
      ],
      "text/plain": [
       "      regulation_project_id            header: id  \\\n",
       "8752                 117661  02/04/07-21/00117661   \n",
       "8753                 117661  02/04/07-21/00117661   \n",
       "\n",
       "     general_info: Федеральный орган исполнительной власти (далее – разработчик)  \\\n",
       "8752                           Минвостокразвития России                            \n",
       "8753                           Минвостокразвития России                            \n",
       "\n",
       "     general_info: Сведения о федеральных органах исполнительной власти – соисполнителях  \\\n",
       "8752                   Минприроды России, Минфин России                                    \n",
       "8753                   Минприроды России, Минфин России                                    \n",
       "\n",
       "          general_info: Вид и наименование проекта акта  \\\n",
       "8752  \"О внесении изменений в статью 343.6 части вто...   \n",
       "8753  \"О внесении изменений в статью 343.6 части вто...   \n",
       "\n",
       "     general_info: Краткое описание проблемы, на решение которой направлен предлагаемый способ регулирования  \\\n",
       "8752  Высокие издержки на создание инфраструктуры дл...                                                        \n",
       "8753  Высокие издержки на создание инфраструктуры дл...                                                        \n",
       "\n",
       "     general_info: Основание для разработки проекта акта  \\\n",
       "8752  пункт 82 плана законопроектной деятельности Пр...    \n",
       "8753  пункт 82 плана законопроектной деятельности Пр...    \n",
       "\n",
       "     general_info: Краткое описание целей предлагаемого регулирования  \\\n",
       "8752  Стимулирование инвестиционной деятельности в о...                 \n",
       "8753  Стимулирование инвестиционной деятельности в о...                 \n",
       "\n",
       "     general_info: Краткое описание предлагаемого способа регулирования  \\\n",
       "8752  Предоставление налогового вычета по налогу на ...                   \n",
       "8753  Предоставление налогового вычета по налогу на ...                   \n",
       "\n",
       "     general_info: Контактная информация исполнителя разработчика  ...  \\\n",
       "8752  Дависвич О.Г., Заместитель директора Администр...            ...   \n",
       "8753  Дависвич О.Г., Заместитель директора Администр...            ...   \n",
       "\n",
       "     anticorr_expertise: Указать (при наличии) количество поступивших заключений от независимых экспертов (шт.)  \\\n",
       "8752                                           [o_18_1]                                                           \n",
       "8753                                                  0                                                           \n",
       "\n",
       "     anticorr_expertise: Выявленные коррупциогенные факторы и их способы устранения  \\\n",
       "8752                                           [o_18_2]                               \n",
       "8753                                                  0                               \n",
       "\n",
       "     other_notification_info: Иные необходимые, по мнению разработчика, сведения  \\\n",
       "8752                                           [o_19_1]                            \n",
       "8753                                                  -                            \n",
       "\n",
       "     other_notification_info: Источники данных  \\\n",
       "8752                                  [o_19_2]   \n",
       "8753                                         -   \n",
       "\n",
       "     public_discussion: Полный электронный адрес размещения проекта акта в информационно-телекоммуникационной сети «Интернет»  \\\n",
       "8752                                           [o_20_1]                                                                         \n",
       "8753                                                                                                                            \n",
       "\n",
       "     public_discussion: Сведения о федеральных органах исполнительной власти и представителях предпринимательского сообщества, извещенных о проведении публичных консультаций  \\\n",
       "8752                                           [o_20_3]                                                                                                                         \n",
       "8753                                           [o_19_3]                                                                                                                         \n",
       "\n",
       "     public_discussion: Сведения о лицах, представивших предложения  \\\n",
       "8752                                           [o_20_4]               \n",
       "8753                                           [o_19_4]               \n",
       "\n",
       "     public_discussion: Сведения о структурных подразделениях разработчика, рассмотревших предоставленные предложения  \\\n",
       "8752                                           [o_20_5]                                                                 \n",
       "8753                                           [o_19_5]                                                                 \n",
       "\n",
       "     public_discussion: Иные сведения о проведении публичного обсуждения проекта акта  \\\n",
       "8752                                           [o_20_6]                                 \n",
       "8753                                           [o_19_6]                                 \n",
       "\n",
       "     cancel_duties: Нормативный правовой акт, в котором содержатся отменяемые обязанности, запреты или ограничения  \n",
       "8752                                                  -                                                             \n",
       "8753                                     non-applicable                                                             \n",
       "\n",
       "[2 rows x 61 columns]"
      ]
     },
     "execution_count": 59,
     "metadata": {},
     "output_type": "execute_result"
    }
   ],
   "source": [
    "main_rep_df[main_rep_df['regulation_project_id'] == 117661]"
   ]
  },
  {
   "cell_type": "markdown",
   "metadata": {},
   "source": [
    "Оставим одну запись об этом законопроекте:"
   ]
  },
  {
   "cell_type": "code",
   "execution_count": 60,
   "metadata": {},
   "outputs": [],
   "source": [
    "main_rep_df.drop(8752, axis=0, inplace=True)"
   ]
  },
  {
   "cell_type": "markdown",
   "metadata": {},
   "source": [
    "Посмотрим на поле 'degree: Степень регулирующего воздействия проекта акта':"
   ]
  },
  {
   "cell_type": "code",
   "execution_count": 62,
   "metadata": {},
   "outputs": [
    {
     "data": {
      "text/plain": [
       "Средняя                                                                            4579\n",
       "Низкая                                                                             2086\n",
       "Высокая                                                                            1577\n",
       "средняя                                                                             243\n",
       "низкая                                                                              218\n",
       "высокая                                                                              85\n",
       "Средняя.                                                                              4\n",
       "Даныые будут предоставлены по результатам общественного обсуждения проекта акта       1\n",
       "Будет заполнено в процессе общественного обсуждения                                   1\n",
       "Информация будет внесена по завершению общественного обсуждения Проекта акта          1\n",
       "СРЕДНЯЯ                                                                               1\n",
       "Данные будкут внесены в ходе обсуждения проекта акта                                  1\n",
       "низкаяч                                                                               1\n",
       "Средн                                                                                 1\n",
       "низская                                                                               1\n",
       "ybprfz                                                                                1\n",
       "низкая степень регулирующего воздействия                                              1\n",
       "и                                                                                     1\n",
       "-                                                                                     1\n",
       "Будет заполнено в ходе прохождения общественного обсуждения проекта акта              1\n",
       "cредняя                                                                               1\n",
       "Name: degree: Степень регулирующего воздействия проекта акта, dtype: int64"
      ]
     },
     "execution_count": 62,
     "metadata": {},
     "output_type": "execute_result"
    }
   ],
   "source": [
    "main_rep_df['degree: Степень регулирующего воздействия проекта акта'].value_counts(dropna=False)"
   ]
  },
  {
   "cell_type": "markdown",
   "metadata": {},
   "source": [
    "Много 'замусоренных' значений, обработаем их:"
   ]
  },
  {
   "cell_type": "code",
   "execution_count": 63,
   "metadata": {},
   "outputs": [],
   "source": [
    "degree_dict = {'низкая': 1, 'средняя': 2, 'высокая': 3}\n",
    "\n",
    "def get_degree(degree_str):\n",
    "    degree_str_clear = degree_str.lower().strip()\n",
    "    if degree_str_clear in degree_dict:\n",
    "        return degree_dict[degree_str_clear]\n",
    "    return 0"
   ]
  },
  {
   "cell_type": "code",
   "execution_count": 64,
   "metadata": {},
   "outputs": [],
   "source": [
    "main_rep_df['degree'] = main_rep_df['degree: Степень регулирующего воздействия проекта акта'].map(get_degree)"
   ]
  },
  {
   "cell_type": "markdown",
   "metadata": {},
   "source": [
    "Для каждого отчета посчитаем степень его заполненности как общее количество символов во всех полях отчета:"
   ]
  },
  {
   "cell_type": "code",
   "execution_count": 66,
   "metadata": {},
   "outputs": [
    {
     "name": "stderr",
     "output_type": "stream",
     "text": [
      "100%|███████████████████████████████████| 8806/8806 [00:00<00:00, 66585.02it/s]\n"
     ]
    }
   ],
   "source": [
    "cols_to_calc_len = main_rep_df.columns[2:-2]\n",
    "\n",
    "len_sum = []\n",
    "\n",
    "strs_to_sum = main_rep_df.loc[:, cols_to_calc_len].values\n",
    "\n",
    "for i in tqdm(range(len(strs_to_sum))):\n",
    "    vals = [str(val) for val in strs_to_sum[i] if val==val]\n",
    "    sum_row = len(\"\".join(vals))\n",
    "    len_sum.append(sum_row)"
   ]
  },
  {
   "cell_type": "code",
   "execution_count": 67,
   "metadata": {},
   "outputs": [],
   "source": [
    "main_rep_df['rep_len_sum'] = len_sum"
   ]
  },
  {
   "cell_type": "markdown",
   "metadata": {},
   "source": [
    "Оценим влияние полей отчета на целевую переменную. Для этого сделаем LabelEncoding всех полей и воспользуемся Cramérs V в качестве меры ассоциации между двумя категориальными переменными:"
   ]
  },
  {
   "cell_type": "code",
   "execution_count": 79,
   "metadata": {},
   "outputs": [],
   "source": [
    "reps_df = main_rep_df.merge(data_all[['id', 'passed']].rename(columns={'id': 'regulation_project_id'}), \\\n",
    "                            on='regulation_project_id', how='left')\n",
    "\n",
    "reps_df = reps_df[~reps_df['passed'].isna()]\n",
    "reps_df['passed'] = reps_df['passed'].astype(int)"
   ]
  },
  {
   "cell_type": "code",
   "execution_count": 80,
   "metadata": {},
   "outputs": [],
   "source": [
    "import scipy.stats as stats\n",
    "\n",
    "rep_cols = [col for col in reps_df.columns[2:-3]]\n",
    "target_vals = reps_df['passed'].values\n",
    "\n",
    "lenc = LabelEncoder()\n",
    "\n",
    "rep_feat_imp = []\n",
    "\n",
    "for col in rep_cols:\n",
    "    col_vals = reps_df[col].fillna('nan').values\n",
    "    col_vals = lenc.fit_transform(col_vals) + 1\n",
    "    matrix = np.vstack((col_vals, target_vals)).T\n",
    "    \n",
    "    X2 = stats.chi2_contingency(matrix, correction=False)[0]\n",
    "    n = np.sum(matrix)\n",
    "    minDim = min(matrix.shape) - 1\n",
    "    V = np.sqrt((X2/n) / minDim)\n",
    "    rep_feat_imp.append([col, V])"
   ]
  },
  {
   "cell_type": "code",
   "execution_count": 83,
   "metadata": {},
   "outputs": [
    {
     "name": "stdout",
     "output_type": "stream",
     "text": [
      "degree: Степень регулирующего воздействия проекта акта 0.3973687905160855\n",
      "other_notification_info: Источники данных 0.3379936449057262\n",
      "public_discussion: Иные сведения о проведении публичного обсуждения проекта акта 0.3307742900276359\n",
      "public_discussion: Сведения о лицах, представивших предложения 0.32332375176628053\n",
      "anticorr_expertise: Выявленные коррупциогенные факторы и их способы устранения 0.3179829167213285\n",
      "public_discussion: Сведения о структурных подразделениях разработчика, рассмотревших предоставленные предложения 0.31739777836063043\n",
      "other_notification_info: Иные необходимые, по мнению разработчика, сведения 0.3149393127056094\n"
     ]
    },
    {
     "data": {
      "text/plain": [
       "[None, None, None, None, None, None, None]"
      ]
     },
     "execution_count": 83,
     "metadata": {},
     "output_type": "execute_result"
    }
   ],
   "source": [
    "[print(x, y) for x, y in sorted(rep_feat_imp, key=lambda x: x[1], reverse=True)[:7]]"
   ]
  },
  {
   "cell_type": "markdown",
   "metadata": {},
   "source": [
    "Видим, что признак 'degree: Степень регулирующего воздействия проекта акта' оказывает наибольшее значение на целевую переменную. Добавим этот признак и степень заполненности отчета к основному датасету:"
   ]
  },
  {
   "cell_type": "code",
   "execution_count": 78,
   "metadata": {},
   "outputs": [
    {
     "data": {
      "image/png": "[encoded data removed]",
      "text/plain": [
       "<Figure size 403.375x360 with 1 Axes>"
      ]
     },
     "metadata": {
      "needs_background": "light"
     },
     "output_type": "display_data"
    }
   ],
   "source": [
    "sns.catplot(x='degree', data=reps_df, hue = 'passed', kind = 'count');"
   ]
  },
  {
   "cell_type": "code",
   "execution_count": 85,
   "metadata": {},
   "outputs": [
    {
     "data": {
      "image/png": "[encoded data removed]",
      "text/plain": [
       "<Figure size 432x288 with 1 Axes>"
      ]
     },
     "metadata": {
      "needs_background": "light"
     },
     "output_type": "display_data"
    }
   ],
   "source": [
    "sns.kdeplot(reps_df['rep_len_sum'][reps_df['passed'] == 0], color='orange', clip=(0, 20000), shade=True);\n",
    "sns.kdeplot(reps_df['rep_len_sum'][reps_df['passed'] == 1], color='blue', clip=(0, 20000), shade=True);"
   ]
  },
  {
   "cell_type": "code",
   "execution_count": 74,
   "metadata": {},
   "outputs": [],
   "source": [
    "data_all = data_all.merge(main_rep_df[['regulation_project_id', 'degree', 'rep_len_sum']] \\\n",
    "                .rename(columns={'regulation_project_id': 'id'}), on='id', how='left')"
   ]
  },
  {
   "cell_type": "code",
   "execution_count": 75,
   "metadata": {},
   "outputs": [],
   "source": [
    "data_all['degree'] = data_all['degree'].fillna(-1).astype(int)\n",
    "data_all['rep_len_sum'] = data_all['rep_len_sum'].fillna(-1).astype(int)"
   ]
  },
  {
   "cell_type": "markdown",
   "metadata": {},
   "source": [
    "# 5. Добавим объем текста законопроекта из ria_reports_main.csv"
   ]
  },
  {
   "cell_type": "code",
   "execution_count": 87,
   "metadata": {},
   "outputs": [
    {
     "data": {
      "text/html": [
       "<div>\n",
       "<style scoped>\n",
       "    .dataframe tbody tr th:only-of-type {\n",
       "        vertical-align: middle;\n",
       "    }\n",
       "\n",
       "    .dataframe tbody tr th {\n",
       "        vertical-align: top;\n",
       "    }\n",
       "\n",
       "    .dataframe thead th {\n",
       "        text-align: right;\n",
       "    }\n",
       "</style>\n",
       "<table border=\"1\" class=\"dataframe\">\n",
       "  <thead>\n",
       "    <tr style=\"text-align: right;\">\n",
       "      <th></th>\n",
       "      <th>regulation_project_id</th>\n",
       "      <th>text</th>\n",
       "    </tr>\n",
       "  </thead>\n",
       "  <tbody>\n",
       "    <tr>\n",
       "      <th>0</th>\n",
       "      <td>100001</td>\n",
       "      <td>\\nПроект\\n\\nПРАВИТЕЛЬСТВО РОССИЙСКОЙ ФЕДЕРАЦИИ...</td>\n",
       "    </tr>\n",
       "    <tr>\n",
       "      <th>1</th>\n",
       "      <td>100002</td>\n",
       "      <td>\\nПроект\\n\\nПРАВИТЕЛЬСТВО РОССИЙСКОЙ ФЕДЕРАЦИИ...</td>\n",
       "    </tr>\n",
       "    <tr>\n",
       "      <th>2</th>\n",
       "      <td>100006</td>\n",
       "      <td>\\nпроект\\n\\nО внесении изменения в Правила заг...</td>\n",
       "    </tr>\n",
       "    <tr>\n",
       "      <th>3</th>\n",
       "      <td>100014</td>\n",
       "      <td>\\nПроект\\n\\nПРАВИТЕЛЬСТВО РОССИЙСКОЙ ФЕДЕРАЦИИ...</td>\n",
       "    </tr>\n",
       "    <tr>\n",
       "      <th>4</th>\n",
       "      <td>100016</td>\n",
       "      <td>\\nПРОЕКТ\\n\\nПРАВИТЕЛЬСТВО РОССИЙСКОЙ ФЕДЕРАЦИИ...</td>\n",
       "    </tr>\n",
       "  </tbody>\n",
       "</table>\n",
       "</div>"
      ],
      "text/plain": [
       "   regulation_project_id                                               text\n",
       "0                 100001  \\nПроект\\n\\nПРАВИТЕЛЬСТВО РОССИЙСКОЙ ФЕДЕРАЦИИ...\n",
       "1                 100002  \\nПроект\\n\\nПРАВИТЕЛЬСТВО РОССИЙСКОЙ ФЕДЕРАЦИИ...\n",
       "2                 100006  \\nпроект\\n\\nО внесении изменения в Правила заг...\n",
       "3                 100014  \\nПроект\\n\\nПРАВИТЕЛЬСТВО РОССИЙСКОЙ ФЕДЕРАЦИИ...\n",
       "4                 100016  \\nПРОЕКТ\\n\\nПРАВИТЕЛЬСТВО РОССИЙСКОЙ ФЕДЕРАЦИИ..."
      ]
     },
     "execution_count": 87,
     "metadata": {},
     "output_type": "execute_result"
    }
   ],
   "source": [
    "reg_texts = pd.read_csv(PATH + 'regulations_texts.csv', delimiter=';')\n",
    "reg_texts.head()"
   ]
  },
  {
   "cell_type": "code",
   "execution_count": 88,
   "metadata": {},
   "outputs": [
    {
     "data": {
      "text/plain": [
       "(11384, 2)"
      ]
     },
     "execution_count": 88,
     "metadata": {},
     "output_type": "execute_result"
    }
   ],
   "source": [
    "reg_texts.shape"
   ]
  },
  {
   "cell_type": "code",
   "execution_count": 89,
   "metadata": {},
   "outputs": [],
   "source": [
    "reg_texts['text_len'] = reg_texts['text'].map(len)"
   ]
  },
  {
   "cell_type": "code",
   "execution_count": 90,
   "metadata": {},
   "outputs": [],
   "source": [
    "data_all = data_all.merge(reg_texts.rename(columns={'regulation_project_id': 'id'})[['id', 'text_len']], on='id', how='left')"
   ]
  },
  {
   "cell_type": "code",
   "execution_count": 91,
   "metadata": {},
   "outputs": [],
   "source": [
    "data_all['text_len'] = data_all['text_len'].fillna(-1).astype(int)"
   ]
  },
  {
   "cell_type": "code",
   "execution_count": 92,
   "metadata": {},
   "outputs": [
    {
     "data": {
      "image/png": "[encoded data removed]",
      "text/plain": [
       "<Figure size 432x288 with 1 Axes>"
      ]
     },
     "metadata": {
      "needs_background": "light"
     },
     "output_type": "display_data"
    }
   ],
   "source": [
    "sns.kdeplot(data_all['text_len'][data_all['passed'] == 0], color='orange', clip=(0, 3e4), shade=True);\n",
    "sns.kdeplot(data_all['text_len'][data_all['passed'] == 1], color='blue', clip=(0, 3e4), shade=True);"
   ]
  },
  {
   "cell_type": "markdown",
   "metadata": {},
   "source": [
    "Можем заметить, что объем текста законопроекта действительно связан со значением целевой переменной."
   ]
  },
  {
   "cell_type": "code",
   "execution_count": 71,
   "metadata": {},
   "outputs": [
    {
     "data": {
      "text/plain": [
       "Index(['id', 'developer', 'okved_list', 'views_num', 'comments_num',\n",
       "       'likes_num', 'dislikes_num', 'regulatory_impact', 'added_by',\n",
       "       'responsible', 'is_regionally_signigicant',\n",
       "       'act_changes_controlling_activities', 'mineco_solution',\n",
       "       'problem_addressed', 'act_objectives', 'persons_affected_by_act',\n",
       "       'relations_regulated_by_act', 'act_significance', 'na_counts', 'passed',\n",
       "       'cluster_kmeans_new_3', 'cluster_kmeans_new_4', 'cluster_kmeans_new_5',\n",
       "       'cluster_kmeans_new_6', 'cluster_kmeans_new_7', 'cluster_kmeans_new_8',\n",
       "       'cluster_kmeans_ngram_3', 'cluster_kmeans_ngram_4',\n",
       "       'cluster_kmeans_ngram_5', 'cluster_kmeans_ngram_6',\n",
       "       'cluster_kmeans_ngram_7', 'cluster_kmeans_ngram_8', 'publication_year',\n",
       "       'publication_month', 'publication_day', 'added_resp', 'degree',\n",
       "       'rep_len_sum', 'text_len'],\n",
       "      dtype='object')"
      ]
     },
     "execution_count": 71,
     "metadata": {},
     "output_type": "execute_result"
    }
   ],
   "source": [
    "data_all.columns"
   ]
  },
  {
   "cell_type": "markdown",
   "metadata": {},
   "source": [
    "# 6. Финальная модель"
   ]
  },
  {
   "cell_type": "code",
   "execution_count": 93,
   "metadata": {},
   "outputs": [
    {
     "data": {
      "text/html": [
       "<div>\n",
       "<style scoped>\n",
       "    .dataframe tbody tr th:only-of-type {\n",
       "        vertical-align: middle;\n",
       "    }\n",
       "\n",
       "    .dataframe tbody tr th {\n",
       "        vertical-align: top;\n",
       "    }\n",
       "\n",
       "    .dataframe thead th {\n",
       "        text-align: right;\n",
       "    }\n",
       "</style>\n",
       "<table border=\"1\" class=\"dataframe\">\n",
       "  <thead>\n",
       "    <tr style=\"text-align: right;\">\n",
       "      <th></th>\n",
       "      <th>id</th>\n",
       "      <th>developer</th>\n",
       "      <th>okved_list</th>\n",
       "      <th>views_num</th>\n",
       "      <th>comments_num</th>\n",
       "      <th>likes_num</th>\n",
       "      <th>dislikes_num</th>\n",
       "      <th>regulatory_impact</th>\n",
       "      <th>added_by</th>\n",
       "      <th>responsible</th>\n",
       "      <th>...</th>\n",
       "      <th>passed</th>\n",
       "      <th>cluster_kmeans_ngram_6</th>\n",
       "      <th>cluster_kmeans_ngram_8</th>\n",
       "      <th>publication_year</th>\n",
       "      <th>publication_month</th>\n",
       "      <th>publication_day</th>\n",
       "      <th>added_resp</th>\n",
       "      <th>degree</th>\n",
       "      <th>rep_len_sum</th>\n",
       "      <th>text_len</th>\n",
       "    </tr>\n",
       "  </thead>\n",
       "  <tbody>\n",
       "    <tr>\n",
       "      <th>0</th>\n",
       "      <td>5038</td>\n",
       "      <td>94</td>\n",
       "      <td>0</td>\n",
       "      <td>376</td>\n",
       "      <td>0</td>\n",
       "      <td>0</td>\n",
       "      <td>0</td>\n",
       "      <td>1</td>\n",
       "      <td>4949</td>\n",
       "      <td>4949</td>\n",
       "      <td>...</td>\n",
       "      <td>0.0</td>\n",
       "      <td>0</td>\n",
       "      <td>1</td>\n",
       "      <td>2013</td>\n",
       "      <td>9</td>\n",
       "      <td>11</td>\n",
       "      <td>1</td>\n",
       "      <td>-1</td>\n",
       "      <td>-1</td>\n",
       "      <td>-1</td>\n",
       "    </tr>\n",
       "    <tr>\n",
       "      <th>1</th>\n",
       "      <td>5039</td>\n",
       "      <td>30</td>\n",
       "      <td>160</td>\n",
       "      <td>504</td>\n",
       "      <td>0</td>\n",
       "      <td>0</td>\n",
       "      <td>0</td>\n",
       "      <td>1</td>\n",
       "      <td>6202</td>\n",
       "      <td>5598</td>\n",
       "      <td>...</td>\n",
       "      <td>0.0</td>\n",
       "      <td>5</td>\n",
       "      <td>5</td>\n",
       "      <td>2013</td>\n",
       "      <td>6</td>\n",
       "      <td>11</td>\n",
       "      <td>0</td>\n",
       "      <td>-1</td>\n",
       "      <td>-1</td>\n",
       "      <td>-1</td>\n",
       "    </tr>\n",
       "    <tr>\n",
       "      <th>2</th>\n",
       "      <td>5040</td>\n",
       "      <td>72</td>\n",
       "      <td>780</td>\n",
       "      <td>428</td>\n",
       "      <td>0</td>\n",
       "      <td>0</td>\n",
       "      <td>0</td>\n",
       "      <td>1</td>\n",
       "      <td>7368</td>\n",
       "      <td>4497</td>\n",
       "      <td>...</td>\n",
       "      <td>0.0</td>\n",
       "      <td>0</td>\n",
       "      <td>1</td>\n",
       "      <td>2013</td>\n",
       "      <td>4</td>\n",
       "      <td>29</td>\n",
       "      <td>0</td>\n",
       "      <td>-1</td>\n",
       "      <td>-1</td>\n",
       "      <td>-1</td>\n",
       "    </tr>\n",
       "    <tr>\n",
       "      <th>3</th>\n",
       "      <td>5041</td>\n",
       "      <td>21</td>\n",
       "      <td>220</td>\n",
       "      <td>376</td>\n",
       "      <td>0</td>\n",
       "      <td>0</td>\n",
       "      <td>0</td>\n",
       "      <td>1</td>\n",
       "      <td>1596</td>\n",
       "      <td>4977</td>\n",
       "      <td>...</td>\n",
       "      <td>1.0</td>\n",
       "      <td>2</td>\n",
       "      <td>2</td>\n",
       "      <td>2013</td>\n",
       "      <td>10</td>\n",
       "      <td>21</td>\n",
       "      <td>0</td>\n",
       "      <td>-1</td>\n",
       "      <td>-1</td>\n",
       "      <td>-1</td>\n",
       "    </tr>\n",
       "    <tr>\n",
       "      <th>4</th>\n",
       "      <td>5042</td>\n",
       "      <td>22</td>\n",
       "      <td>0</td>\n",
       "      <td>499</td>\n",
       "      <td>0</td>\n",
       "      <td>0</td>\n",
       "      <td>0</td>\n",
       "      <td>1</td>\n",
       "      <td>6932</td>\n",
       "      <td>6932</td>\n",
       "      <td>...</td>\n",
       "      <td>NaN</td>\n",
       "      <td>0</td>\n",
       "      <td>2</td>\n",
       "      <td>2014</td>\n",
       "      <td>2</td>\n",
       "      <td>24</td>\n",
       "      <td>1</td>\n",
       "      <td>-1</td>\n",
       "      <td>-1</td>\n",
       "      <td>2837</td>\n",
       "    </tr>\n",
       "  </tbody>\n",
       "</table>\n",
       "<p>5 rows × 29 columns</p>\n",
       "</div>"
      ],
      "text/plain": [
       "     id  developer  okved_list  views_num  comments_num  likes_num  \\\n",
       "0  5038         94           0        376             0          0   \n",
       "1  5039         30         160        504             0          0   \n",
       "2  5040         72         780        428             0          0   \n",
       "3  5041         21         220        376             0          0   \n",
       "4  5042         22           0        499             0          0   \n",
       "\n",
       "   dislikes_num  regulatory_impact  added_by  responsible  ...  passed  \\\n",
       "0             0                  1      4949         4949  ...     0.0   \n",
       "1             0                  1      6202         5598  ...     0.0   \n",
       "2             0                  1      7368         4497  ...     0.0   \n",
       "3             0                  1      1596         4977  ...     1.0   \n",
       "4             0                  1      6932         6932  ...     NaN   \n",
       "\n",
       "   cluster_kmeans_ngram_6  cluster_kmeans_ngram_8  publication_year  \\\n",
       "0                       0                       1              2013   \n",
       "1                       5                       5              2013   \n",
       "2                       0                       1              2013   \n",
       "3                       2                       2              2013   \n",
       "4                       0                       2              2014   \n",
       "\n",
       "   publication_month  publication_day  added_resp  degree  rep_len_sum  \\\n",
       "0                  9               11           1      -1           -1   \n",
       "1                  6               11           0      -1           -1   \n",
       "2                  4               29           0      -1           -1   \n",
       "3                 10               21           0      -1           -1   \n",
       "4                  2               24           1      -1           -1   \n",
       "\n",
       "   text_len  \n",
       "0        -1  \n",
       "1        -1  \n",
       "2        -1  \n",
       "3        -1  \n",
       "4      2837  \n",
       "\n",
       "[5 rows x 29 columns]"
      ]
     },
     "execution_count": 93,
     "metadata": {},
     "output_type": "execute_result"
    }
   ],
   "source": [
    "data_all.head()"
   ]
  },
  {
   "cell_type": "code",
   "execution_count": 94,
   "metadata": {},
   "outputs": [
    {
     "data": {
      "text/plain": [
       "Index(['id', 'developer', 'okved_list', 'views_num', 'comments_num',\n",
       "       'likes_num', 'dislikes_num', 'regulatory_impact', 'added_by',\n",
       "       'responsible', 'is_regionally_signigicant',\n",
       "       'act_changes_controlling_activities', 'mineco_solution',\n",
       "       'problem_addressed', 'act_objectives', 'persons_affected_by_act',\n",
       "       'relations_regulated_by_act', 'act_significance', 'na_counts', 'passed',\n",
       "       'cluster_kmeans_ngram_6', 'cluster_kmeans_ngram_8', 'publication_year',\n",
       "       'publication_month', 'publication_day', 'added_resp', 'degree',\n",
       "       'rep_len_sum', 'text_len'],\n",
       "      dtype='object')"
      ]
     },
     "execution_count": 94,
     "metadata": {},
     "output_type": "execute_result"
    }
   ],
   "source": [
    "data_all.columns"
   ]
  },
  {
   "cell_type": "code",
   "execution_count": 79,
   "metadata": {},
   "outputs": [],
   "source": [
    "# Сохраним финальный датасет, чтобы не запускать заново весь ноутбук\n",
    "\n",
    "# data_all.to_csv(PATH + 'regulations_final.csv', index=False)\n",
    "\n",
    "# data_all = pd.read_csv(PATH + 'regulations_final.csv')"
   ]
  },
  {
   "cell_type": "code",
   "execution_count": 96,
   "metadata": {},
   "outputs": [],
   "source": [
    "data_train = data_all[~data_all['passed'].isna()]\n",
    "data_test = data_all[data_all['passed'].isna()]"
   ]
  },
  {
   "cell_type": "code",
   "execution_count": 97,
   "metadata": {},
   "outputs": [],
   "source": [
    "feats_to_del = ['passed', 'id', \n",
    "                'problem_addressed', 'act_significance'] # Данные признаки оказали негативное влияние на качество модели\n",
    "\n",
    "X_train = data_train.drop(feats_to_del, axis=1)\n",
    "X_test = data_test.drop(feats_to_del, axis=1)\n",
    "\n",
    "y = data_train['passed'].astype(int)"
   ]
  },
  {
   "cell_type": "code",
   "execution_count": 99,
   "metadata": {},
   "outputs": [
    {
     "data": {
      "text/plain": [
       "((81006, 25), (4000, 25))"
      ]
     },
     "execution_count": 99,
     "metadata": {},
     "output_type": "execute_result"
    }
   ],
   "source": [
    "X_train.shape, X_test.shape"
   ]
  },
  {
   "cell_type": "code",
   "execution_count": 103,
   "metadata": {},
   "outputs": [],
   "source": [
    "X_train_ctb, X_val_ctb, y_train_ctb, y_val_ctb = train_test_split(X_train, y, test_size=0.2, \\\n",
    "                                shuffle=True, stratify=y, random_state=SEED, )"
   ]
  },
  {
   "cell_type": "markdown",
   "metadata": {},
   "source": [
    "Разделим все признаки на числовые и категориальные:"
   ]
  },
  {
   "cell_type": "code",
   "execution_count": 104,
   "metadata": {},
   "outputs": [
    {
     "data": {
      "text/plain": [
       "{'act_changes_controlling_activities',\n",
       " 'act_objectives',\n",
       " 'added_by',\n",
       " 'added_resp',\n",
       " 'cluster_kmeans_ngram_6',\n",
       " 'cluster_kmeans_ngram_8',\n",
       " 'degree',\n",
       " 'developer',\n",
       " 'is_regionally_signigicant',\n",
       " 'mineco_solution',\n",
       " 'okved_list',\n",
       " 'persons_affected_by_act',\n",
       " 'publication_day',\n",
       " 'publication_month',\n",
       " 'publication_year',\n",
       " 'regulatory_impact',\n",
       " 'relations_regulated_by_act',\n",
       " 'responsible'}"
      ]
     },
     "execution_count": 104,
     "metadata": {},
     "output_type": "execute_result"
    }
   ],
   "source": [
    "cat_cols = list(['developer', 'okved_list', 'added_by', 'responsible', 'act_changes_controlling_activities', \\\n",
    "            'act_objectives', 'persons_affected_by_act', 'relations_regulated_by_act', \\\n",
    "            'publication_year', 'publication_month', 'publication_day', 'mineco_solution', \\\n",
    "           'regulatory_impact', 'is_regionally_signigicant', 'cluster_kmeans_ngram_6', 'cluster_kmeans_ngram_8', \\\n",
    "                 'added_resp', 'degree'] )\n",
    "\n",
    "cat_cols = set(cat_cols) - set(feats_to_del)\n",
    "cat_cols"
   ]
  },
  {
   "cell_type": "code",
   "execution_count": 105,
   "metadata": {},
   "outputs": [
    {
     "data": {
      "text/plain": [
       "{'comments_num',\n",
       " 'dislikes_num',\n",
       " 'likes_num',\n",
       " 'na_counts',\n",
       " 'rep_len_sum',\n",
       " 'text_len',\n",
       " 'views_num'}"
      ]
     },
     "execution_count": 105,
     "metadata": {},
     "output_type": "execute_result"
    }
   ],
   "source": [
    "num_cols = set(X_train.columns) - set(cat_cols)\n",
    "num_cols"
   ]
  },
  {
   "cell_type": "markdown",
   "metadata": {},
   "source": [
    "Воспользуемся одной из реализаций градиентного бустинга - CatBoost. Этот классификатор хорошо работает с категориальными признаками, которых достаточно много в нашей модели: "
   ]
  },
  {
   "cell_type": "code",
   "execution_count": 106,
   "metadata": {},
   "outputs": [
    {
     "data": {
      "application/vnd.jupyter.widget-view+json": {
       "model_id": "b4298c3d1ede40baa46e6d6907467d99",
       "version_major": 2,
       "version_minor": 0
      },
      "text/plain": [
       "MetricVisualizer(layout=Layout(align_self='stretch', height='500px'))"
      ]
     },
     "metadata": {},
     "output_type": "display_data"
    },
    {
     "name": "stdout",
     "output_type": "stream",
     "text": [
      "0:\ttest: 0.7884435\tbest: 0.7884435 (0)\ttotal: 272ms\tremaining: 6m 20s\n",
      "50:\ttest: 0.9237748\tbest: 0.9237748 (50)\ttotal: 8.31s\tremaining: 3m 39s\n",
      "100:\ttest: 0.9276045\tbest: 0.9276045 (100)\ttotal: 17.2s\tremaining: 3m 40s\n",
      "150:\ttest: 0.9292569\tbest: 0.9292569 (150)\ttotal: 25.9s\tremaining: 3m 34s\n",
      "200:\ttest: 0.9300941\tbest: 0.9301001 (199)\ttotal: 34.8s\tremaining: 3m 27s\n",
      "250:\ttest: 0.9307236\tbest: 0.9307236 (250)\ttotal: 43.5s\tremaining: 3m 18s\n",
      "300:\ttest: 0.9310689\tbest: 0.9310791 (298)\ttotal: 52s\tremaining: 3m 9s\n",
      "350:\ttest: 0.9314293\tbest: 0.9314293 (350)\ttotal: 1m\tremaining: 3m 1s\n",
      "400:\ttest: 0.9318382\tbest: 0.9318382 (400)\ttotal: 1m 9s\tremaining: 2m 54s\n",
      "450:\ttest: 0.9320475\tbest: 0.9320716 (444)\ttotal: 1m 19s\tremaining: 2m 46s\n",
      "500:\ttest: 0.9322468\tbest: 0.9322481 (490)\ttotal: 1m 28s\tremaining: 2m 37s\n",
      "550:\ttest: 0.9326167\tbest: 0.9326353 (546)\ttotal: 1m 37s\tremaining: 2m 30s\n",
      "600:\ttest: 0.9328683\tbest: 0.9328683 (600)\ttotal: 1m 48s\tremaining: 2m 24s\n",
      "650:\ttest: 0.9329039\tbest: 0.9329569 (626)\ttotal: 1m 57s\tremaining: 2m 15s\n",
      "700:\ttest: 0.9329041\tbest: 0.9329618 (668)\ttotal: 2m 6s\tremaining: 2m 5s\n",
      "750:\ttest: 0.9328099\tbest: 0.9329618 (668)\ttotal: 2m 15s\tremaining: 1m 57s\n",
      "800:\ttest: 0.9329465\tbest: 0.9329618 (668)\ttotal: 2m 25s\tremaining: 1m 48s\n",
      "850:\ttest: 0.9330180\tbest: 0.9330439 (847)\ttotal: 2m 34s\tremaining: 1m 39s\n",
      "900:\ttest: 0.9329098\tbest: 0.9330439 (847)\ttotal: 2m 43s\tremaining: 1m 30s\n",
      "950:\ttest: 0.9328333\tbest: 0.9330439 (847)\ttotal: 2m 52s\tremaining: 1m 21s\n",
      "1000:\ttest: 0.9328693\tbest: 0.9330439 (847)\ttotal: 3m 1s\tremaining: 1m 12s\n",
      "1050:\ttest: 0.9329308\tbest: 0.9330439 (847)\ttotal: 3m 10s\tremaining: 1m 3s\n",
      "1100:\ttest: 0.9329992\tbest: 0.9330439 (847)\ttotal: 3m 20s\tremaining: 54.4s\n",
      "1150:\ttest: 0.9329533\tbest: 0.9330439 (847)\ttotal: 3m 30s\tremaining: 45.5s\n",
      "1200:\ttest: 0.9328989\tbest: 0.9330439 (847)\ttotal: 3m 39s\tremaining: 36.4s\n",
      "1250:\ttest: 0.9329792\tbest: 0.9330439 (847)\ttotal: 3m 48s\tremaining: 27.2s\n",
      "1300:\ttest: 0.9330361\tbest: 0.9330439 (847)\ttotal: 3m 57s\tremaining: 18.1s\n",
      "1350:\ttest: 0.9330073\tbest: 0.9331589 (1323)\ttotal: 4m 7s\tremaining: 8.98s\n",
      "1399:\ttest: 0.9330052\tbest: 0.9331589 (1323)\ttotal: 4m 16s\tremaining: 0us\n",
      "\n",
      "bestTest = 0.9331589046\n",
      "bestIteration = 1323\n",
      "\n",
      "Shrink model to first 1324 iterations.\n"
     ]
    },
    {
     "data": {
      "text/plain": [
       "<catboost.core.CatBoostClassifier at 0x17abc1879a0>"
      ]
     },
     "execution_count": 106,
     "metadata": {},
     "output_type": "execute_result"
    }
   ],
   "source": [
    "ctb = CatBoostClassifier(depth=7, iterations=1400, learning_rate=0.09, \\\n",
    "                         random_seed=SEED, eval_metric='AUC') \n",
    "\n",
    "ctb.fit(X_train_ctb, y_train_ctb, \\\n",
    "        cat_features=cat_cols, \\\n",
    "        eval_set=(X_val_ctb, y_val_ctb), \\\n",
    "        plot=True, verbose=50)"
   ]
  },
  {
   "cell_type": "code",
   "execution_count": 107,
   "metadata": {},
   "outputs": [],
   "source": [
    "# Функция вывода информации о важности признаков в построенной модели\n",
    "def print_feat_imp(feat_names, feat_values, n_features=30, draw_bar=True, print_val=False):\n",
    "    max_name_len = 40\n",
    "    feat_imp = dict(zip(feat_names, feat_values))\n",
    "    feat_dict = sorted(feat_imp.items(), key=lambda item: abs(item[1]), reverse=True)\n",
    "    if not n_features:\n",
    "        n_features = len(feat_values)\n",
    "    if print_val:    \n",
    "        { print('{}: {:.6f}'.format(k, v)) for k, v in feat_dict[:n_features] }\n",
    "    if draw_bar:\n",
    "        plt.figure(figsize=(10, 8));\n",
    "        sns.set(font_scale=1.1)\n",
    "        bar = sns.barplot(y=list(map(lambda x: x[0][:max_name_len], feat_dict))[:n_features], \\\n",
    "            x=list(map(lambda x: x[1], feat_dict))[:n_features],\n",
    "            orient='h');\n",
    "        bar.set(title='Feature importance')"
   ]
  },
  {
   "cell_type": "code",
   "execution_count": 108,
   "metadata": {},
   "outputs": [
    {
     "data": {
      "image/png": "[encoded data removed]",
      "text/plain": [
       "<Figure size 720x576 with 1 Axes>"
      ]
     },
     "metadata": {
      "needs_background": "light"
     },
     "output_type": "display_data"
    }
   ],
   "source": [
    "print_feat_imp(X_train.columns, ctb.get_feature_importance())"
   ]
  },
  {
   "cell_type": "code",
   "execution_count": 109,
   "metadata": {},
   "outputs": [],
   "source": [
    "del ctb"
   ]
  },
  {
   "cell_type": "markdown",
   "metadata": {},
   "source": [
    "Обучим модель на всех данных, увеличив количество итераций в 1.2 раза, и сделаем предсказание: "
   ]
  },
  {
   "cell_type": "code",
   "execution_count": 110,
   "metadata": {},
   "outputs": [
    {
     "data": {
      "application/vnd.jupyter.widget-view+json": {
       "model_id": "90169d92c78b4ca49bf9e7d64020f859",
       "version_major": 2,
       "version_minor": 0
      },
      "text/plain": [
       "MetricVisualizer(layout=Layout(align_self='stretch', height='500px'))"
      ]
     },
     "metadata": {},
     "output_type": "display_data"
    },
    {
     "name": "stdout",
     "output_type": "stream",
     "text": [
      "0:\tlearn: 0.6133592\ttotal: 192ms\tremaining: 5m 2s\n",
      "200:\tlearn: 0.2161730\ttotal: 40.2s\tremaining: 4m 35s\n",
      "400:\tlearn: 0.2033423\ttotal: 1m 23s\tremaining: 4m 4s\n",
      "600:\tlearn: 0.1939911\ttotal: 2m 4s\tremaining: 3m 22s\n",
      "800:\tlearn: 0.1854469\ttotal: 2m 45s\tremaining: 2m 40s\n",
      "1000:\tlearn: 0.1771107\ttotal: 3m 26s\tremaining: 1m 59s\n",
      "1200:\tlearn: 0.1697774\ttotal: 4m 10s\tremaining: 1m 18s\n",
      "1400:\tlearn: 0.1629863\ttotal: 4m 53s\tremaining: 37.5s\n",
      "1579:\tlearn: 0.1574680\ttotal: 5m 32s\tremaining: 0us\n"
     ]
    },
    {
     "data": {
      "text/plain": [
       "<catboost.core.CatBoostClassifier at 0x17aa482ec40>"
      ]
     },
     "execution_count": 110,
     "metadata": {},
     "output_type": "execute_result"
    }
   ],
   "source": [
    "ctb_final = CatBoostClassifier(depth=7, iterations=1580, learning_rate=0.09, \\\n",
    "                               random_seed=SEED) \n",
    "\n",
    "ctb_final.fit(X_train, y, \\\n",
    "        cat_features=cat_cols, \\\n",
    "        plot=True, verbose=200)"
   ]
  },
  {
   "cell_type": "code",
   "execution_count": 119,
   "metadata": {},
   "outputs": [
    {
     "name": "stderr",
     "output_type": "stream",
     "text": [
      "<ipython-input-119-82f87f5a2852>:2: SettingWithCopyWarning: \n",
      "A value is trying to be set on a copy of a slice from a DataFrame.\n",
      "Try using .loc[row_indexer,col_indexer] = value instead\n",
      "\n",
      "See the caveats in the documentation: https://pandas.pydata.org/pandas-docs/stable/user_guide/indexing.html#returning-a-view-versus-a-copy\n",
      "  data_test['passed'] = y_test_prob_pred\n"
     ]
    }
   ],
   "source": [
    "y_test_prob_pred = ctb_final.predict_proba(X_test)[:, 1]\n",
    "data_test['passed'] = y_test_prob_pred"
   ]
  },
  {
   "cell_type": "code",
   "execution_count": 120,
   "metadata": {},
   "outputs": [],
   "source": [
    "subm_my = pd.DataFrame(subm['id']).merge(data_test[['id', 'passed']], on='id', how='outer')\n",
    "\n",
    "subm_my.to_csv(PATH + 'submission_ctb.csv', index=False)"
   ]
  }
 ],
 "metadata": {
  "kernelspec": {
   "display_name": "Python 3",
   "language": "python",
   "name": "python3"
  },
  "language_info": {
   "codemirror_mode": {
    "name": "ipython",
    "version": 3
   },
   "file_extension": ".py",
   "mimetype": "text/x-python",
   "name": "python",
   "nbconvert_exporter": "python",
   "pygments_lexer": "ipython3",
   "version": "3.8.5"
  }
 },
 "nbformat": 4,
 "nbformat_minor": 4
}
